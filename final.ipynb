{
 "metadata": {
  "language_info": {
   "codemirror_mode": {
    "name": "ipython",
    "version": 3
   },
   "file_extension": ".py",
   "mimetype": "text/x-python",
   "name": "python",
   "nbconvert_exporter": "python",
   "pygments_lexer": "ipython3",
   "version": "3.8.3-final"
  },
  "orig_nbformat": 2,
  "kernelspec": {
   "name": "python3",
   "display_name": "Python 3",
   "language": "python"
  }
 },
 "nbformat": 4,
 "nbformat_minor": 2,
 "cells": [
  {
   "source": [
    "## Import Libraries"
   ],
   "cell_type": "markdown",
   "metadata": {}
  },
  {
   "cell_type": "code",
   "execution_count": 85,
   "metadata": {},
   "outputs": [],
   "source": [
    "import numpy as np \n",
    "import pandas as pd \n",
    "import json\n",
    "from geopy.geocoders import Nominatim\n",
    "import geocoder \n",
    "import requests\n",
    "from bs4 import BeautifulSoup\n",
    "import matplotlib.cm as cm\n",
    "import matplotlib.colors as colors\n",
    "\n",
    "from sklearn.cluster import KMeans\n",
    "import folium"
   ]
  },
  {
   "cell_type": "code",
   "execution_count": 77,
   "metadata": {},
   "outputs": [
    {
     "output_type": "execute_result",
     "data": {
      "text/plain": [
       "       neighborhood\n",
       "0            Changi\n",
       "1           Geylang\n",
       "2         Woodlands\n",
       "3     Tanjong Pagar\n",
       "4   Holland Village\n",
       "5         Chinatown\n",
       "6      Kampong Glam\n",
       "7       Bukit Timah\n",
       "8            Katong\n",
       "9          Tampines\n",
       "10            Bedok\n",
       "11       Queenstown\n",
       "12          Punggol\n",
       "13        Toa Payoh\n",
       "14        Pasir Ris\n",
       "15           Yishun\n",
       "16         Sengkang\n",
       "17        Sembawang\n",
       "18         Clementi\n",
       "19       Ang Mo Kio\n",
       "20      Tiong Bahru\n",
       "21        Serangoon\n",
       "22    Choa Chu Kang\n",
       "23     Harbourfront\n",
       "24          Tanglin\n",
       "25          Seletar\n",
       "26    Marine Parade\n",
       "27      Jurong East\n",
       "28           Rochor\n",
       "29    Bukit Panjang\n",
       "30           Novena\n",
       "31           Siglap\n",
       "32          Kallang\n",
       "33           Outram\n",
       "34           Bisham\n",
       "35       Paya Lebar\n",
       "36          Hougang\n",
       "37          Boonlay"
      ],
      "text/html": "<div>\n<style scoped>\n    .dataframe tbody tr th:only-of-type {\n        vertical-align: middle;\n    }\n\n    .dataframe tbody tr th {\n        vertical-align: top;\n    }\n\n    .dataframe thead th {\n        text-align: right;\n    }\n</style>\n<table border=\"1\" class=\"dataframe\">\n  <thead>\n    <tr style=\"text-align: right;\">\n      <th></th>\n      <th>neighborhood</th>\n    </tr>\n  </thead>\n  <tbody>\n    <tr>\n      <th>0</th>\n      <td>Changi</td>\n    </tr>\n    <tr>\n      <th>1</th>\n      <td>Geylang</td>\n    </tr>\n    <tr>\n      <th>2</th>\n      <td>Woodlands</td>\n    </tr>\n    <tr>\n      <th>3</th>\n      <td>Tanjong Pagar</td>\n    </tr>\n    <tr>\n      <th>4</th>\n      <td>Holland Village</td>\n    </tr>\n    <tr>\n      <th>5</th>\n      <td>Chinatown</td>\n    </tr>\n    <tr>\n      <th>6</th>\n      <td>Kampong Glam</td>\n    </tr>\n    <tr>\n      <th>7</th>\n      <td>Bukit Timah</td>\n    </tr>\n    <tr>\n      <th>8</th>\n      <td>Katong</td>\n    </tr>\n    <tr>\n      <th>9</th>\n      <td>Tampines</td>\n    </tr>\n    <tr>\n      <th>10</th>\n      <td>Bedok</td>\n    </tr>\n    <tr>\n      <th>11</th>\n      <td>Queenstown</td>\n    </tr>\n    <tr>\n      <th>12</th>\n      <td>Punggol</td>\n    </tr>\n    <tr>\n      <th>13</th>\n      <td>Toa Payoh</td>\n    </tr>\n    <tr>\n      <th>14</th>\n      <td>Pasir Ris</td>\n    </tr>\n    <tr>\n      <th>15</th>\n      <td>Yishun</td>\n    </tr>\n    <tr>\n      <th>16</th>\n      <td>Sengkang</td>\n    </tr>\n    <tr>\n      <th>17</th>\n      <td>Sembawang</td>\n    </tr>\n    <tr>\n      <th>18</th>\n      <td>Clementi</td>\n    </tr>\n    <tr>\n      <th>19</th>\n      <td>Ang Mo Kio</td>\n    </tr>\n    <tr>\n      <th>20</th>\n      <td>Tiong Bahru</td>\n    </tr>\n    <tr>\n      <th>21</th>\n      <td>Serangoon</td>\n    </tr>\n    <tr>\n      <th>22</th>\n      <td>Choa Chu Kang</td>\n    </tr>\n    <tr>\n      <th>23</th>\n      <td>Harbourfront</td>\n    </tr>\n    <tr>\n      <th>24</th>\n      <td>Tanglin</td>\n    </tr>\n    <tr>\n      <th>25</th>\n      <td>Seletar</td>\n    </tr>\n    <tr>\n      <th>26</th>\n      <td>Marine Parade</td>\n    </tr>\n    <tr>\n      <th>27</th>\n      <td>Jurong East</td>\n    </tr>\n    <tr>\n      <th>28</th>\n      <td>Rochor</td>\n    </tr>\n    <tr>\n      <th>29</th>\n      <td>Bukit Panjang</td>\n    </tr>\n    <tr>\n      <th>30</th>\n      <td>Novena</td>\n    </tr>\n    <tr>\n      <th>31</th>\n      <td>Siglap</td>\n    </tr>\n    <tr>\n      <th>32</th>\n      <td>Kallang</td>\n    </tr>\n    <tr>\n      <th>33</th>\n      <td>Outram</td>\n    </tr>\n    <tr>\n      <th>34</th>\n      <td>Bisham</td>\n    </tr>\n    <tr>\n      <th>35</th>\n      <td>Paya Lebar</td>\n    </tr>\n    <tr>\n      <th>36</th>\n      <td>Hougang</td>\n    </tr>\n    <tr>\n      <th>37</th>\n      <td>Boonlay</td>\n    </tr>\n  </tbody>\n</table>\n</div>"
     },
     "metadata": {},
     "execution_count": 77
    }
   ],
   "source": [
    "neighborhood_dict = {\n",
    "    'neighborhood': ['Changi', 'Geylang', 'Woodlands', 'Tanjong Pagar', 'Holland Village', 'Chinatown', 'Kampong Glam', 'Bukit Timah',\n",
    "                    'Katong', 'Tampines', 'Bedok', 'Queenstown', 'Punggol', 'Toa Payoh', 'Pasir Ris', 'Yishun', 'Sengkang', 'Sembawang',\n",
    "                    'Clementi', 'Ang Mo Kio', 'Tiong Bahru', 'Serangoon', 'Choa Chu Kang', 'Harbourfront', 'Tanglin', 'Seletar', \n",
    "                    'Marine Parade', 'Jurong East', 'Rochor', 'Bukit Panjang', 'Novena', 'Siglap', 'Kallang', 'Outram', 'Bisham',\n",
    "                    'Paya Lebar', 'Hougang', 'Boonlay']\n",
    "}\n",
    "\n",
    "df = pd.DataFrame(neighborhood_dict, columns=neighborhood_dict.keys())\n",
    "df"
   ]
  },
  {
   "cell_type": "code",
   "execution_count": 78,
   "metadata": {},
   "outputs": [],
   "source": [
    "# get the coordinates\n",
    "\n",
    "def get_latlng(neighborhood):\n",
    "\n",
    "    g = geocoder.arcgis('{}, Singapore'.format(neighborhood))\n",
    "    lat_lng_coords = g.latlng\n",
    "    \n",
    "    return lat_lng_coords"
   ]
  },
  {
   "cell_type": "code",
   "execution_count": 79,
   "metadata": {},
   "outputs": [],
   "source": [
    "latitude = []\n",
    "longtitude = []\n",
    "\n",
    "neighborhood_list = ['Changi', 'Geylang', 'Woodlands', 'Tanjong Pagar', 'Holland Village', 'Chinatown', 'Kampong Glam', 'Bukit Timah',\n",
    "                    'Katong', 'Tampines', 'Bedok', 'Queenstown', 'Punggol', 'Toa Payoh', 'Pasir Ris', 'Yishun', 'Sengkang', 'Sembawang',\n",
    "                    'Clementi', 'Ang Mo Kio', 'Tiong Bahru', 'Serangoon', 'Choa Chu Kang', 'Harbourfront', 'Tanglin', 'Seletar', \n",
    "                    'Marine Parade', 'Jurong East', 'Rochor', 'Bukit Panjang', 'Novena', 'Siglap', 'Kallang', 'Outram', 'Bisham',\n",
    "                    'Paya Lebar', 'Hougang', 'Boonlay']\n",
    "\n",
    "for each in neighborhood_list:\n",
    "\n",
    "    coords = get_latlng(each)\n",
    "    \n",
    "    latitude.append(coords[0])\n",
    "    longtitude.append(coords[1])"
   ]
  },
  {
   "cell_type": "code",
   "execution_count": 80,
   "metadata": {},
   "outputs": [],
   "source": [
    "df_coords = pd.concat([pd.Series(latitude), pd.Series(longtitude)], axis = 1)\n",
    "df_coords.columns = ['latitude', 'longtitude']"
   ]
  },
  {
   "cell_type": "code",
   "execution_count": 81,
   "metadata": {},
   "outputs": [
    {
     "output_type": "execute_result",
     "data": {
      "text/plain": [
       "      neighborhood  latitude  longtitude\n",
       "0           Changi   1.35514   103.99006\n",
       "1          Geylang   1.31147   103.88218\n",
       "2        Woodlands   1.43585   103.78698\n",
       "3    Tanjong Pagar   1.27889   103.84539\n",
       "4  Holland Village   1.31194   103.79333"
      ],
      "text/html": "<div>\n<style scoped>\n    .dataframe tbody tr th:only-of-type {\n        vertical-align: middle;\n    }\n\n    .dataframe tbody tr th {\n        vertical-align: top;\n    }\n\n    .dataframe thead th {\n        text-align: right;\n    }\n</style>\n<table border=\"1\" class=\"dataframe\">\n  <thead>\n    <tr style=\"text-align: right;\">\n      <th></th>\n      <th>neighborhood</th>\n      <th>latitude</th>\n      <th>longtitude</th>\n    </tr>\n  </thead>\n  <tbody>\n    <tr>\n      <th>0</th>\n      <td>Changi</td>\n      <td>1.35514</td>\n      <td>103.99006</td>\n    </tr>\n    <tr>\n      <th>1</th>\n      <td>Geylang</td>\n      <td>1.31147</td>\n      <td>103.88218</td>\n    </tr>\n    <tr>\n      <th>2</th>\n      <td>Woodlands</td>\n      <td>1.43585</td>\n      <td>103.78698</td>\n    </tr>\n    <tr>\n      <th>3</th>\n      <td>Tanjong Pagar</td>\n      <td>1.27889</td>\n      <td>103.84539</td>\n    </tr>\n    <tr>\n      <th>4</th>\n      <td>Holland Village</td>\n      <td>1.31194</td>\n      <td>103.79333</td>\n    </tr>\n  </tbody>\n</table>\n</div>"
     },
     "metadata": {},
     "execution_count": 81
    }
   ],
   "source": [
    "df['latitude'] = df_coords['latitude']\n",
    "df['longtitude'] = df_coords['longtitude']\n",
    "\n",
    "df.head()"
   ]
  },
  {
   "source": [
    "## Create a map of Singapore with neighborhoods superimposed\n",
    "\n"
   ],
   "cell_type": "markdown",
   "metadata": {}
  },
  {
   "cell_type": "code",
   "execution_count": 83,
   "metadata": {},
   "outputs": [
    {
     "output_type": "stream",
     "name": "stdout",
     "text": [
      "The geograpical coordinate of Singapore 1.357107, 103.8194992.\n"
     ]
    }
   ],
   "source": [
    "address = 'Singapore'\n",
    "\n",
    "geolocator = Nominatim(user_agent='super-app')\n",
    "location = geolocator.geocode(address)\n",
    "latitude_sg = location.latitude\n",
    "longitude_sg = location.longitude\n",
    "\n",
    "print('The geograpical coordinate of Singapore {}, {}.'.format(latitude_sg, longitude_sg))"
   ]
  },
  {
   "cell_type": "code",
   "execution_count": 87,
   "metadata": {},
   "outputs": [
    {
     "output_type": "execute_result",
     "data": {
      "text/plain": [
       "<folium.folium.Map at 0x7fc70b7a9fa0>"
      ],
      "text/html": "<div style=\"width:100%;\"><div style=\"position:relative;width:100%;height:0;padding-bottom:60%;\"><span style=\"color:#565656\">Make this Notebook Trusted to load map: File -> Trust Notebook</span><iframe src=\"about:blank\" style=\"position:absolute;width:100%;height:100%;left:0;top:0;border:none !important;\" data-html=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 onload=\"this.contentDocument.open();this.contentDocument.write(atob(this.getAttribute('data-html')));this.contentDocument.close();\" allowfullscreen webkitallowfullscreen mozallowfullscreen></iframe></div></div>"
     },
     "metadata": {},
     "execution_count": 87
    }
   ],
   "source": [
    "# create map of singapore using latitude and longitude values\n",
    "map_sg = folium.Map(location=[latitude_sg, longitude_sg], zoom_start=12)\n",
    "\n",
    "# add markers to map\n",
    "for lat, lng, neighborhood in zip(df['latitude'], df['longtitude'], df['neighborhood']):\n",
    "    label = '{}'.format(neighborhood)\n",
    "    label = folium.Popup(label, parse_html=True)\n",
    "    folium.CircleMarker(\n",
    "        [lat, lng],\n",
    "        radius=5,\n",
    "        popup=label,\n",
    "        color='blue',\n",
    "        fill=True,\n",
    "        fill_color='#3186cc',\n",
    "        fill_opacity=0.7).add_to(map_sg)  \n",
    "    \n",
    "map_sg"
   ]
  },
  {
   "source": [
    "## Use the Foursquare API top explore the neighborhood"
   ],
   "cell_type": "markdown",
   "metadata": {}
  },
  {
   "cell_type": "code",
   "execution_count": 88,
   "metadata": {},
   "outputs": [],
   "source": [
    "CLIENT_ID = 'Y2KXS2K2QTYTMSTWKRMYDN10U3D2CJD2VZ0JCFHODJ2FLPR2'\n",
    "CLIENT_SECRET = 'M0RUIEFFVPBZSD3QRQX2H5SLCTI14W00FYRMYE4G2LQNL21H'\n",
    "VERSION = '20180605' "
   ]
  },
  {
   "cell_type": "code",
   "execution_count": 90,
   "metadata": {},
   "outputs": [],
   "source": [
    "radius = 2000\n",
    "LIMIT = 100\n",
    "\n",
    "venues = []\n",
    "\n",
    "for lat, long, neighborhood in zip(df['latitude'], df['longtitude'], df['neighborhood']):\n",
    "    \n",
    "    # create the API request URL\n",
    "    url = \"https://api.foursquare.com/v2/venues/explore?client_id={}&client_secret={}&v={}&ll={},{}&radius={}&limit={}\".format(\n",
    "        CLIENT_ID,\n",
    "        CLIENT_SECRET,\n",
    "        VERSION,\n",
    "        lat,\n",
    "        long,\n",
    "        radius, \n",
    "        LIMIT)\n",
    "    \n",
    "    # make the GET request\n",
    "    results = requests.get(url).json()[\"response\"]['groups'][0]['items']\n",
    "    \n",
    "    # return only relevant information for each nearby venue\n",
    "    for venue in results:\n",
    "        venues.append((\n",
    "            neighborhood,\n",
    "            lat, \n",
    "            long, \n",
    "            venue['venue']['name'], \n",
    "            venue['venue']['location']['lat'], \n",
    "            venue['venue']['location']['lng'],  \n",
    "            venue['venue']['categories'][0]['name']))"
   ]
  },
  {
   "cell_type": "code",
   "execution_count": 91,
   "metadata": {},
   "outputs": [
    {
     "output_type": "stream",
     "name": "stdout",
     "text": [
      "(3545, 7)\n"
     ]
    },
    {
     "output_type": "execute_result",
     "data": {
      "text/plain": [
       "  Neighborhood  Latitude  Longitude  \\\n",
       "0       Changi   1.35514  103.99006   \n",
       "1       Changi   1.35514  103.99006   \n",
       "2       Changi   1.35514  103.99006   \n",
       "3       Changi   1.35514  103.99006   \n",
       "4       Changi   1.35514  103.99006   \n",
       "\n",
       "                                           VenueName  VenueLatitude  \\\n",
       "0  Singapore Changi Airport (SIN) (Singapore Chan...       1.353767   \n",
       "1                               Jewel Changi Airport       1.360119   \n",
       "2                                   HSBC Rain Vortex       1.360151   \n",
       "3  Singapore Airlines First Class Check-In Reception       1.355134   \n",
       "4                        Crowne Plaza Changi Airport       1.358561   \n",
       "\n",
       "   VenueLongitude   VenueCategory  \n",
       "0      103.987849         Airport  \n",
       "1      103.989790   Shopping Mall  \n",
       "2      103.989740       Waterfall  \n",
       "3      103.986732  Airport Lounge  \n",
       "4      103.987967           Hotel  "
      ],
      "text/html": "<div>\n<style scoped>\n    .dataframe tbody tr th:only-of-type {\n        vertical-align: middle;\n    }\n\n    .dataframe tbody tr th {\n        vertical-align: top;\n    }\n\n    .dataframe thead th {\n        text-align: right;\n    }\n</style>\n<table border=\"1\" class=\"dataframe\">\n  <thead>\n    <tr style=\"text-align: right;\">\n      <th></th>\n      <th>Neighborhood</th>\n      <th>Latitude</th>\n      <th>Longitude</th>\n      <th>VenueName</th>\n      <th>VenueLatitude</th>\n      <th>VenueLongitude</th>\n      <th>VenueCategory</th>\n    </tr>\n  </thead>\n  <tbody>\n    <tr>\n      <th>0</th>\n      <td>Changi</td>\n      <td>1.35514</td>\n      <td>103.99006</td>\n      <td>Singapore Changi Airport (SIN) (Singapore Chan...</td>\n      <td>1.353767</td>\n      <td>103.987849</td>\n      <td>Airport</td>\n    </tr>\n    <tr>\n      <th>1</th>\n      <td>Changi</td>\n      <td>1.35514</td>\n      <td>103.99006</td>\n      <td>Jewel Changi Airport</td>\n      <td>1.360119</td>\n      <td>103.989790</td>\n      <td>Shopping Mall</td>\n    </tr>\n    <tr>\n      <th>2</th>\n      <td>Changi</td>\n      <td>1.35514</td>\n      <td>103.99006</td>\n      <td>HSBC Rain Vortex</td>\n      <td>1.360151</td>\n      <td>103.989740</td>\n      <td>Waterfall</td>\n    </tr>\n    <tr>\n      <th>3</th>\n      <td>Changi</td>\n      <td>1.35514</td>\n      <td>103.99006</td>\n      <td>Singapore Airlines First Class Check-In Reception</td>\n      <td>1.355134</td>\n      <td>103.986732</td>\n      <td>Airport Lounge</td>\n    </tr>\n    <tr>\n      <th>4</th>\n      <td>Changi</td>\n      <td>1.35514</td>\n      <td>103.99006</td>\n      <td>Crowne Plaza Changi Airport</td>\n      <td>1.358561</td>\n      <td>103.987967</td>\n      <td>Hotel</td>\n    </tr>\n  </tbody>\n</table>\n</div>"
     },
     "metadata": {},
     "execution_count": 91
    }
   ],
   "source": [
    "# convert the venues list into a new DataFrame\n",
    "venues_df = pd.DataFrame(venues)\n",
    "\n",
    "# define the column names\n",
    "venues_df.columns = ['Neighborhood', 'Latitude', 'Longitude', 'VenueName', 'VenueLatitude', 'VenueLongitude', 'VenueCategory']\n",
    "\n",
    "print(venues_df.shape)\n",
    "venues_df.head()"
   ]
  },
  {
   "cell_type": "code",
   "execution_count": 92,
   "metadata": {},
   "outputs": [
    {
     "output_type": "execute_result",
     "data": {
      "text/plain": [
       "                 Latitude  Longitude  VenueName  VenueLatitude  \\\n",
       "Neighborhood                                                     \n",
       "Ang Mo Kio            100        100        100            100   \n",
       "Bedok                 100        100        100            100   \n",
       "Bisham                100        100        100            100   \n",
       "Boonlay               100        100        100            100   \n",
       "Bukit Panjang          71         71         71             71   \n",
       "Bukit Timah            97         97         97             97   \n",
       "Changi                 75         75         75             75   \n",
       "Chinatown             100        100        100            100   \n",
       "Choa Chu Kang          81         81         81             81   \n",
       "Clementi              100        100        100            100   \n",
       "Geylang               100        100        100            100   \n",
       "Harbourfront          100        100        100            100   \n",
       "Holland Village       100        100        100            100   \n",
       "Hougang               100        100        100            100   \n",
       "Jurong East           100        100        100            100   \n",
       "Kallang               100        100        100            100   \n",
       "Kampong Glam          100        100        100            100   \n",
       "Katong                100        100        100            100   \n",
       "Marine Parade         100        100        100            100   \n",
       "Novena                100        100        100            100   \n",
       "Outram                100        100        100            100   \n",
       "Pasir Ris              99         99         99             99   \n",
       "Paya Lebar            100        100        100            100   \n",
       "Punggol               100        100        100            100   \n",
       "Queenstown            100        100        100            100   \n",
       "Rochor                100        100        100            100   \n",
       "Seletar                48         48         48             48   \n",
       "Sembawang              56         56         56             56   \n",
       "Sengkang              100        100        100            100   \n",
       "Serangoon             100        100        100            100   \n",
       "Siglap                100        100        100            100   \n",
       "Tampines               39         39         39             39   \n",
       "Tanglin               100        100        100            100   \n",
       "Tanjong Pagar         100        100        100            100   \n",
       "Tiong Bahru           100        100        100            100   \n",
       "Toa Payoh             100        100        100            100   \n",
       "Woodlands              87         87         87             87   \n",
       "Yishun                 92         92         92             92   \n",
       "\n",
       "                 VenueLongitude  VenueCategory  \n",
       "Neighborhood                                    \n",
       "Ang Mo Kio                  100            100  \n",
       "Bedok                       100            100  \n",
       "Bisham                      100            100  \n",
       "Boonlay                     100            100  \n",
       "Bukit Panjang                71             71  \n",
       "Bukit Timah                  97             97  \n",
       "Changi                       75             75  \n",
       "Chinatown                   100            100  \n",
       "Choa Chu Kang                81             81  \n",
       "Clementi                    100            100  \n",
       "Geylang                     100            100  \n",
       "Harbourfront                100            100  \n",
       "Holland Village             100            100  \n",
       "Hougang                     100            100  \n",
       "Jurong East                 100            100  \n",
       "Kallang                     100            100  \n",
       "Kampong Glam                100            100  \n",
       "Katong                      100            100  \n",
       "Marine Parade               100            100  \n",
       "Novena                      100            100  \n",
       "Outram                      100            100  \n",
       "Pasir Ris                    99             99  \n",
       "Paya Lebar                  100            100  \n",
       "Punggol                     100            100  \n",
       "Queenstown                  100            100  \n",
       "Rochor                      100            100  \n",
       "Seletar                      48             48  \n",
       "Sembawang                    56             56  \n",
       "Sengkang                    100            100  \n",
       "Serangoon                   100            100  \n",
       "Siglap                      100            100  \n",
       "Tampines                     39             39  \n",
       "Tanglin                     100            100  \n",
       "Tanjong Pagar               100            100  \n",
       "Tiong Bahru                 100            100  \n",
       "Toa Payoh                   100            100  \n",
       "Woodlands                    87             87  \n",
       "Yishun                       92             92  "
      ],
      "text/html": "<div>\n<style scoped>\n    .dataframe tbody tr th:only-of-type {\n        vertical-align: middle;\n    }\n\n    .dataframe tbody tr th {\n        vertical-align: top;\n    }\n\n    .dataframe thead th {\n        text-align: right;\n    }\n</style>\n<table border=\"1\" class=\"dataframe\">\n  <thead>\n    <tr style=\"text-align: right;\">\n      <th></th>\n      <th>Latitude</th>\n      <th>Longitude</th>\n      <th>VenueName</th>\n      <th>VenueLatitude</th>\n      <th>VenueLongitude</th>\n      <th>VenueCategory</th>\n    </tr>\n    <tr>\n      <th>Neighborhood</th>\n      <th></th>\n      <th></th>\n      <th></th>\n      <th></th>\n      <th></th>\n      <th></th>\n    </tr>\n  </thead>\n  <tbody>\n    <tr>\n      <th>Ang Mo Kio</th>\n      <td>100</td>\n      <td>100</td>\n      <td>100</td>\n      <td>100</td>\n      <td>100</td>\n      <td>100</td>\n    </tr>\n    <tr>\n      <th>Bedok</th>\n      <td>100</td>\n      <td>100</td>\n      <td>100</td>\n      <td>100</td>\n      <td>100</td>\n      <td>100</td>\n    </tr>\n    <tr>\n      <th>Bisham</th>\n      <td>100</td>\n      <td>100</td>\n      <td>100</td>\n      <td>100</td>\n      <td>100</td>\n      <td>100</td>\n    </tr>\n    <tr>\n      <th>Boonlay</th>\n      <td>100</td>\n      <td>100</td>\n      <td>100</td>\n      <td>100</td>\n      <td>100</td>\n      <td>100</td>\n    </tr>\n    <tr>\n      <th>Bukit Panjang</th>\n      <td>71</td>\n      <td>71</td>\n      <td>71</td>\n      <td>71</td>\n      <td>71</td>\n      <td>71</td>\n    </tr>\n    <tr>\n      <th>Bukit Timah</th>\n      <td>97</td>\n      <td>97</td>\n      <td>97</td>\n      <td>97</td>\n      <td>97</td>\n      <td>97</td>\n    </tr>\n    <tr>\n      <th>Changi</th>\n      <td>75</td>\n      <td>75</td>\n      <td>75</td>\n      <td>75</td>\n      <td>75</td>\n      <td>75</td>\n    </tr>\n    <tr>\n      <th>Chinatown</th>\n      <td>100</td>\n      <td>100</td>\n      <td>100</td>\n      <td>100</td>\n      <td>100</td>\n      <td>100</td>\n    </tr>\n    <tr>\n      <th>Choa Chu Kang</th>\n      <td>81</td>\n      <td>81</td>\n      <td>81</td>\n      <td>81</td>\n      <td>81</td>\n      <td>81</td>\n    </tr>\n    <tr>\n      <th>Clementi</th>\n      <td>100</td>\n      <td>100</td>\n      <td>100</td>\n      <td>100</td>\n      <td>100</td>\n      <td>100</td>\n    </tr>\n    <tr>\n      <th>Geylang</th>\n      <td>100</td>\n      <td>100</td>\n      <td>100</td>\n      <td>100</td>\n      <td>100</td>\n      <td>100</td>\n    </tr>\n    <tr>\n      <th>Harbourfront</th>\n      <td>100</td>\n      <td>100</td>\n      <td>100</td>\n      <td>100</td>\n      <td>100</td>\n      <td>100</td>\n    </tr>\n    <tr>\n      <th>Holland Village</th>\n      <td>100</td>\n      <td>100</td>\n      <td>100</td>\n      <td>100</td>\n      <td>100</td>\n      <td>100</td>\n    </tr>\n    <tr>\n      <th>Hougang</th>\n      <td>100</td>\n      <td>100</td>\n      <td>100</td>\n      <td>100</td>\n      <td>100</td>\n      <td>100</td>\n    </tr>\n    <tr>\n      <th>Jurong East</th>\n      <td>100</td>\n      <td>100</td>\n      <td>100</td>\n      <td>100</td>\n      <td>100</td>\n      <td>100</td>\n    </tr>\n    <tr>\n      <th>Kallang</th>\n      <td>100</td>\n      <td>100</td>\n      <td>100</td>\n      <td>100</td>\n      <td>100</td>\n      <td>100</td>\n    </tr>\n    <tr>\n      <th>Kampong Glam</th>\n      <td>100</td>\n      <td>100</td>\n      <td>100</td>\n      <td>100</td>\n      <td>100</td>\n      <td>100</td>\n    </tr>\n    <tr>\n      <th>Katong</th>\n      <td>100</td>\n      <td>100</td>\n      <td>100</td>\n      <td>100</td>\n      <td>100</td>\n      <td>100</td>\n    </tr>\n    <tr>\n      <th>Marine Parade</th>\n      <td>100</td>\n      <td>100</td>\n      <td>100</td>\n      <td>100</td>\n      <td>100</td>\n      <td>100</td>\n    </tr>\n    <tr>\n      <th>Novena</th>\n      <td>100</td>\n      <td>100</td>\n      <td>100</td>\n      <td>100</td>\n      <td>100</td>\n      <td>100</td>\n    </tr>\n    <tr>\n      <th>Outram</th>\n      <td>100</td>\n      <td>100</td>\n      <td>100</td>\n      <td>100</td>\n      <td>100</td>\n      <td>100</td>\n    </tr>\n    <tr>\n      <th>Pasir Ris</th>\n      <td>99</td>\n      <td>99</td>\n      <td>99</td>\n      <td>99</td>\n      <td>99</td>\n      <td>99</td>\n    </tr>\n    <tr>\n      <th>Paya Lebar</th>\n      <td>100</td>\n      <td>100</td>\n      <td>100</td>\n      <td>100</td>\n      <td>100</td>\n      <td>100</td>\n    </tr>\n    <tr>\n      <th>Punggol</th>\n      <td>100</td>\n      <td>100</td>\n      <td>100</td>\n      <td>100</td>\n      <td>100</td>\n      <td>100</td>\n    </tr>\n    <tr>\n      <th>Queenstown</th>\n      <td>100</td>\n      <td>100</td>\n      <td>100</td>\n      <td>100</td>\n      <td>100</td>\n      <td>100</td>\n    </tr>\n    <tr>\n      <th>Rochor</th>\n      <td>100</td>\n      <td>100</td>\n      <td>100</td>\n      <td>100</td>\n      <td>100</td>\n      <td>100</td>\n    </tr>\n    <tr>\n      <th>Seletar</th>\n      <td>48</td>\n      <td>48</td>\n      <td>48</td>\n      <td>48</td>\n      <td>48</td>\n      <td>48</td>\n    </tr>\n    <tr>\n      <th>Sembawang</th>\n      <td>56</td>\n      <td>56</td>\n      <td>56</td>\n      <td>56</td>\n      <td>56</td>\n      <td>56</td>\n    </tr>\n    <tr>\n      <th>Sengkang</th>\n      <td>100</td>\n      <td>100</td>\n      <td>100</td>\n      <td>100</td>\n      <td>100</td>\n      <td>100</td>\n    </tr>\n    <tr>\n      <th>Serangoon</th>\n      <td>100</td>\n      <td>100</td>\n      <td>100</td>\n      <td>100</td>\n      <td>100</td>\n      <td>100</td>\n    </tr>\n    <tr>\n      <th>Siglap</th>\n      <td>100</td>\n      <td>100</td>\n      <td>100</td>\n      <td>100</td>\n      <td>100</td>\n      <td>100</td>\n    </tr>\n    <tr>\n      <th>Tampines</th>\n      <td>39</td>\n      <td>39</td>\n      <td>39</td>\n      <td>39</td>\n      <td>39</td>\n      <td>39</td>\n    </tr>\n    <tr>\n      <th>Tanglin</th>\n      <td>100</td>\n      <td>100</td>\n      <td>100</td>\n      <td>100</td>\n      <td>100</td>\n      <td>100</td>\n    </tr>\n    <tr>\n      <th>Tanjong Pagar</th>\n      <td>100</td>\n      <td>100</td>\n      <td>100</td>\n      <td>100</td>\n      <td>100</td>\n      <td>100</td>\n    </tr>\n    <tr>\n      <th>Tiong Bahru</th>\n      <td>100</td>\n      <td>100</td>\n      <td>100</td>\n      <td>100</td>\n      <td>100</td>\n      <td>100</td>\n    </tr>\n    <tr>\n      <th>Toa Payoh</th>\n      <td>100</td>\n      <td>100</td>\n      <td>100</td>\n      <td>100</td>\n      <td>100</td>\n      <td>100</td>\n    </tr>\n    <tr>\n      <th>Woodlands</th>\n      <td>87</td>\n      <td>87</td>\n      <td>87</td>\n      <td>87</td>\n      <td>87</td>\n      <td>87</td>\n    </tr>\n    <tr>\n      <th>Yishun</th>\n      <td>92</td>\n      <td>92</td>\n      <td>92</td>\n      <td>92</td>\n      <td>92</td>\n      <td>92</td>\n    </tr>\n  </tbody>\n</table>\n</div>"
     },
     "metadata": {},
     "execution_count": 92
    }
   ],
   "source": [
    "venues_df.groupby([\"Neighborhood\"]).count()"
   ]
  },
  {
   "cell_type": "code",
   "execution_count": 94,
   "metadata": {},
   "outputs": [
    {
     "output_type": "execute_result",
     "data": {
      "text/plain": [
       "287"
      ]
     },
     "metadata": {},
     "execution_count": 94
    }
   ],
   "source": [
    "len(venues_df['VenueCategory'].unique())"
   ]
  },
  {
   "cell_type": "code",
   "execution_count": 95,
   "metadata": {},
   "outputs": [
    {
     "output_type": "execute_result",
     "data": {
      "text/plain": [
       "array(['Airport', 'Shopping Mall', 'Waterfall', 'Airport Lounge', 'Hotel',\n",
       "       'Ice Cream Shop', 'Public Art', 'Park', 'Snack Place', 'Garden',\n",
       "       'Supermarket', 'Electronics Store', 'Border Crossing',\n",
       "       'Food Court', 'Burger Joint', 'Smoke Shop', 'Sandwich Place',\n",
       "       'Coffee Shop', 'Bubble Tea Shop', 'Juice Bar',\n",
       "       'Dim Sum Restaurant', 'Yunnan Restaurant',\n",
       "       'Latin American Restaurant', 'BBQ Joint', 'Candy Store',\n",
       "       'Asian Restaurant', 'Hobby Shop', 'Cocktail Bar', 'Gift Shop',\n",
       "       'Boutique', 'Bakery', 'Toy / Game Store', 'Shoe Store',\n",
       "       'Chinese Restaurant', 'Fast Food Restaurant', 'Restaurant',\n",
       "       'Multiplex', 'Café', 'Spa', 'History Museum', 'Clothing Store',\n",
       "       'Thai Restaurant', 'Wine Bar', 'Fried Chicken Joint', 'Beer Bar',\n",
       "       'Halal Restaurant', 'Bus Station', 'Tunnel', 'Accessories Store',\n",
       "       'Climbing Gym'], dtype=object)"
      ]
     },
     "metadata": {},
     "execution_count": 95
    }
   ],
   "source": [
    "venues_df['VenueCategory'].unique()[:50]"
   ]
  },
  {
   "source": [
    "## Analyse each neighborhood"
   ],
   "cell_type": "markdown",
   "metadata": {}
  },
  {
   "source": [
    "# one hot encoding\n",
    "sg_onehot = pd.get_dummies(venues_df[['VenueCategory']], prefix=\"\", prefix_sep=\"\")\n",
    "\n",
    "# add neighborhood column back to dataframe\n",
    "sg_onehot['Neighborhoods'] = venues_df['Neighborhood'] \n",
    "\n",
    "# move neighborhood column to the first column\n",
    "fixed_columns = [sg_onehot.columns[-1]] + list(sg_onehot.columns[:-1])\n",
    "sg_onehot = sg_onehot[fixed_columns]\n",
    "\n",
    "print(sg_onehot.shape)\n",
    "sg_onehot.head()"
   ],
   "cell_type": "code",
   "metadata": {},
   "execution_count": 96,
   "outputs": [
    {
     "output_type": "stream",
     "name": "stdout",
     "text": [
      "(3545, 288)\n"
     ]
    },
    {
     "output_type": "execute_result",
     "data": {
      "text/plain": [
       "  Neighborhoods  Accessories Store  Airport  Airport Lounge  Airport Service  \\\n",
       "0        Changi                  0        1               0                0   \n",
       "1        Changi                  0        0               0                0   \n",
       "2        Changi                  0        0               0                0   \n",
       "3        Changi                  0        0               1                0   \n",
       "4        Changi                  0        0               0                0   \n",
       "\n",
       "   Airport Terminal  American Restaurant  Aquarium  Arcade  Art Gallery  ...  \\\n",
       "0                 0                    0         0       0            0  ...   \n",
       "1                 0                    0         0       0            0  ...   \n",
       "2                 0                    0         0       0            0  ...   \n",
       "3                 0                    0         0       0            0  ...   \n",
       "4                 0                    0         0       0            0  ...   \n",
       "\n",
       "   Waterfront  Whisky Bar  Wine Bar  Wine Shop  Wings Joint  Yoga Studio  \\\n",
       "0           0           0         0          0            0            0   \n",
       "1           0           0         0          0            0            0   \n",
       "2           0           0         0          0            0            0   \n",
       "3           0           0         0          0            0            0   \n",
       "4           0           0         0          0            0            0   \n",
       "\n",
       "   Yunnan Restaurant  Zhejiang Restaurant  Zoo  Zoo Exhibit  \n",
       "0                  0                    0    0            0  \n",
       "1                  0                    0    0            0  \n",
       "2                  0                    0    0            0  \n",
       "3                  0                    0    0            0  \n",
       "4                  0                    0    0            0  \n",
       "\n",
       "[5 rows x 288 columns]"
      ],
      "text/html": "<div>\n<style scoped>\n    .dataframe tbody tr th:only-of-type {\n        vertical-align: middle;\n    }\n\n    .dataframe tbody tr th {\n        vertical-align: top;\n    }\n\n    .dataframe thead th {\n        text-align: right;\n    }\n</style>\n<table border=\"1\" class=\"dataframe\">\n  <thead>\n    <tr style=\"text-align: right;\">\n      <th></th>\n      <th>Neighborhoods</th>\n      <th>Accessories Store</th>\n      <th>Airport</th>\n      <th>Airport Lounge</th>\n      <th>Airport Service</th>\n      <th>Airport Terminal</th>\n      <th>American Restaurant</th>\n      <th>Aquarium</th>\n      <th>Arcade</th>\n      <th>Art Gallery</th>\n      <th>...</th>\n      <th>Waterfront</th>\n      <th>Whisky Bar</th>\n      <th>Wine Bar</th>\n      <th>Wine Shop</th>\n      <th>Wings Joint</th>\n      <th>Yoga Studio</th>\n      <th>Yunnan Restaurant</th>\n      <th>Zhejiang Restaurant</th>\n      <th>Zoo</th>\n      <th>Zoo Exhibit</th>\n    </tr>\n  </thead>\n  <tbody>\n    <tr>\n      <th>0</th>\n      <td>Changi</td>\n      <td>0</td>\n      <td>1</td>\n      <td>0</td>\n      <td>0</td>\n      <td>0</td>\n      <td>0</td>\n      <td>0</td>\n      <td>0</td>\n      <td>0</td>\n      <td>...</td>\n      <td>0</td>\n      <td>0</td>\n      <td>0</td>\n      <td>0</td>\n      <td>0</td>\n      <td>0</td>\n      <td>0</td>\n      <td>0</td>\n      <td>0</td>\n      <td>0</td>\n    </tr>\n    <tr>\n      <th>1</th>\n      <td>Changi</td>\n      <td>0</td>\n      <td>0</td>\n      <td>0</td>\n      <td>0</td>\n      <td>0</td>\n      <td>0</td>\n      <td>0</td>\n      <td>0</td>\n      <td>0</td>\n      <td>...</td>\n      <td>0</td>\n      <td>0</td>\n      <td>0</td>\n      <td>0</td>\n      <td>0</td>\n      <td>0</td>\n      <td>0</td>\n      <td>0</td>\n      <td>0</td>\n      <td>0</td>\n    </tr>\n    <tr>\n      <th>2</th>\n      <td>Changi</td>\n      <td>0</td>\n      <td>0</td>\n      <td>0</td>\n      <td>0</td>\n      <td>0</td>\n      <td>0</td>\n      <td>0</td>\n      <td>0</td>\n      <td>0</td>\n      <td>...</td>\n      <td>0</td>\n      <td>0</td>\n      <td>0</td>\n      <td>0</td>\n      <td>0</td>\n      <td>0</td>\n      <td>0</td>\n      <td>0</td>\n      <td>0</td>\n      <td>0</td>\n    </tr>\n    <tr>\n      <th>3</th>\n      <td>Changi</td>\n      <td>0</td>\n      <td>0</td>\n      <td>1</td>\n      <td>0</td>\n      <td>0</td>\n      <td>0</td>\n      <td>0</td>\n      <td>0</td>\n      <td>0</td>\n      <td>...</td>\n      <td>0</td>\n      <td>0</td>\n      <td>0</td>\n      <td>0</td>\n      <td>0</td>\n      <td>0</td>\n      <td>0</td>\n      <td>0</td>\n      <td>0</td>\n      <td>0</td>\n    </tr>\n    <tr>\n      <th>4</th>\n      <td>Changi</td>\n      <td>0</td>\n      <td>0</td>\n      <td>0</td>\n      <td>0</td>\n      <td>0</td>\n      <td>0</td>\n      <td>0</td>\n      <td>0</td>\n      <td>0</td>\n      <td>...</td>\n      <td>0</td>\n      <td>0</td>\n      <td>0</td>\n      <td>0</td>\n      <td>0</td>\n      <td>0</td>\n      <td>0</td>\n      <td>0</td>\n      <td>0</td>\n      <td>0</td>\n    </tr>\n  </tbody>\n</table>\n<p>5 rows × 288 columns</p>\n</div>"
     },
     "metadata": {},
     "execution_count": 96
    }
   ]
  },
  {
   "cell_type": "code",
   "execution_count": 97,
   "metadata": {},
   "outputs": [
    {
     "output_type": "stream",
     "name": "stdout",
     "text": [
      "(38, 288)\n"
     ]
    },
    {
     "output_type": "execute_result",
     "data": {
      "text/plain": [
       "      Neighborhoods  Accessories Store   Airport  Airport Lounge  \\\n",
       "0        Ang Mo Kio           0.000000  0.000000        0.000000   \n",
       "1             Bedok           0.000000  0.000000        0.000000   \n",
       "2            Bisham           0.000000  0.000000        0.000000   \n",
       "3           Boonlay           0.000000  0.000000        0.000000   \n",
       "4     Bukit Panjang           0.000000  0.000000        0.000000   \n",
       "5       Bukit Timah           0.000000  0.000000        0.000000   \n",
       "6            Changi           0.013333  0.026667        0.066667   \n",
       "7         Chinatown           0.000000  0.000000        0.000000   \n",
       "8     Choa Chu Kang           0.000000  0.000000        0.000000   \n",
       "9          Clementi           0.000000  0.000000        0.000000   \n",
       "10          Geylang           0.000000  0.000000        0.000000   \n",
       "11     Harbourfront           0.000000  0.000000        0.000000   \n",
       "12  Holland Village           0.000000  0.000000        0.000000   \n",
       "13          Hougang           0.000000  0.000000        0.000000   \n",
       "14      Jurong East           0.010000  0.000000        0.000000   \n",
       "15          Kallang           0.000000  0.000000        0.000000   \n",
       "16     Kampong Glam           0.000000  0.000000        0.000000   \n",
       "17           Katong           0.000000  0.000000        0.000000   \n",
       "18    Marine Parade           0.000000  0.000000        0.000000   \n",
       "19           Novena           0.000000  0.000000        0.000000   \n",
       "20           Outram           0.000000  0.000000        0.000000   \n",
       "21        Pasir Ris           0.000000  0.000000        0.000000   \n",
       "22       Paya Lebar           0.000000  0.000000        0.000000   \n",
       "23          Punggol           0.000000  0.000000        0.000000   \n",
       "24       Queenstown           0.000000  0.000000        0.000000   \n",
       "25           Rochor           0.000000  0.000000        0.000000   \n",
       "26          Seletar           0.000000  0.062500        0.000000   \n",
       "27        Sembawang           0.000000  0.000000        0.000000   \n",
       "28         Sengkang           0.000000  0.000000        0.000000   \n",
       "29        Serangoon           0.000000  0.000000        0.000000   \n",
       "30           Siglap           0.000000  0.000000        0.000000   \n",
       "31         Tampines           0.000000  0.000000        0.000000   \n",
       "32          Tanglin           0.000000  0.000000        0.000000   \n",
       "33    Tanjong Pagar           0.000000  0.000000        0.000000   \n",
       "34      Tiong Bahru           0.000000  0.000000        0.000000   \n",
       "35        Toa Payoh           0.000000  0.000000        0.000000   \n",
       "36        Woodlands           0.000000  0.000000        0.000000   \n",
       "37           Yishun           0.000000  0.000000        0.000000   \n",
       "\n",
       "    Airport Service  Airport Terminal  American Restaurant  Aquarium  Arcade  \\\n",
       "0          0.000000          0.000000             0.000000      0.00    0.00   \n",
       "1          0.000000          0.000000             0.000000      0.00    0.00   \n",
       "2          0.000000          0.000000             0.000000      0.00    0.00   \n",
       "3          0.000000          0.000000             0.010000      0.00    0.00   \n",
       "4          0.000000          0.000000             0.014085      0.00    0.00   \n",
       "5          0.000000          0.000000             0.000000      0.00    0.00   \n",
       "6          0.000000          0.000000             0.000000      0.00    0.00   \n",
       "7          0.000000          0.000000             0.000000      0.00    0.00   \n",
       "8          0.000000          0.000000             0.000000      0.00    0.00   \n",
       "9          0.000000          0.000000             0.000000      0.00    0.00   \n",
       "10         0.000000          0.000000             0.000000      0.00    0.00   \n",
       "11         0.000000          0.000000             0.010000      0.01    0.01   \n",
       "12         0.000000          0.000000             0.000000      0.00    0.00   \n",
       "13         0.000000          0.000000             0.000000      0.00    0.00   \n",
       "14         0.000000          0.000000             0.010000      0.00    0.00   \n",
       "15         0.000000          0.000000             0.000000      0.00    0.00   \n",
       "16         0.000000          0.000000             0.000000      0.00    0.00   \n",
       "17         0.000000          0.000000             0.000000      0.00    0.00   \n",
       "18         0.000000          0.000000             0.010000      0.00    0.00   \n",
       "19         0.000000          0.000000             0.000000      0.00    0.00   \n",
       "20         0.000000          0.000000             0.000000      0.00    0.00   \n",
       "21         0.000000          0.000000             0.010101      0.00    0.00   \n",
       "22         0.000000          0.000000             0.000000      0.00    0.00   \n",
       "23         0.000000          0.000000             0.000000      0.00    0.00   \n",
       "24         0.000000          0.000000             0.000000      0.00    0.00   \n",
       "25         0.000000          0.000000             0.000000      0.00    0.00   \n",
       "26         0.020833          0.041667             0.000000      0.00    0.00   \n",
       "27         0.000000          0.000000             0.017857      0.00    0.00   \n",
       "28         0.000000          0.000000             0.000000      0.00    0.00   \n",
       "29         0.000000          0.000000             0.000000      0.00    0.00   \n",
       "30         0.000000          0.000000             0.020000      0.00    0.00   \n",
       "31         0.000000          0.000000             0.000000      0.00    0.00   \n",
       "32         0.000000          0.000000             0.010000      0.00    0.00   \n",
       "33         0.000000          0.000000             0.000000      0.00    0.00   \n",
       "34         0.000000          0.000000             0.000000      0.00    0.00   \n",
       "35         0.000000          0.000000             0.000000      0.00    0.00   \n",
       "36         0.000000          0.000000             0.011494      0.00    0.00   \n",
       "37         0.000000          0.000000             0.021739      0.00    0.00   \n",
       "\n",
       "    Art Gallery  ...  Waterfront  Whisky Bar  Wine Bar  Wine Shop  \\\n",
       "0          0.00  ...    0.000000        0.00  0.000000       0.00   \n",
       "1          0.00  ...    0.000000        0.00  0.010000       0.00   \n",
       "2          0.00  ...    0.000000        0.00  0.000000       0.00   \n",
       "3          0.00  ...    0.000000        0.00  0.000000       0.00   \n",
       "4          0.00  ...    0.000000        0.00  0.000000       0.00   \n",
       "5          0.00  ...    0.000000        0.00  0.010309       0.00   \n",
       "6          0.00  ...    0.000000        0.00  0.013333       0.00   \n",
       "7          0.02  ...    0.020000        0.01  0.030000       0.01   \n",
       "8          0.00  ...    0.000000        0.00  0.000000       0.00   \n",
       "9          0.01  ...    0.000000        0.00  0.000000       0.00   \n",
       "10         0.00  ...    0.010000        0.00  0.000000       0.00   \n",
       "11         0.00  ...    0.010000        0.00  0.010000       0.00   \n",
       "12         0.00  ...    0.000000        0.00  0.010000       0.00   \n",
       "13         0.00  ...    0.000000        0.00  0.000000       0.00   \n",
       "14         0.00  ...    0.000000        0.00  0.000000       0.00   \n",
       "15         0.00  ...    0.000000        0.00  0.000000       0.00   \n",
       "16         0.00  ...    0.000000        0.01  0.010000       0.00   \n",
       "17         0.00  ...    0.010000        0.00  0.010000       0.00   \n",
       "18         0.00  ...    0.010000        0.00  0.010000       0.00   \n",
       "19         0.00  ...    0.000000        0.00  0.010000       0.00   \n",
       "20         0.01  ...    0.010000        0.02  0.030000       0.00   \n",
       "21         0.00  ...    0.000000        0.00  0.000000       0.00   \n",
       "22         0.00  ...    0.000000        0.00  0.000000       0.00   \n",
       "23         0.00  ...    0.000000        0.00  0.000000       0.00   \n",
       "24         0.00  ...    0.000000        0.00  0.000000       0.00   \n",
       "25         0.01  ...    0.000000        0.02  0.020000       0.00   \n",
       "26         0.00  ...    0.020833        0.00  0.000000       0.00   \n",
       "27         0.00  ...    0.000000        0.00  0.000000       0.00   \n",
       "28         0.00  ...    0.000000        0.00  0.000000       0.00   \n",
       "29         0.00  ...    0.000000        0.00  0.010000       0.01   \n",
       "30         0.00  ...    0.010000        0.00  0.010000       0.00   \n",
       "31         0.00  ...    0.000000        0.00  0.000000       0.00   \n",
       "32         0.00  ...    0.000000        0.00  0.000000       0.00   \n",
       "33         0.00  ...    0.010000        0.00  0.020000       0.00   \n",
       "34         0.01  ...    0.010000        0.02  0.020000       0.00   \n",
       "35         0.00  ...    0.000000        0.00  0.000000       0.00   \n",
       "36         0.00  ...    0.000000        0.00  0.000000       0.00   \n",
       "37         0.00  ...    0.000000        0.00  0.000000       0.00   \n",
       "\n",
       "    Wings Joint  Yoga Studio  Yunnan Restaurant  Zhejiang Restaurant   Zoo  \\\n",
       "0          0.00         0.00           0.000000                 0.01  0.00   \n",
       "1          0.00         0.00           0.000000                 0.00  0.00   \n",
       "2          0.00         0.00           0.000000                 0.00  0.00   \n",
       "3          0.01         0.00           0.000000                 0.00  0.01   \n",
       "4          0.00         0.00           0.000000                 0.00  0.00   \n",
       "5          0.00         0.00           0.000000                 0.00  0.00   \n",
       "6          0.00         0.00           0.013333                 0.00  0.00   \n",
       "7          0.00         0.03           0.000000                 0.00  0.00   \n",
       "8          0.00         0.00           0.000000                 0.00  0.00   \n",
       "9          0.00         0.00           0.000000                 0.00  0.00   \n",
       "10         0.00         0.01           0.000000                 0.00  0.00   \n",
       "11         0.00         0.01           0.000000                 0.00  0.00   \n",
       "12         0.00         0.00           0.000000                 0.00  0.00   \n",
       "13         0.00         0.00           0.000000                 0.00  0.00   \n",
       "14         0.00         0.00           0.000000                 0.00  0.00   \n",
       "15         0.00         0.00           0.000000                 0.00  0.00   \n",
       "16         0.00         0.00           0.000000                 0.00  0.00   \n",
       "17         0.00         0.02           0.000000                 0.00  0.00   \n",
       "18         0.00         0.02           0.000000                 0.00  0.00   \n",
       "19         0.00         0.00           0.000000                 0.00  0.00   \n",
       "20         0.00         0.03           0.000000                 0.00  0.00   \n",
       "21         0.00         0.00           0.000000                 0.00  0.00   \n",
       "22         0.00         0.00           0.000000                 0.00  0.00   \n",
       "23         0.00         0.00           0.000000                 0.00  0.00   \n",
       "24         0.00         0.00           0.000000                 0.00  0.00   \n",
       "25         0.00         0.00           0.000000                 0.00  0.00   \n",
       "26         0.00         0.00           0.000000                 0.00  0.00   \n",
       "27         0.00         0.00           0.000000                 0.00  0.00   \n",
       "28         0.00         0.00           0.000000                 0.00  0.00   \n",
       "29         0.00         0.00           0.000000                 0.00  0.00   \n",
       "30         0.02         0.01           0.000000                 0.00  0.00   \n",
       "31         0.00         0.00           0.000000                 0.00  0.00   \n",
       "32         0.00         0.00           0.000000                 0.00  0.00   \n",
       "33         0.00         0.02           0.000000                 0.00  0.00   \n",
       "34         0.00         0.03           0.000000                 0.00  0.00   \n",
       "35         0.00         0.00           0.000000                 0.00  0.00   \n",
       "36         0.00         0.00           0.000000                 0.00  0.00   \n",
       "37         0.00         0.00           0.000000                 0.00  0.00   \n",
       "\n",
       "    Zoo Exhibit  \n",
       "0          0.00  \n",
       "1          0.00  \n",
       "2          0.00  \n",
       "3          0.02  \n",
       "4          0.00  \n",
       "5          0.00  \n",
       "6          0.00  \n",
       "7          0.00  \n",
       "8          0.00  \n",
       "9          0.00  \n",
       "10         0.00  \n",
       "11         0.00  \n",
       "12         0.00  \n",
       "13         0.00  \n",
       "14         0.01  \n",
       "15         0.00  \n",
       "16         0.00  \n",
       "17         0.00  \n",
       "18         0.00  \n",
       "19         0.00  \n",
       "20         0.00  \n",
       "21         0.00  \n",
       "22         0.00  \n",
       "23         0.00  \n",
       "24         0.00  \n",
       "25         0.00  \n",
       "26         0.00  \n",
       "27         0.00  \n",
       "28         0.00  \n",
       "29         0.00  \n",
       "30         0.00  \n",
       "31         0.00  \n",
       "32         0.00  \n",
       "33         0.00  \n",
       "34         0.00  \n",
       "35         0.00  \n",
       "36         0.00  \n",
       "37         0.00  \n",
       "\n",
       "[38 rows x 288 columns]"
      ],
      "text/html": "<div>\n<style scoped>\n    .dataframe tbody tr th:only-of-type {\n        vertical-align: middle;\n    }\n\n    .dataframe tbody tr th {\n        vertical-align: top;\n    }\n\n    .dataframe thead th {\n        text-align: right;\n    }\n</style>\n<table border=\"1\" class=\"dataframe\">\n  <thead>\n    <tr style=\"text-align: right;\">\n      <th></th>\n      <th>Neighborhoods</th>\n      <th>Accessories Store</th>\n      <th>Airport</th>\n      <th>Airport Lounge</th>\n      <th>Airport Service</th>\n      <th>Airport Terminal</th>\n      <th>American Restaurant</th>\n      <th>Aquarium</th>\n      <th>Arcade</th>\n      <th>Art Gallery</th>\n      <th>...</th>\n      <th>Waterfront</th>\n      <th>Whisky Bar</th>\n      <th>Wine Bar</th>\n      <th>Wine Shop</th>\n      <th>Wings Joint</th>\n      <th>Yoga Studio</th>\n      <th>Yunnan Restaurant</th>\n      <th>Zhejiang Restaurant</th>\n      <th>Zoo</th>\n      <th>Zoo Exhibit</th>\n    </tr>\n  </thead>\n  <tbody>\n    <tr>\n      <th>0</th>\n      <td>Ang Mo Kio</td>\n      <td>0.000000</td>\n      <td>0.000000</td>\n      <td>0.000000</td>\n      <td>0.000000</td>\n      <td>0.000000</td>\n      <td>0.000000</td>\n      <td>0.00</td>\n      <td>0.00</td>\n      <td>0.00</td>\n      <td>...</td>\n      <td>0.000000</td>\n      <td>0.00</td>\n      <td>0.000000</td>\n      <td>0.00</td>\n      <td>0.00</td>\n      <td>0.00</td>\n      <td>0.000000</td>\n      <td>0.01</td>\n      <td>0.00</td>\n      <td>0.00</td>\n    </tr>\n    <tr>\n      <th>1</th>\n      <td>Bedok</td>\n      <td>0.000000</td>\n      <td>0.000000</td>\n      <td>0.000000</td>\n      <td>0.000000</td>\n      <td>0.000000</td>\n      <td>0.000000</td>\n      <td>0.00</td>\n      <td>0.00</td>\n      <td>0.00</td>\n      <td>...</td>\n      <td>0.000000</td>\n      <td>0.00</td>\n      <td>0.010000</td>\n      <td>0.00</td>\n      <td>0.00</td>\n      <td>0.00</td>\n      <td>0.000000</td>\n      <td>0.00</td>\n      <td>0.00</td>\n      <td>0.00</td>\n    </tr>\n    <tr>\n      <th>2</th>\n      <td>Bisham</td>\n      <td>0.000000</td>\n      <td>0.000000</td>\n      <td>0.000000</td>\n      <td>0.000000</td>\n      <td>0.000000</td>\n      <td>0.000000</td>\n      <td>0.00</td>\n      <td>0.00</td>\n      <td>0.00</td>\n      <td>...</td>\n      <td>0.000000</td>\n      <td>0.00</td>\n      <td>0.000000</td>\n      <td>0.00</td>\n      <td>0.00</td>\n      <td>0.00</td>\n      <td>0.000000</td>\n      <td>0.00</td>\n      <td>0.00</td>\n      <td>0.00</td>\n    </tr>\n    <tr>\n      <th>3</th>\n      <td>Boonlay</td>\n      <td>0.000000</td>\n      <td>0.000000</td>\n      <td>0.000000</td>\n      <td>0.000000</td>\n      <td>0.000000</td>\n      <td>0.010000</td>\n      <td>0.00</td>\n      <td>0.00</td>\n      <td>0.00</td>\n      <td>...</td>\n      <td>0.000000</td>\n      <td>0.00</td>\n      <td>0.000000</td>\n      <td>0.00</td>\n      <td>0.01</td>\n      <td>0.00</td>\n      <td>0.000000</td>\n      <td>0.00</td>\n      <td>0.01</td>\n      <td>0.02</td>\n    </tr>\n    <tr>\n      <th>4</th>\n      <td>Bukit Panjang</td>\n      <td>0.000000</td>\n      <td>0.000000</td>\n      <td>0.000000</td>\n      <td>0.000000</td>\n      <td>0.000000</td>\n      <td>0.014085</td>\n      <td>0.00</td>\n      <td>0.00</td>\n      <td>0.00</td>\n      <td>...</td>\n      <td>0.000000</td>\n      <td>0.00</td>\n      <td>0.000000</td>\n      <td>0.00</td>\n      <td>0.00</td>\n      <td>0.00</td>\n      <td>0.000000</td>\n      <td>0.00</td>\n      <td>0.00</td>\n      <td>0.00</td>\n    </tr>\n    <tr>\n      <th>5</th>\n      <td>Bukit Timah</td>\n      <td>0.000000</td>\n      <td>0.000000</td>\n      <td>0.000000</td>\n      <td>0.000000</td>\n      <td>0.000000</td>\n      <td>0.000000</td>\n      <td>0.00</td>\n      <td>0.00</td>\n      <td>0.00</td>\n      <td>...</td>\n      <td>0.000000</td>\n      <td>0.00</td>\n      <td>0.010309</td>\n      <td>0.00</td>\n      <td>0.00</td>\n      <td>0.00</td>\n      <td>0.000000</td>\n      <td>0.00</td>\n      <td>0.00</td>\n      <td>0.00</td>\n    </tr>\n    <tr>\n      <th>6</th>\n      <td>Changi</td>\n      <td>0.013333</td>\n      <td>0.026667</td>\n      <td>0.066667</td>\n      <td>0.000000</td>\n      <td>0.000000</td>\n      <td>0.000000</td>\n      <td>0.00</td>\n      <td>0.00</td>\n      <td>0.00</td>\n      <td>...</td>\n      <td>0.000000</td>\n      <td>0.00</td>\n      <td>0.013333</td>\n      <td>0.00</td>\n      <td>0.00</td>\n      <td>0.00</td>\n      <td>0.013333</td>\n      <td>0.00</td>\n      <td>0.00</td>\n      <td>0.00</td>\n    </tr>\n    <tr>\n      <th>7</th>\n      <td>Chinatown</td>\n      <td>0.000000</td>\n      <td>0.000000</td>\n      <td>0.000000</td>\n      <td>0.000000</td>\n      <td>0.000000</td>\n      <td>0.000000</td>\n      <td>0.00</td>\n      <td>0.00</td>\n      <td>0.02</td>\n      <td>...</td>\n      <td>0.020000</td>\n      <td>0.01</td>\n      <td>0.030000</td>\n      <td>0.01</td>\n      <td>0.00</td>\n      <td>0.03</td>\n      <td>0.000000</td>\n      <td>0.00</td>\n      <td>0.00</td>\n      <td>0.00</td>\n    </tr>\n    <tr>\n      <th>8</th>\n      <td>Choa Chu Kang</td>\n      <td>0.000000</td>\n      <td>0.000000</td>\n      <td>0.000000</td>\n      <td>0.000000</td>\n      <td>0.000000</td>\n      <td>0.000000</td>\n      <td>0.00</td>\n      <td>0.00</td>\n      <td>0.00</td>\n      <td>...</td>\n      <td>0.000000</td>\n      <td>0.00</td>\n      <td>0.000000</td>\n      <td>0.00</td>\n      <td>0.00</td>\n      <td>0.00</td>\n      <td>0.000000</td>\n      <td>0.00</td>\n      <td>0.00</td>\n      <td>0.00</td>\n    </tr>\n    <tr>\n      <th>9</th>\n      <td>Clementi</td>\n      <td>0.000000</td>\n      <td>0.000000</td>\n      <td>0.000000</td>\n      <td>0.000000</td>\n      <td>0.000000</td>\n      <td>0.000000</td>\n      <td>0.00</td>\n      <td>0.00</td>\n      <td>0.01</td>\n      <td>...</td>\n      <td>0.000000</td>\n      <td>0.00</td>\n      <td>0.000000</td>\n      <td>0.00</td>\n      <td>0.00</td>\n      <td>0.00</td>\n      <td>0.000000</td>\n      <td>0.00</td>\n      <td>0.00</td>\n      <td>0.00</td>\n    </tr>\n    <tr>\n      <th>10</th>\n      <td>Geylang</td>\n      <td>0.000000</td>\n      <td>0.000000</td>\n      <td>0.000000</td>\n      <td>0.000000</td>\n      <td>0.000000</td>\n      <td>0.000000</td>\n      <td>0.00</td>\n      <td>0.00</td>\n      <td>0.00</td>\n      <td>...</td>\n      <td>0.010000</td>\n      <td>0.00</td>\n      <td>0.000000</td>\n      <td>0.00</td>\n      <td>0.00</td>\n      <td>0.01</td>\n      <td>0.000000</td>\n      <td>0.00</td>\n      <td>0.00</td>\n      <td>0.00</td>\n    </tr>\n    <tr>\n      <th>11</th>\n      <td>Harbourfront</td>\n      <td>0.000000</td>\n      <td>0.000000</td>\n      <td>0.000000</td>\n      <td>0.000000</td>\n      <td>0.000000</td>\n      <td>0.010000</td>\n      <td>0.01</td>\n      <td>0.01</td>\n      <td>0.00</td>\n      <td>...</td>\n      <td>0.010000</td>\n      <td>0.00</td>\n      <td>0.010000</td>\n      <td>0.00</td>\n      <td>0.00</td>\n      <td>0.01</td>\n      <td>0.000000</td>\n      <td>0.00</td>\n      <td>0.00</td>\n      <td>0.00</td>\n    </tr>\n    <tr>\n      <th>12</th>\n      <td>Holland Village</td>\n      <td>0.000000</td>\n      <td>0.000000</td>\n      <td>0.000000</td>\n      <td>0.000000</td>\n      <td>0.000000</td>\n      <td>0.000000</td>\n      <td>0.00</td>\n      <td>0.00</td>\n      <td>0.00</td>\n      <td>...</td>\n      <td>0.000000</td>\n      <td>0.00</td>\n      <td>0.010000</td>\n      <td>0.00</td>\n      <td>0.00</td>\n      <td>0.00</td>\n      <td>0.000000</td>\n      <td>0.00</td>\n      <td>0.00</td>\n      <td>0.00</td>\n    </tr>\n    <tr>\n      <th>13</th>\n      <td>Hougang</td>\n      <td>0.000000</td>\n      <td>0.000000</td>\n      <td>0.000000</td>\n      <td>0.000000</td>\n      <td>0.000000</td>\n      <td>0.000000</td>\n      <td>0.00</td>\n      <td>0.00</td>\n      <td>0.00</td>\n      <td>...</td>\n      <td>0.000000</td>\n      <td>0.00</td>\n      <td>0.000000</td>\n      <td>0.00</td>\n      <td>0.00</td>\n      <td>0.00</td>\n      <td>0.000000</td>\n      <td>0.00</td>\n      <td>0.00</td>\n      <td>0.00</td>\n    </tr>\n    <tr>\n      <th>14</th>\n      <td>Jurong East</td>\n      <td>0.010000</td>\n      <td>0.000000</td>\n      <td>0.000000</td>\n      <td>0.000000</td>\n      <td>0.000000</td>\n      <td>0.010000</td>\n      <td>0.00</td>\n      <td>0.00</td>\n      <td>0.00</td>\n      <td>...</td>\n      <td>0.000000</td>\n      <td>0.00</td>\n      <td>0.000000</td>\n      <td>0.00</td>\n      <td>0.00</td>\n      <td>0.00</td>\n      <td>0.000000</td>\n      <td>0.00</td>\n      <td>0.00</td>\n      <td>0.01</td>\n    </tr>\n    <tr>\n      <th>15</th>\n      <td>Kallang</td>\n      <td>0.000000</td>\n      <td>0.000000</td>\n      <td>0.000000</td>\n      <td>0.000000</td>\n      <td>0.000000</td>\n      <td>0.000000</td>\n      <td>0.00</td>\n      <td>0.00</td>\n      <td>0.00</td>\n      <td>...</td>\n      <td>0.000000</td>\n      <td>0.00</td>\n      <td>0.000000</td>\n      <td>0.00</td>\n      <td>0.00</td>\n      <td>0.00</td>\n      <td>0.000000</td>\n      <td>0.00</td>\n      <td>0.00</td>\n      <td>0.00</td>\n    </tr>\n    <tr>\n      <th>16</th>\n      <td>Kampong Glam</td>\n      <td>0.000000</td>\n      <td>0.000000</td>\n      <td>0.000000</td>\n      <td>0.000000</td>\n      <td>0.000000</td>\n      <td>0.000000</td>\n      <td>0.00</td>\n      <td>0.00</td>\n      <td>0.00</td>\n      <td>...</td>\n      <td>0.000000</td>\n      <td>0.01</td>\n      <td>0.010000</td>\n      <td>0.00</td>\n      <td>0.00</td>\n      <td>0.00</td>\n      <td>0.000000</td>\n      <td>0.00</td>\n      <td>0.00</td>\n      <td>0.00</td>\n    </tr>\n    <tr>\n      <th>17</th>\n      <td>Katong</td>\n      <td>0.000000</td>\n      <td>0.000000</td>\n      <td>0.000000</td>\n      <td>0.000000</td>\n      <td>0.000000</td>\n      <td>0.000000</td>\n      <td>0.00</td>\n      <td>0.00</td>\n      <td>0.00</td>\n      <td>...</td>\n      <td>0.010000</td>\n      <td>0.00</td>\n      <td>0.010000</td>\n      <td>0.00</td>\n      <td>0.00</td>\n      <td>0.02</td>\n      <td>0.000000</td>\n      <td>0.00</td>\n      <td>0.00</td>\n      <td>0.00</td>\n    </tr>\n    <tr>\n      <th>18</th>\n      <td>Marine Parade</td>\n      <td>0.000000</td>\n      <td>0.000000</td>\n      <td>0.000000</td>\n      <td>0.000000</td>\n      <td>0.000000</td>\n      <td>0.010000</td>\n      <td>0.00</td>\n      <td>0.00</td>\n      <td>0.00</td>\n      <td>...</td>\n      <td>0.010000</td>\n      <td>0.00</td>\n      <td>0.010000</td>\n      <td>0.00</td>\n      <td>0.00</td>\n      <td>0.02</td>\n      <td>0.000000</td>\n      <td>0.00</td>\n      <td>0.00</td>\n      <td>0.00</td>\n    </tr>\n    <tr>\n      <th>19</th>\n      <td>Novena</td>\n      <td>0.000000</td>\n      <td>0.000000</td>\n      <td>0.000000</td>\n      <td>0.000000</td>\n      <td>0.000000</td>\n      <td>0.000000</td>\n      <td>0.00</td>\n      <td>0.00</td>\n      <td>0.00</td>\n      <td>...</td>\n      <td>0.000000</td>\n      <td>0.00</td>\n      <td>0.010000</td>\n      <td>0.00</td>\n      <td>0.00</td>\n      <td>0.00</td>\n      <td>0.000000</td>\n      <td>0.00</td>\n      <td>0.00</td>\n      <td>0.00</td>\n    </tr>\n    <tr>\n      <th>20</th>\n      <td>Outram</td>\n      <td>0.000000</td>\n      <td>0.000000</td>\n      <td>0.000000</td>\n      <td>0.000000</td>\n      <td>0.000000</td>\n      <td>0.000000</td>\n      <td>0.00</td>\n      <td>0.00</td>\n      <td>0.01</td>\n      <td>...</td>\n      <td>0.010000</td>\n      <td>0.02</td>\n      <td>0.030000</td>\n      <td>0.00</td>\n      <td>0.00</td>\n      <td>0.03</td>\n      <td>0.000000</td>\n      <td>0.00</td>\n      <td>0.00</td>\n      <td>0.00</td>\n    </tr>\n    <tr>\n      <th>21</th>\n      <td>Pasir Ris</td>\n      <td>0.000000</td>\n      <td>0.000000</td>\n      <td>0.000000</td>\n      <td>0.000000</td>\n      <td>0.000000</td>\n      <td>0.010101</td>\n      <td>0.00</td>\n      <td>0.00</td>\n      <td>0.00</td>\n      <td>...</td>\n      <td>0.000000</td>\n      <td>0.00</td>\n      <td>0.000000</td>\n      <td>0.00</td>\n      <td>0.00</td>\n      <td>0.00</td>\n      <td>0.000000</td>\n      <td>0.00</td>\n      <td>0.00</td>\n      <td>0.00</td>\n    </tr>\n    <tr>\n      <th>22</th>\n      <td>Paya Lebar</td>\n      <td>0.000000</td>\n      <td>0.000000</td>\n      <td>0.000000</td>\n      <td>0.000000</td>\n      <td>0.000000</td>\n      <td>0.000000</td>\n      <td>0.00</td>\n      <td>0.00</td>\n      <td>0.00</td>\n      <td>...</td>\n      <td>0.000000</td>\n      <td>0.00</td>\n      <td>0.000000</td>\n      <td>0.00</td>\n      <td>0.00</td>\n      <td>0.00</td>\n      <td>0.000000</td>\n      <td>0.00</td>\n      <td>0.00</td>\n      <td>0.00</td>\n    </tr>\n    <tr>\n      <th>23</th>\n      <td>Punggol</td>\n      <td>0.000000</td>\n      <td>0.000000</td>\n      <td>0.000000</td>\n      <td>0.000000</td>\n      <td>0.000000</td>\n      <td>0.000000</td>\n      <td>0.00</td>\n      <td>0.00</td>\n      <td>0.00</td>\n      <td>...</td>\n      <td>0.000000</td>\n      <td>0.00</td>\n      <td>0.000000</td>\n      <td>0.00</td>\n      <td>0.00</td>\n      <td>0.00</td>\n      <td>0.000000</td>\n      <td>0.00</td>\n      <td>0.00</td>\n      <td>0.00</td>\n    </tr>\n    <tr>\n      <th>24</th>\n      <td>Queenstown</td>\n      <td>0.000000</td>\n      <td>0.000000</td>\n      <td>0.000000</td>\n      <td>0.000000</td>\n      <td>0.000000</td>\n      <td>0.000000</td>\n      <td>0.00</td>\n      <td>0.00</td>\n      <td>0.00</td>\n      <td>...</td>\n      <td>0.000000</td>\n      <td>0.00</td>\n      <td>0.000000</td>\n      <td>0.00</td>\n      <td>0.00</td>\n      <td>0.00</td>\n      <td>0.000000</td>\n      <td>0.00</td>\n      <td>0.00</td>\n      <td>0.00</td>\n    </tr>\n    <tr>\n      <th>25</th>\n      <td>Rochor</td>\n      <td>0.000000</td>\n      <td>0.000000</td>\n      <td>0.000000</td>\n      <td>0.000000</td>\n      <td>0.000000</td>\n      <td>0.000000</td>\n      <td>0.00</td>\n      <td>0.00</td>\n      <td>0.01</td>\n      <td>...</td>\n      <td>0.000000</td>\n      <td>0.02</td>\n      <td>0.020000</td>\n      <td>0.00</td>\n      <td>0.00</td>\n      <td>0.00</td>\n      <td>0.000000</td>\n      <td>0.00</td>\n      <td>0.00</td>\n      <td>0.00</td>\n    </tr>\n    <tr>\n      <th>26</th>\n      <td>Seletar</td>\n      <td>0.000000</td>\n      <td>0.062500</td>\n      <td>0.000000</td>\n      <td>0.020833</td>\n      <td>0.041667</td>\n      <td>0.000000</td>\n      <td>0.00</td>\n      <td>0.00</td>\n      <td>0.00</td>\n      <td>...</td>\n      <td>0.020833</td>\n      <td>0.00</td>\n      <td>0.000000</td>\n      <td>0.00</td>\n      <td>0.00</td>\n      <td>0.00</td>\n      <td>0.000000</td>\n      <td>0.00</td>\n      <td>0.00</td>\n      <td>0.00</td>\n    </tr>\n    <tr>\n      <th>27</th>\n      <td>Sembawang</td>\n      <td>0.000000</td>\n      <td>0.000000</td>\n      <td>0.000000</td>\n      <td>0.000000</td>\n      <td>0.000000</td>\n      <td>0.017857</td>\n      <td>0.00</td>\n      <td>0.00</td>\n      <td>0.00</td>\n      <td>...</td>\n      <td>0.000000</td>\n      <td>0.00</td>\n      <td>0.000000</td>\n      <td>0.00</td>\n      <td>0.00</td>\n      <td>0.00</td>\n      <td>0.000000</td>\n      <td>0.00</td>\n      <td>0.00</td>\n      <td>0.00</td>\n    </tr>\n    <tr>\n      <th>28</th>\n      <td>Sengkang</td>\n      <td>0.000000</td>\n      <td>0.000000</td>\n      <td>0.000000</td>\n      <td>0.000000</td>\n      <td>0.000000</td>\n      <td>0.000000</td>\n      <td>0.00</td>\n      <td>0.00</td>\n      <td>0.00</td>\n      <td>...</td>\n      <td>0.000000</td>\n      <td>0.00</td>\n      <td>0.000000</td>\n      <td>0.00</td>\n      <td>0.00</td>\n      <td>0.00</td>\n      <td>0.000000</td>\n      <td>0.00</td>\n      <td>0.00</td>\n      <td>0.00</td>\n    </tr>\n    <tr>\n      <th>29</th>\n      <td>Serangoon</td>\n      <td>0.000000</td>\n      <td>0.000000</td>\n      <td>0.000000</td>\n      <td>0.000000</td>\n      <td>0.000000</td>\n      <td>0.000000</td>\n      <td>0.00</td>\n      <td>0.00</td>\n      <td>0.00</td>\n      <td>...</td>\n      <td>0.000000</td>\n      <td>0.00</td>\n      <td>0.010000</td>\n      <td>0.01</td>\n      <td>0.00</td>\n      <td>0.00</td>\n      <td>0.000000</td>\n      <td>0.00</td>\n      <td>0.00</td>\n      <td>0.00</td>\n    </tr>\n    <tr>\n      <th>30</th>\n      <td>Siglap</td>\n      <td>0.000000</td>\n      <td>0.000000</td>\n      <td>0.000000</td>\n      <td>0.000000</td>\n      <td>0.000000</td>\n      <td>0.020000</td>\n      <td>0.00</td>\n      <td>0.00</td>\n      <td>0.00</td>\n      <td>...</td>\n      <td>0.010000</td>\n      <td>0.00</td>\n      <td>0.010000</td>\n      <td>0.00</td>\n      <td>0.02</td>\n      <td>0.01</td>\n      <td>0.000000</td>\n      <td>0.00</td>\n      <td>0.00</td>\n      <td>0.00</td>\n    </tr>\n    <tr>\n      <th>31</th>\n      <td>Tampines</td>\n      <td>0.000000</td>\n      <td>0.000000</td>\n      <td>0.000000</td>\n      <td>0.000000</td>\n      <td>0.000000</td>\n      <td>0.000000</td>\n      <td>0.00</td>\n      <td>0.00</td>\n      <td>0.00</td>\n      <td>...</td>\n      <td>0.000000</td>\n      <td>0.00</td>\n      <td>0.000000</td>\n      <td>0.00</td>\n      <td>0.00</td>\n      <td>0.00</td>\n      <td>0.000000</td>\n      <td>0.00</td>\n      <td>0.00</td>\n      <td>0.00</td>\n    </tr>\n    <tr>\n      <th>32</th>\n      <td>Tanglin</td>\n      <td>0.000000</td>\n      <td>0.000000</td>\n      <td>0.000000</td>\n      <td>0.000000</td>\n      <td>0.000000</td>\n      <td>0.010000</td>\n      <td>0.00</td>\n      <td>0.00</td>\n      <td>0.00</td>\n      <td>...</td>\n      <td>0.000000</td>\n      <td>0.00</td>\n      <td>0.000000</td>\n      <td>0.00</td>\n      <td>0.00</td>\n      <td>0.00</td>\n      <td>0.000000</td>\n      <td>0.00</td>\n      <td>0.00</td>\n      <td>0.00</td>\n    </tr>\n    <tr>\n      <th>33</th>\n      <td>Tanjong Pagar</td>\n      <td>0.000000</td>\n      <td>0.000000</td>\n      <td>0.000000</td>\n      <td>0.000000</td>\n      <td>0.000000</td>\n      <td>0.000000</td>\n      <td>0.00</td>\n      <td>0.00</td>\n      <td>0.00</td>\n      <td>...</td>\n      <td>0.010000</td>\n      <td>0.00</td>\n      <td>0.020000</td>\n      <td>0.00</td>\n      <td>0.00</td>\n      <td>0.02</td>\n      <td>0.000000</td>\n      <td>0.00</td>\n      <td>0.00</td>\n      <td>0.00</td>\n    </tr>\n    <tr>\n      <th>34</th>\n      <td>Tiong Bahru</td>\n      <td>0.000000</td>\n      <td>0.000000</td>\n      <td>0.000000</td>\n      <td>0.000000</td>\n      <td>0.000000</td>\n      <td>0.000000</td>\n      <td>0.00</td>\n      <td>0.00</td>\n      <td>0.01</td>\n      <td>...</td>\n      <td>0.010000</td>\n      <td>0.02</td>\n      <td>0.020000</td>\n      <td>0.00</td>\n      <td>0.00</td>\n      <td>0.03</td>\n      <td>0.000000</td>\n      <td>0.00</td>\n      <td>0.00</td>\n      <td>0.00</td>\n    </tr>\n    <tr>\n      <th>35</th>\n      <td>Toa Payoh</td>\n      <td>0.000000</td>\n      <td>0.000000</td>\n      <td>0.000000</td>\n      <td>0.000000</td>\n      <td>0.000000</td>\n      <td>0.000000</td>\n      <td>0.00</td>\n      <td>0.00</td>\n      <td>0.00</td>\n      <td>...</td>\n      <td>0.000000</td>\n      <td>0.00</td>\n      <td>0.000000</td>\n      <td>0.00</td>\n      <td>0.00</td>\n      <td>0.00</td>\n      <td>0.000000</td>\n      <td>0.00</td>\n      <td>0.00</td>\n      <td>0.00</td>\n    </tr>\n    <tr>\n      <th>36</th>\n      <td>Woodlands</td>\n      <td>0.000000</td>\n      <td>0.000000</td>\n      <td>0.000000</td>\n      <td>0.000000</td>\n      <td>0.000000</td>\n      <td>0.011494</td>\n      <td>0.00</td>\n      <td>0.00</td>\n      <td>0.00</td>\n      <td>...</td>\n      <td>0.000000</td>\n      <td>0.00</td>\n      <td>0.000000</td>\n      <td>0.00</td>\n      <td>0.00</td>\n      <td>0.00</td>\n      <td>0.000000</td>\n      <td>0.00</td>\n      <td>0.00</td>\n      <td>0.00</td>\n    </tr>\n    <tr>\n      <th>37</th>\n      <td>Yishun</td>\n      <td>0.000000</td>\n      <td>0.000000</td>\n      <td>0.000000</td>\n      <td>0.000000</td>\n      <td>0.000000</td>\n      <td>0.021739</td>\n      <td>0.00</td>\n      <td>0.00</td>\n      <td>0.00</td>\n      <td>...</td>\n      <td>0.000000</td>\n      <td>0.00</td>\n      <td>0.000000</td>\n      <td>0.00</td>\n      <td>0.00</td>\n      <td>0.00</td>\n      <td>0.000000</td>\n      <td>0.00</td>\n      <td>0.00</td>\n      <td>0.00</td>\n    </tr>\n  </tbody>\n</table>\n<p>38 rows × 288 columns</p>\n</div>"
     },
     "metadata": {},
     "execution_count": 97
    }
   ],
   "source": [
    "sg_grouped = sg_onehot.groupby([\"Neighborhoods\"]).mean().reset_index()\n",
    "\n",
    "print(sg_grouped.shape)\n",
    "sg_grouped"
   ]
  },
  {
   "cell_type": "code",
   "execution_count": 98,
   "metadata": {},
   "outputs": [
    {
     "output_type": "execute_result",
     "data": {
      "text/plain": [
       "27"
      ]
     },
     "metadata": {},
     "execution_count": 98
    }
   ],
   "source": [
    "len(sg_grouped[sg_grouped[\"Shopping Mall\"] > 0])"
   ]
  },
  {
   "cell_type": "code",
   "execution_count": 99,
   "metadata": {},
   "outputs": [
    {
     "output_type": "execute_result",
     "data": {
      "text/plain": [
       "   Neighborhoods  Shopping Mall\n",
       "0     Ang Mo Kio       0.000000\n",
       "1          Bedok       0.020000\n",
       "2         Bisham       0.010000\n",
       "3        Boonlay       0.020000\n",
       "4  Bukit Panjang       0.042254"
      ],
      "text/html": "<div>\n<style scoped>\n    .dataframe tbody tr th:only-of-type {\n        vertical-align: middle;\n    }\n\n    .dataframe tbody tr th {\n        vertical-align: top;\n    }\n\n    .dataframe thead th {\n        text-align: right;\n    }\n</style>\n<table border=\"1\" class=\"dataframe\">\n  <thead>\n    <tr style=\"text-align: right;\">\n      <th></th>\n      <th>Neighborhoods</th>\n      <th>Shopping Mall</th>\n    </tr>\n  </thead>\n  <tbody>\n    <tr>\n      <th>0</th>\n      <td>Ang Mo Kio</td>\n      <td>0.000000</td>\n    </tr>\n    <tr>\n      <th>1</th>\n      <td>Bedok</td>\n      <td>0.020000</td>\n    </tr>\n    <tr>\n      <th>2</th>\n      <td>Bisham</td>\n      <td>0.010000</td>\n    </tr>\n    <tr>\n      <th>3</th>\n      <td>Boonlay</td>\n      <td>0.020000</td>\n    </tr>\n    <tr>\n      <th>4</th>\n      <td>Bukit Panjang</td>\n      <td>0.042254</td>\n    </tr>\n  </tbody>\n</table>\n</div>"
     },
     "metadata": {},
     "execution_count": 99
    }
   ],
   "source": [
    "sg_mall = sg_grouped[[\"Neighborhoods\",\"Shopping Mall\"]]\n",
    "sg_mall.head()"
   ]
  },
  {
   "source": [
    "## Cluster neighborhoods"
   ],
   "cell_type": "markdown",
   "metadata": {}
  },
  {
   "cell_type": "code",
   "execution_count": 100,
   "metadata": {},
   "outputs": [
    {
     "output_type": "execute_result",
     "data": {
      "text/plain": [
       "array([0, 2, 2, 2, 1, 2, 2, 0, 2, 2], dtype=int32)"
      ]
     },
     "metadata": {},
     "execution_count": 100
    }
   ],
   "source": [
    "kclusters = 3\n",
    "\n",
    "sg_clustering = sg_mall.drop([\"Neighborhoods\"], 1)\n",
    "\n",
    "# run k-means clustering\n",
    "kmeans = KMeans(n_clusters=kclusters, random_state=0).fit(sg_clustering)\n",
    "\n",
    "# check cluster labels generated for each row in the dataframe\n",
    "kmeans.labels_[0:10]"
   ]
  },
  {
   "cell_type": "code",
   "execution_count": 101,
   "metadata": {},
   "outputs": [],
   "source": [
    "sg_merged = sg_mall.copy()\n",
    "\n",
    "# add clustering labels\n",
    "sg_merged[\"Cluster Labels\"] = kmeans.labels_"
   ]
  },
  {
   "cell_type": "code",
   "execution_count": 102,
   "metadata": {},
   "outputs": [
    {
     "output_type": "execute_result",
     "data": {
      "text/plain": [
       "    Neighborhood  Shopping Mall  Cluster Labels\n",
       "0     Ang Mo Kio       0.000000               0\n",
       "1          Bedok       0.020000               2\n",
       "2         Bisham       0.010000               2\n",
       "3        Boonlay       0.020000               2\n",
       "4  Bukit Panjang       0.042254               1"
      ],
      "text/html": "<div>\n<style scoped>\n    .dataframe tbody tr th:only-of-type {\n        vertical-align: middle;\n    }\n\n    .dataframe tbody tr th {\n        vertical-align: top;\n    }\n\n    .dataframe thead th {\n        text-align: right;\n    }\n</style>\n<table border=\"1\" class=\"dataframe\">\n  <thead>\n    <tr style=\"text-align: right;\">\n      <th></th>\n      <th>Neighborhood</th>\n      <th>Shopping Mall</th>\n      <th>Cluster Labels</th>\n    </tr>\n  </thead>\n  <tbody>\n    <tr>\n      <th>0</th>\n      <td>Ang Mo Kio</td>\n      <td>0.000000</td>\n      <td>0</td>\n    </tr>\n    <tr>\n      <th>1</th>\n      <td>Bedok</td>\n      <td>0.020000</td>\n      <td>2</td>\n    </tr>\n    <tr>\n      <th>2</th>\n      <td>Bisham</td>\n      <td>0.010000</td>\n      <td>2</td>\n    </tr>\n    <tr>\n      <th>3</th>\n      <td>Boonlay</td>\n      <td>0.020000</td>\n      <td>2</td>\n    </tr>\n    <tr>\n      <th>4</th>\n      <td>Bukit Panjang</td>\n      <td>0.042254</td>\n      <td>1</td>\n    </tr>\n  </tbody>\n</table>\n</div>"
     },
     "metadata": {},
     "execution_count": 102
    }
   ],
   "source": [
    "sg_merged.rename(columns={\"Neighborhoods\": \"Neighborhood\"}, inplace=True)\n",
    "sg_merged.head()"
   ]
  },
  {
   "cell_type": "code",
   "execution_count": 105,
   "metadata": {},
   "outputs": [
    {
     "output_type": "stream",
     "name": "stdout",
     "text": [
      "(38, 5)\n"
     ]
    },
    {
     "output_type": "execute_result",
     "data": {
      "text/plain": [
       "    Neighborhood  Shopping Mall  Cluster Labels  latitude  longtitude\n",
       "0     Ang Mo Kio       0.000000               0   1.37161   103.84546\n",
       "1          Bedok       0.020000               2   1.32425   103.95297\n",
       "2         Bisham       0.010000               2   1.35079   103.85110\n",
       "3        Boonlay       0.020000               2   1.33333   103.70000\n",
       "4  Bukit Panjang       0.042254               1   1.37877   103.76977"
      ],
      "text/html": "<div>\n<style scoped>\n    .dataframe tbody tr th:only-of-type {\n        vertical-align: middle;\n    }\n\n    .dataframe tbody tr th {\n        vertical-align: top;\n    }\n\n    .dataframe thead th {\n        text-align: right;\n    }\n</style>\n<table border=\"1\" class=\"dataframe\">\n  <thead>\n    <tr style=\"text-align: right;\">\n      <th></th>\n      <th>Neighborhood</th>\n      <th>Shopping Mall</th>\n      <th>Cluster Labels</th>\n      <th>latitude</th>\n      <th>longtitude</th>\n    </tr>\n  </thead>\n  <tbody>\n    <tr>\n      <th>0</th>\n      <td>Ang Mo Kio</td>\n      <td>0.000000</td>\n      <td>0</td>\n      <td>1.37161</td>\n      <td>103.84546</td>\n    </tr>\n    <tr>\n      <th>1</th>\n      <td>Bedok</td>\n      <td>0.020000</td>\n      <td>2</td>\n      <td>1.32425</td>\n      <td>103.95297</td>\n    </tr>\n    <tr>\n      <th>2</th>\n      <td>Bisham</td>\n      <td>0.010000</td>\n      <td>2</td>\n      <td>1.35079</td>\n      <td>103.85110</td>\n    </tr>\n    <tr>\n      <th>3</th>\n      <td>Boonlay</td>\n      <td>0.020000</td>\n      <td>2</td>\n      <td>1.33333</td>\n      <td>103.70000</td>\n    </tr>\n    <tr>\n      <th>4</th>\n      <td>Bukit Panjang</td>\n      <td>0.042254</td>\n      <td>1</td>\n      <td>1.37877</td>\n      <td>103.76977</td>\n    </tr>\n  </tbody>\n</table>\n</div>"
     },
     "metadata": {},
     "execution_count": 105
    }
   ],
   "source": [
    "# merge sg_grouped with sg_data to add latitude/longitude for each neighborhood\n",
    "sg_merged = sg_merged.join(df.set_index(\"neighborhood\"), on=\"Neighborhood\")\n",
    "\n",
    "print(sg_merged.shape)\n",
    "sg_merged.head() # check the last columns!"
   ]
  },
  {
   "cell_type": "code",
   "execution_count": 106,
   "metadata": {},
   "outputs": [
    {
     "output_type": "stream",
     "name": "stdout",
     "text": [
      "(38, 5)\n"
     ]
    },
    {
     "output_type": "execute_result",
     "data": {
      "text/plain": [
       "       Neighborhood  Shopping Mall  Cluster Labels  latitude  longtitude\n",
       "0        Ang Mo Kio       0.000000               0  1.371610  103.845460\n",
       "24       Queenstown       0.000000               0  1.299660  103.801720\n",
       "13          Hougang       0.000000               0  1.371240  103.891620\n",
       "26          Seletar       0.000000               0  1.410000  103.874170\n",
       "22       Paya Lebar       0.000000               0  1.325030  103.890490\n",
       "30           Siglap       0.000000               0  1.310590  103.925400\n",
       "7         Chinatown       0.000000               0  1.284790  103.844190\n",
       "20           Outram       0.000000               0  1.284268  103.835192\n",
       "33    Tanjong Pagar       0.000000               0  1.278890  103.845390\n",
       "35        Toa Payoh       0.000000               0  1.334480  103.851080\n",
       "31         Tampines       0.000000               0  1.368190  103.929480\n",
       "4     Bukit Panjang       0.042254               1  1.378770  103.769770\n",
       "34      Tiong Bahru       0.040000               1  1.289530  103.832080\n",
       "14      Jurong East       0.030000               1  1.334370  103.743670\n",
       "25           Rochor       0.030000               1  1.304130  103.850290\n",
       "23          Punggol       0.030000               1  1.402460  103.906860\n",
       "36        Woodlands       0.034483               1  1.435850  103.786980\n",
       "28         Sengkang       0.030000               1  1.392440  103.894700\n",
       "32          Tanglin       0.010000               2  1.316670  103.816670\n",
       "29        Serangoon       0.010000               2  1.355540  103.876600\n",
       "27        Sembawang       0.017857               2  1.447940  103.818910\n",
       "18    Marine Parade       0.010000               2  1.303060  103.907780\n",
       "19           Novena       0.010000               2  1.319100  103.843720\n",
       "17           Katong       0.010000               2  1.304570  103.902880\n",
       "16     Kampong Glam       0.020000               2  1.304130  103.863470\n",
       "15          Kallang       0.010000               2  1.333330  103.866670\n",
       "12  Holland Village       0.010000               2  1.311940  103.793330\n",
       "11     Harbourfront       0.020000               2  1.265200  103.820100\n",
       "10          Geylang       0.010000               2  1.311470  103.882180\n",
       "9          Clementi       0.010000               2  1.314380  103.765370\n",
       "8     Choa Chu Kang       0.012346               2  1.386160  103.746180\n",
       "6            Changi       0.013333               2  1.355140  103.990060\n",
       "5       Bukit Timah       0.010309               2  1.340410  103.772210\n",
       "3           Boonlay       0.020000               2  1.333330  103.700000\n",
       "2            Bisham       0.010000               2  1.350790  103.851100\n",
       "1             Bedok       0.020000               2  1.324250  103.952970\n",
       "21        Pasir Ris       0.010101               2  1.371940  103.949940\n",
       "37           Yishun       0.010870               2  1.436210  103.835820"
      ],
      "text/html": "<div>\n<style scoped>\n    .dataframe tbody tr th:only-of-type {\n        vertical-align: middle;\n    }\n\n    .dataframe tbody tr th {\n        vertical-align: top;\n    }\n\n    .dataframe thead th {\n        text-align: right;\n    }\n</style>\n<table border=\"1\" class=\"dataframe\">\n  <thead>\n    <tr style=\"text-align: right;\">\n      <th></th>\n      <th>Neighborhood</th>\n      <th>Shopping Mall</th>\n      <th>Cluster Labels</th>\n      <th>latitude</th>\n      <th>longtitude</th>\n    </tr>\n  </thead>\n  <tbody>\n    <tr>\n      <th>0</th>\n      <td>Ang Mo Kio</td>\n      <td>0.000000</td>\n      <td>0</td>\n      <td>1.371610</td>\n      <td>103.845460</td>\n    </tr>\n    <tr>\n      <th>24</th>\n      <td>Queenstown</td>\n      <td>0.000000</td>\n      <td>0</td>\n      <td>1.299660</td>\n      <td>103.801720</td>\n    </tr>\n    <tr>\n      <th>13</th>\n      <td>Hougang</td>\n      <td>0.000000</td>\n      <td>0</td>\n      <td>1.371240</td>\n      <td>103.891620</td>\n    </tr>\n    <tr>\n      <th>26</th>\n      <td>Seletar</td>\n      <td>0.000000</td>\n      <td>0</td>\n      <td>1.410000</td>\n      <td>103.874170</td>\n    </tr>\n    <tr>\n      <th>22</th>\n      <td>Paya Lebar</td>\n      <td>0.000000</td>\n      <td>0</td>\n      <td>1.325030</td>\n      <td>103.890490</td>\n    </tr>\n    <tr>\n      <th>30</th>\n      <td>Siglap</td>\n      <td>0.000000</td>\n      <td>0</td>\n      <td>1.310590</td>\n      <td>103.925400</td>\n    </tr>\n    <tr>\n      <th>7</th>\n      <td>Chinatown</td>\n      <td>0.000000</td>\n      <td>0</td>\n      <td>1.284790</td>\n      <td>103.844190</td>\n    </tr>\n    <tr>\n      <th>20</th>\n      <td>Outram</td>\n      <td>0.000000</td>\n      <td>0</td>\n      <td>1.284268</td>\n      <td>103.835192</td>\n    </tr>\n    <tr>\n      <th>33</th>\n      <td>Tanjong Pagar</td>\n      <td>0.000000</td>\n      <td>0</td>\n      <td>1.278890</td>\n      <td>103.845390</td>\n    </tr>\n    <tr>\n      <th>35</th>\n      <td>Toa Payoh</td>\n      <td>0.000000</td>\n      <td>0</td>\n      <td>1.334480</td>\n      <td>103.851080</td>\n    </tr>\n    <tr>\n      <th>31</th>\n      <td>Tampines</td>\n      <td>0.000000</td>\n      <td>0</td>\n      <td>1.368190</td>\n      <td>103.929480</td>\n    </tr>\n    <tr>\n      <th>4</th>\n      <td>Bukit Panjang</td>\n      <td>0.042254</td>\n      <td>1</td>\n      <td>1.378770</td>\n      <td>103.769770</td>\n    </tr>\n    <tr>\n      <th>34</th>\n      <td>Tiong Bahru</td>\n      <td>0.040000</td>\n      <td>1</td>\n      <td>1.289530</td>\n      <td>103.832080</td>\n    </tr>\n    <tr>\n      <th>14</th>\n      <td>Jurong East</td>\n      <td>0.030000</td>\n      <td>1</td>\n      <td>1.334370</td>\n      <td>103.743670</td>\n    </tr>\n    <tr>\n      <th>25</th>\n      <td>Rochor</td>\n      <td>0.030000</td>\n      <td>1</td>\n      <td>1.304130</td>\n      <td>103.850290</td>\n    </tr>\n    <tr>\n      <th>23</th>\n      <td>Punggol</td>\n      <td>0.030000</td>\n      <td>1</td>\n      <td>1.402460</td>\n      <td>103.906860</td>\n    </tr>\n    <tr>\n      <th>36</th>\n      <td>Woodlands</td>\n      <td>0.034483</td>\n      <td>1</td>\n      <td>1.435850</td>\n      <td>103.786980</td>\n    </tr>\n    <tr>\n      <th>28</th>\n      <td>Sengkang</td>\n      <td>0.030000</td>\n      <td>1</td>\n      <td>1.392440</td>\n      <td>103.894700</td>\n    </tr>\n    <tr>\n      <th>32</th>\n      <td>Tanglin</td>\n      <td>0.010000</td>\n      <td>2</td>\n      <td>1.316670</td>\n      <td>103.816670</td>\n    </tr>\n    <tr>\n      <th>29</th>\n      <td>Serangoon</td>\n      <td>0.010000</td>\n      <td>2</td>\n      <td>1.355540</td>\n      <td>103.876600</td>\n    </tr>\n    <tr>\n      <th>27</th>\n      <td>Sembawang</td>\n      <td>0.017857</td>\n      <td>2</td>\n      <td>1.447940</td>\n      <td>103.818910</td>\n    </tr>\n    <tr>\n      <th>18</th>\n      <td>Marine Parade</td>\n      <td>0.010000</td>\n      <td>2</td>\n      <td>1.303060</td>\n      <td>103.907780</td>\n    </tr>\n    <tr>\n      <th>19</th>\n      <td>Novena</td>\n      <td>0.010000</td>\n      <td>2</td>\n      <td>1.319100</td>\n      <td>103.843720</td>\n    </tr>\n    <tr>\n      <th>17</th>\n      <td>Katong</td>\n      <td>0.010000</td>\n      <td>2</td>\n      <td>1.304570</td>\n      <td>103.902880</td>\n    </tr>\n    <tr>\n      <th>16</th>\n      <td>Kampong Glam</td>\n      <td>0.020000</td>\n      <td>2</td>\n      <td>1.304130</td>\n      <td>103.863470</td>\n    </tr>\n    <tr>\n      <th>15</th>\n      <td>Kallang</td>\n      <td>0.010000</td>\n      <td>2</td>\n      <td>1.333330</td>\n      <td>103.866670</td>\n    </tr>\n    <tr>\n      <th>12</th>\n      <td>Holland Village</td>\n      <td>0.010000</td>\n      <td>2</td>\n      <td>1.311940</td>\n      <td>103.793330</td>\n    </tr>\n    <tr>\n      <th>11</th>\n      <td>Harbourfront</td>\n      <td>0.020000</td>\n      <td>2</td>\n      <td>1.265200</td>\n      <td>103.820100</td>\n    </tr>\n    <tr>\n      <th>10</th>\n      <td>Geylang</td>\n      <td>0.010000</td>\n      <td>2</td>\n      <td>1.311470</td>\n      <td>103.882180</td>\n    </tr>\n    <tr>\n      <th>9</th>\n      <td>Clementi</td>\n      <td>0.010000</td>\n      <td>2</td>\n      <td>1.314380</td>\n      <td>103.765370</td>\n    </tr>\n    <tr>\n      <th>8</th>\n      <td>Choa Chu Kang</td>\n      <td>0.012346</td>\n      <td>2</td>\n      <td>1.386160</td>\n      <td>103.746180</td>\n    </tr>\n    <tr>\n      <th>6</th>\n      <td>Changi</td>\n      <td>0.013333</td>\n      <td>2</td>\n      <td>1.355140</td>\n      <td>103.990060</td>\n    </tr>\n    <tr>\n      <th>5</th>\n      <td>Bukit Timah</td>\n      <td>0.010309</td>\n      <td>2</td>\n      <td>1.340410</td>\n      <td>103.772210</td>\n    </tr>\n    <tr>\n      <th>3</th>\n      <td>Boonlay</td>\n      <td>0.020000</td>\n      <td>2</td>\n      <td>1.333330</td>\n      <td>103.700000</td>\n    </tr>\n    <tr>\n      <th>2</th>\n      <td>Bisham</td>\n      <td>0.010000</td>\n      <td>2</td>\n      <td>1.350790</td>\n      <td>103.851100</td>\n    </tr>\n    <tr>\n      <th>1</th>\n      <td>Bedok</td>\n      <td>0.020000</td>\n      <td>2</td>\n      <td>1.324250</td>\n      <td>103.952970</td>\n    </tr>\n    <tr>\n      <th>21</th>\n      <td>Pasir Ris</td>\n      <td>0.010101</td>\n      <td>2</td>\n      <td>1.371940</td>\n      <td>103.949940</td>\n    </tr>\n    <tr>\n      <th>37</th>\n      <td>Yishun</td>\n      <td>0.010870</td>\n      <td>2</td>\n      <td>1.436210</td>\n      <td>103.835820</td>\n    </tr>\n  </tbody>\n</table>\n</div>"
     },
     "metadata": {},
     "execution_count": 106
    }
   ],
   "source": [
    "# sort the results by Cluster Labels\n",
    "print(sg_merged.shape)\n",
    "sg_merged.sort_values([\"Cluster Labels\"], inplace=True)\n",
    "sg_merged"
   ]
  },
  {
   "cell_type": "code",
   "execution_count": 110,
   "metadata": {},
   "outputs": [
    {
     "output_type": "execute_result",
     "data": {
      "text/plain": [
       "<folium.folium.Map at 0x7fc70b832910>"
      ],
      "text/html": "<div style=\"width:100%;\"><div style=\"position:relative;width:100%;height:0;padding-bottom:60%;\"><span style=\"color:#565656\">Make this Notebook Trusted to load map: File -> Trust Notebook</span><iframe src=\"about:blank\" style=\"position:absolute;width:100%;height:100%;left:0;top:0;border:none !important;\" data-html=PCFET0NUWVBFIGh0bWw+CjxoZWFkPiAgICAKICAgIDxtZXRhIGh0dHAtZXF1aXY9ImNvbnRlbnQtdHlwZSIgY29udGVudD0idGV4dC9odG1sOyBjaGFyc2V0PVVURi04IiAvPgogICAgPHNjcmlwdD5MX1BSRUZFUl9DQU5WQVMgPSBmYWxzZTsgTF9OT19UT1VDSCA9IGZhbHNlOyBMX0RJU0FCTEVfM0QgPSBmYWxzZTs8L3NjcmlwdD4KICAgIDxzY3JpcHQgc3JjPSJodHRwczovL2Nkbi5qc2RlbGl2ci5uZXQvbnBtL2xlYWZsZXRAMS4yLjAvZGlzdC9sZWFmbGV0LmpzIj48L3NjcmlwdD4KICAgIDxzY3JpcHQgc3JjPSJodHRwczovL2FqYXguZ29vZ2xlYXBpcy5jb20vYWpheC9saWJzL2pxdWVyeS8xLjExLjEvanF1ZXJ5Lm1pbi5qcyI+PC9zY3JpcHQ+CiAgICA8c2NyaXB0IHNyYz0iaHR0cHM6Ly9tYXhjZG4uYm9vdHN0cmFwY2RuLmNvbS9ib290c3RyYXAvMy4yLjAvanMvYm9vdHN0cmFwLm1pbi5qcyI+PC9zY3JpcHQ+CiAgICA8c2NyaXB0IHNyYz0iaHR0cHM6Ly9jZG5qcy5jbG91ZGZsYXJlLmNvbS9hamF4L2xpYnMvTGVhZmxldC5hd2Vzb21lLW1hcmtlcnMvMi4wLjIvbGVhZmxldC5hd2Vzb21lLW1hcmtlcnMuanMiPjwvc2NyaXB0PgogICAgPGxpbmsgcmVsPSJzdHlsZXNoZWV0IiBocmVmPSJodHRwczovL2Nkbi5qc2RlbGl2ci5uZXQvbnBtL2xlYWZsZXRAMS4yLjAvZGlzdC9sZWFmbGV0LmNzcyIvPgogICAgPGxpbmsgcmVsPSJzdHlsZXNoZWV0IiBocmVmPSJodHRwczovL21heGNkbi5ib290c3RyYXBjZG4uY29tL2Jvb3RzdHJhcC8zLjIuMC9jc3MvYm9vdHN0cmFwLm1pbi5jc3MiLz4KICAgIDxsaW5rIHJlbD0ic3R5bGVzaGVldCIgaHJlZj0iaHR0cHM6Ly9tYXhjZG4uYm9vdHN0cmFwY2RuLmNvbS9ib290c3RyYXAvMy4yLjAvY3NzL2Jvb3RzdHJhcC10aGVtZS5taW4uY3NzIi8+CiAgICA8bGluayByZWw9InN0eWxlc2hlZXQiIGhyZWY9Imh0dHBzOi8vbWF4Y2RuLmJvb3RzdHJhcGNkbi5jb20vZm9udC1hd2Vzb21lLzQuNi4zL2Nzcy9mb250LWF3ZXNvbWUubWluLmNzcyIvPgogICAgPGxpbmsgcmVsPSJzdHlsZXNoZWV0IiBocmVmPSJodHRwczovL2NkbmpzLmNsb3VkZmxhcmUuY29tL2FqYXgvbGlicy9MZWFmbGV0LmF3ZXNvbWUtbWFya2Vycy8yLjAuMi9sZWFmbGV0LmF3ZXNvbWUtbWFya2Vycy5jc3MiLz4KICAgIDxsaW5rIHJlbD0ic3R5bGVzaGVldCIgaHJlZj0iaHR0cHM6Ly9yYXdnaXQuY29tL3B5dGhvbi12aXN1YWxpemF0aW9uL2ZvbGl1bS9tYXN0ZXIvZm9saXVtL3RlbXBsYXRlcy9sZWFmbGV0LmF3ZXNvbWUucm90YXRlLmNzcyIvPgogICAgPHN0eWxlPmh0bWwsIGJvZHkge3dpZHRoOiAxMDAlO2hlaWdodDogMTAwJTttYXJnaW46IDA7cGFkZGluZzogMDt9PC9zdHlsZT4KICAgIDxzdHlsZT4jbWFwIHtwb3NpdGlvbjphYnNvbHV0ZTt0b3A6MDtib3R0b206MDtyaWdodDowO2xlZnQ6MDt9PC9zdHlsZT4KICAgIAogICAgICAgICAgICA8c3R5bGU+ICNtYXBfMDA4MzEwNjc2MGY0NDEyZGExM2M5OTkxNzE4YTc1ZGQgewogICAgICAgICAgICAgICAgcG9zaXRpb24gOiByZWxhdGl2ZTsKICAgICAgICAgICAgICAgIHdpZHRoIDogMTAwLjAlOwogICAgICAgICAgICAgICAgaGVpZ2h0OiAxMDAuMCU7CiAgICAgICAgICAgICAgICBsZWZ0OiAwLjAlOwogICAgICAgICAgICAgICAgdG9wOiAwLjAlOwogICAgICAgICAgICAgICAgfQogICAgICAgICAgICA8L3N0eWxlPgogICAgICAgIAo8L2hlYWQ+Cjxib2R5PiAgICAKICAgIAogICAgICAgICAgICA8ZGl2IGNsYXNzPSJmb2xpdW0tbWFwIiBpZD0ibWFwXzAwODMxMDY3NjBmNDQxMmRhMTNjOTk5MTcxOGE3NWRkIiA+PC9kaXY+CiAgICAgICAgCjwvYm9keT4KPHNjcmlwdD4gICAgCiAgICAKCiAgICAgICAgICAgIAogICAgICAgICAgICAgICAgdmFyIGJvdW5kcyA9IG51bGw7CiAgICAgICAgICAgIAoKICAgICAgICAgICAgdmFyIG1hcF8wMDgzMTA2NzYwZjQ0MTJkYTEzYzk5OTE3MThhNzVkZCA9IEwubWFwKAogICAgICAgICAgICAgICAgICAgICAgICAgICAgICAgICAgJ21hcF8wMDgzMTA2NzYwZjQ0MTJkYTEzYzk5OTE3MThhNzVkZCcsCiAgICAgICAgICAgICAgICAgICAgICAgICAgICAgICAgICB7Y2VudGVyOiBbMS4zNTcxMDcsMTAzLjgxOTQ5OTJdLAogICAgICAgICAgICAgICAgICAgICAgICAgICAgICAgICAgem9vbTogMTIsCiAgICAgICAgICAgICAgICAgICAgICAgICAgICAgICAgICBtYXhCb3VuZHM6IGJvdW5kcywKICAgICAgICAgICAgICAgICAgICAgICAgICAgICAgICAgIGxheWVyczogW10sCiAgICAgICAgICAgICAgICAgICAgICAgICAgICAgICAgICB3b3JsZENvcHlKdW1wOiBmYWxzZSwKICAgICAgICAgICAgICAgICAgICAgICAgICAgICAgICAgIGNyczogTC5DUlMuRVBTRzM4NTcKICAgICAgICAgICAgICAgICAgICAgICAgICAgICAgICAgfSk7CiAgICAgICAgICAgIAogICAgICAgIAogICAgCiAgICAgICAgICAgIHZhciB0aWxlX2xheWVyX2JhMjNkYmU0MGNkNjQzODI4ZTc5ZTQ0MWMzOWI0ZGE3ID0gTC50aWxlTGF5ZXIoCiAgICAgICAgICAgICAgICAnaHR0cHM6Ly97c30udGlsZS5vcGVuc3RyZWV0bWFwLm9yZy97en0ve3h9L3t5fS5wbmcnLAogICAgICAgICAgICAgICAgewogICJhdHRyaWJ1dGlvbiI6IG51bGwsCiAgImRldGVjdFJldGluYSI6IGZhbHNlLAogICJtYXhab29tIjogMTgsCiAgIm1pblpvb20iOiAxLAogICJub1dyYXAiOiBmYWxzZSwKICAic3ViZG9tYWlucyI6ICJhYmMiCn0KICAgICAgICAgICAgICAgICkuYWRkVG8obWFwXzAwODMxMDY3NjBmNDQxMmRhMTNjOTk5MTcxOGE3NWRkKTsKICAgICAgICAKICAgIAogICAgICAgICAgICB2YXIgY2lyY2xlX21hcmtlcl9jMDc4ODNlNDM3OWI0NWIwYmZhM2I1YTJiYzI3ZjkxNyA9IEwuY2lyY2xlTWFya2VyKAogICAgICAgICAgICAgICAgWzEuMzcxNjEwMDAwMDAwMDMyNCwxMDMuODQ1NDYwMDAwMDAwMDZdLAogICAgICAgICAgICAgICAgewogICJidWJibGluZ01vdXNlRXZlbnRzIjogdHJ1ZSwKICAiY29sb3IiOiAiI2ZmMDAwMCIsCiAgImRhc2hBcnJheSI6IG51bGwsCiAgImRhc2hPZmZzZXQiOiBudWxsLAogICJmaWxsIjogdHJ1ZSwKICAiZmlsbENvbG9yIjogIiNmZjAwMDAiLAogICJmaWxsT3BhY2l0eSI6IDAuNywKICAiZmlsbFJ1bGUiOiAiZXZlbm9kZCIsCiAgImxpbmVDYXAiOiAicm91bmQiLAogICJsaW5lSm9pbiI6ICJyb3VuZCIsCiAgIm9wYWNpdHkiOiAxLjAsCiAgInJhZGl1cyI6IDUsCiAgInN0cm9rZSI6IHRydWUsCiAgIndlaWdodCI6IDMKfQogICAgICAgICAgICAgICAgKS5hZGRUbyhtYXBfMDA4MzEwNjc2MGY0NDEyZGExM2M5OTkxNzE4YTc1ZGQpOwogICAgICAgICAgICAKICAgIAogICAgICAgICAgICB2YXIgcG9wdXBfNTM2MjI1OWQ1NDQwNDc5YWExMjFlMjUxYmE5NjQ1NWIgPSBMLnBvcHVwKHttYXhXaWR0aDogJzMwMCd9KTsKCiAgICAgICAgICAgIAogICAgICAgICAgICAgICAgdmFyIGh0bWxfNjUxNDA0YjJkNzBmNDZmMmJkYTM1ZjUzMDU4ZmJjZjYgPSAkKCc8ZGl2IGlkPSJodG1sXzY1MTQwNGIyZDcwZjQ2ZjJiZGEzNWY1MzA1OGZiY2Y2IiBzdHlsZT0id2lkdGg6IDEwMC4wJTsgaGVpZ2h0OiAxMDAuMCU7Ij5BbmcgTW8gS2lvIC0gQ2x1c3RlciAwPC9kaXY+JylbMF07CiAgICAgICAgICAgICAgICBwb3B1cF81MzYyMjU5ZDU0NDA0NzlhYTEyMWUyNTFiYTk2NDU1Yi5zZXRDb250ZW50KGh0bWxfNjUxNDA0YjJkNzBmNDZmMmJkYTM1ZjUzMDU4ZmJjZjYpOwogICAgICAgICAgICAKCiAgICAgICAgICAgIGNpcmNsZV9tYXJrZXJfYzA3ODgzZTQzNzliNDViMGJmYTNiNWEyYmMyN2Y5MTcuYmluZFBvcHVwKHBvcHVwXzUzNjIyNTlkNTQ0MDQ3OWFhMTIxZTI1MWJhOTY0NTViKTsKCiAgICAgICAgICAgIAogICAgICAgIAogICAgCiAgICAgICAgICAgIHZhciBjaXJjbGVfbWFya2VyXzI3MzcyMmFkNGJjZDRkYjE5ZGJhODExNWY2NDljNmE2ID0gTC5jaXJjbGVNYXJrZXIoCiAgICAgICAgICAgICAgICBbMS4yOTk2NjAwMDAwMDAwNzQsMTAzLjgwMTcyMDAwMDAwMDA1XSwKICAgICAgICAgICAgICAgIHsKICAiYnViYmxpbmdNb3VzZUV2ZW50cyI6IHRydWUsCiAgImNvbG9yIjogIiNmZjAwMDAiLAogICJkYXNoQXJyYXkiOiBudWxsLAogICJkYXNoT2Zmc2V0IjogbnVsbCwKICAiZmlsbCI6IHRydWUsCiAgImZpbGxDb2xvciI6ICIjZmYwMDAwIiwKICAiZmlsbE9wYWNpdHkiOiAwLjcsCiAgImZpbGxSdWxlIjogImV2ZW5vZGQiLAogICJsaW5lQ2FwIjogInJvdW5kIiwKICAibGluZUpvaW4iOiAicm91bmQiLAogICJvcGFjaXR5IjogMS4wLAogICJyYWRpdXMiOiA1LAogICJzdHJva2UiOiB0cnVlLAogICJ3ZWlnaHQiOiAzCn0KICAgICAgICAgICAgICAgICkuYWRkVG8obWFwXzAwODMxMDY3NjBmNDQxMmRhMTNjOTk5MTcxOGE3NWRkKTsKICAgICAgICAgICAgCiAgICAKICAgICAgICAgICAgdmFyIHBvcHVwX2Q0Yzk3OGE4ZjBhMDQ2ZjE5YmJhYTU1NTBkZjg4ZWRjID0gTC5wb3B1cCh7bWF4V2lkdGg6ICczMDAnfSk7CgogICAgICAgICAgICAKICAgICAgICAgICAgICAgIHZhciBodG1sXzVlOGExNGFiNzE5YjRlMDdhNmM1NGJlZDY5N2NiMDdjID0gJCgnPGRpdiBpZD0iaHRtbF81ZThhMTRhYjcxOWI0ZTA3YTZjNTRiZWQ2OTdjYjA3YyIgc3R5bGU9IndpZHRoOiAxMDAuMCU7IGhlaWdodDogMTAwLjAlOyI+UXVlZW5zdG93biAtIENsdXN0ZXIgMDwvZGl2PicpWzBdOwogICAgICAgICAgICAgICAgcG9wdXBfZDRjOTc4YThmMGEwNDZmMTliYmFhNTU1MGRmODhlZGMuc2V0Q29udGVudChodG1sXzVlOGExNGFiNzE5YjRlMDdhNmM1NGJlZDY5N2NiMDdjKTsKICAgICAgICAgICAgCgogICAgICAgICAgICBjaXJjbGVfbWFya2VyXzI3MzcyMmFkNGJjZDRkYjE5ZGJhODExNWY2NDljNmE2LmJpbmRQb3B1cChwb3B1cF9kNGM5NzhhOGYwYTA0NmYxOWJiYWE1NTUwZGY4OGVkYyk7CgogICAgICAgICAgICAKICAgICAgICAKICAgIAogICAgICAgICAgICB2YXIgY2lyY2xlX21hcmtlcl85MmZkMTY2YmFmYmE0NTg0ODM4ZDk0YzhhMzdlYjA0NSA9IEwuY2lyY2xlTWFya2VyKAogICAgICAgICAgICAgICAgWzEuMzcxMjQwMDAwMDAwMDU3LDEwMy44OTE2MjAwMDAwMDAwNV0sCiAgICAgICAgICAgICAgICB7CiAgImJ1YmJsaW5nTW91c2VFdmVudHMiOiB0cnVlLAogICJjb2xvciI6ICIjZmYwMDAwIiwKICAiZGFzaEFycmF5IjogbnVsbCwKICAiZGFzaE9mZnNldCI6IG51bGwsCiAgImZpbGwiOiB0cnVlLAogICJmaWxsQ29sb3IiOiAiI2ZmMDAwMCIsCiAgImZpbGxPcGFjaXR5IjogMC43LAogICJmaWxsUnVsZSI6ICJldmVub2RkIiwKICAibGluZUNhcCI6ICJyb3VuZCIsCiAgImxpbmVKb2luIjogInJvdW5kIiwKICAib3BhY2l0eSI6IDEuMCwKICAicmFkaXVzIjogNSwKICAic3Ryb2tlIjogdHJ1ZSwKICAid2VpZ2h0IjogMwp9CiAgICAgICAgICAgICAgICApLmFkZFRvKG1hcF8wMDgzMTA2NzYwZjQ0MTJkYTEzYzk5OTE3MThhNzVkZCk7CiAgICAgICAgICAgIAogICAgCiAgICAgICAgICAgIHZhciBwb3B1cF82NTM2MWQzNTZlYjY0NTE1ODdhYWM3MDY5YjFkMDQzNiA9IEwucG9wdXAoe21heFdpZHRoOiAnMzAwJ30pOwoKICAgICAgICAgICAgCiAgICAgICAgICAgICAgICB2YXIgaHRtbF9hZTVhZDljNzY4OTg0ZTE4YWNmNjcxNTM0Y2NjMzZhNCA9ICQoJzxkaXYgaWQ9Imh0bWxfYWU1YWQ5Yzc2ODk4NGUxOGFjZjY3MTUzNGNjYzM2YTQiIHN0eWxlPSJ3aWR0aDogMTAwLjAlOyBoZWlnaHQ6IDEwMC4wJTsiPkhvdWdhbmcgLSBDbHVzdGVyIDA8L2Rpdj4nKVswXTsKICAgICAgICAgICAgICAgIHBvcHVwXzY1MzYxZDM1NmViNjQ1MTU4N2FhYzcwNjliMWQwNDM2LnNldENvbnRlbnQoaHRtbF9hZTVhZDljNzY4OTg0ZTE4YWNmNjcxNTM0Y2NjMzZhNCk7CiAgICAgICAgICAgIAoKICAgICAgICAgICAgY2lyY2xlX21hcmtlcl85MmZkMTY2YmFmYmE0NTg0ODM4ZDk0YzhhMzdlYjA0NS5iaW5kUG9wdXAocG9wdXBfNjUzNjFkMzU2ZWI2NDUxNTg3YWFjNzA2OWIxZDA0MzYpOwoKICAgICAgICAgICAgCiAgICAgICAgCiAgICAKICAgICAgICAgICAgdmFyIGNpcmNsZV9tYXJrZXJfNDY3MjZjZDQ0MzA4NDA0NjkzNjU3OGEyZTUzODE3OTEgPSBMLmNpcmNsZU1hcmtlcigKICAgICAgICAgICAgICAgIFsxLjQxMDAwMDAwMDAwMDAyNSwxMDMuODc0MTcwMDAwMDAwMDVdLAogICAgICAgICAgICAgICAgewogICJidWJibGluZ01vdXNlRXZlbnRzIjogdHJ1ZSwKICAiY29sb3IiOiAiI2ZmMDAwMCIsCiAgImRhc2hBcnJheSI6IG51bGwsCiAgImRhc2hPZmZzZXQiOiBudWxsLAogICJmaWxsIjogdHJ1ZSwKICAiZmlsbENvbG9yIjogIiNmZjAwMDAiLAogICJmaWxsT3BhY2l0eSI6IDAuNywKICAiZmlsbFJ1bGUiOiAiZXZlbm9kZCIsCiAgImxpbmVDYXAiOiAicm91bmQiLAogICJsaW5lSm9pbiI6ICJyb3VuZCIsCiAgIm9wYWNpdHkiOiAxLjAsCiAgInJhZGl1cyI6IDUsCiAgInN0cm9rZSI6IHRydWUsCiAgIndlaWdodCI6IDMKfQogICAgICAgICAgICAgICAgKS5hZGRUbyhtYXBfMDA4MzEwNjc2MGY0NDEyZGExM2M5OTkxNzE4YTc1ZGQpOwogICAgICAgICAgICAKICAgIAogICAgICAgICAgICB2YXIgcG9wdXBfMTFiMTI2MDVjNGYxNDkwOGE5ZTc5NTRkMjEwNmY4YjYgPSBMLnBvcHVwKHttYXhXaWR0aDogJzMwMCd9KTsKCiAgICAgICAgICAgIAogICAgICAgICAgICAgICAgdmFyIGh0bWxfN2MyZWFlYWI1ZGUwNGNhMGE1NTVmOTAyZDU5NzdiMWQgPSAkKCc8ZGl2IGlkPSJodG1sXzdjMmVhZWFiNWRlMDRjYTBhNTU1ZjkwMmQ1OTc3YjFkIiBzdHlsZT0id2lkdGg6IDEwMC4wJTsgaGVpZ2h0OiAxMDAuMCU7Ij5TZWxldGFyIC0gQ2x1c3RlciAwPC9kaXY+JylbMF07CiAgICAgICAgICAgICAgICBwb3B1cF8xMWIxMjYwNWM0ZjE0OTA4YTllNzk1NGQyMTA2ZjhiNi5zZXRDb250ZW50KGh0bWxfN2MyZWFlYWI1ZGUwNGNhMGE1NTVmOTAyZDU5NzdiMWQpOwogICAgICAgICAgICAKCiAgICAgICAgICAgIGNpcmNsZV9tYXJrZXJfNDY3MjZjZDQ0MzA4NDA0NjkzNjU3OGEyZTUzODE3OTEuYmluZFBvcHVwKHBvcHVwXzExYjEyNjA1YzRmMTQ5MDhhOWU3OTU0ZDIxMDZmOGI2KTsKCiAgICAgICAgICAgIAogICAgICAgIAogICAgCiAgICAgICAgICAgIHZhciBjaXJjbGVfbWFya2VyX2U1YjI4Y2YyYmQ5MTRiYTc4MGI1MGUzMWJjNGVhNGRlID0gTC5jaXJjbGVNYXJrZXIoCiAgICAgICAgICAgICAgICBbMS4zMjUwMzAwMDAwMDAwMjY2LDEwMy44OTA0OTAwMDAwMDAwNl0sCiAgICAgICAgICAgICAgICB7CiAgImJ1YmJsaW5nTW91c2VFdmVudHMiOiB0cnVlLAogICJjb2xvciI6ICIjZmYwMDAwIiwKICAiZGFzaEFycmF5IjogbnVsbCwKICAiZGFzaE9mZnNldCI6IG51bGwsCiAgImZpbGwiOiB0cnVlLAogICJmaWxsQ29sb3IiOiAiI2ZmMDAwMCIsCiAgImZpbGxPcGFjaXR5IjogMC43LAogICJmaWxsUnVsZSI6ICJldmVub2RkIiwKICAibGluZUNhcCI6ICJyb3VuZCIsCiAgImxpbmVKb2luIjogInJvdW5kIiwKICAib3BhY2l0eSI6IDEuMCwKICAicmFkaXVzIjogNSwKICAic3Ryb2tlIjogdHJ1ZSwKICAid2VpZ2h0IjogMwp9CiAgICAgICAgICAgICAgICApLmFkZFRvKG1hcF8wMDgzMTA2NzYwZjQ0MTJkYTEzYzk5OTE3MThhNzVkZCk7CiAgICAgICAgICAgIAogICAgCiAgICAgICAgICAgIHZhciBwb3B1cF9iYWEwNTc0ZDVhYzk0MWQ2YTc2NWNhMTE4NWQzMTA1OSA9IEwucG9wdXAoe21heFdpZHRoOiAnMzAwJ30pOwoKICAgICAgICAgICAgCiAgICAgICAgICAgICAgICB2YXIgaHRtbF82YTZmMmJkM2MyOWY0YTRjODkzNGE3MzBjYWRjZGE3ZCA9ICQoJzxkaXYgaWQ9Imh0bWxfNmE2ZjJiZDNjMjlmNGE0Yzg5MzRhNzMwY2FkY2RhN2QiIHN0eWxlPSJ3aWR0aDogMTAwLjAlOyBoZWlnaHQ6IDEwMC4wJTsiPlBheWEgTGViYXIgLSBDbHVzdGVyIDA8L2Rpdj4nKVswXTsKICAgICAgICAgICAgICAgIHBvcHVwX2JhYTA1NzRkNWFjOTQxZDZhNzY1Y2ExMTg1ZDMxMDU5LnNldENvbnRlbnQoaHRtbF82YTZmMmJkM2MyOWY0YTRjODkzNGE3MzBjYWRjZGE3ZCk7CiAgICAgICAgICAgIAoKICAgICAgICAgICAgY2lyY2xlX21hcmtlcl9lNWIyOGNmMmJkOTE0YmE3ODBiNTBlMzFiYzRlYTRkZS5iaW5kUG9wdXAocG9wdXBfYmFhMDU3NGQ1YWM5NDFkNmE3NjVjYTExODVkMzEwNTkpOwoKICAgICAgICAgICAgCiAgICAgICAgCiAgICAKICAgICAgICAgICAgdmFyIGNpcmNsZV9tYXJrZXJfNDhmMTc2YWVjZDYyNDQxNGJhYWYxYzFiOThlMTY3NTUgPSBMLmNpcmNsZU1hcmtlcigKICAgICAgICAgICAgICAgIFsxLjMxMDU5MDAwMDAwMDA0NzQsMTAzLjkyNTQwMDAwMDAwMDA4XSwKICAgICAgICAgICAgICAgIHsKICAiYnViYmxpbmdNb3VzZUV2ZW50cyI6IHRydWUsCiAgImNvbG9yIjogIiNmZjAwMDAiLAogICJkYXNoQXJyYXkiOiBudWxsLAogICJkYXNoT2Zmc2V0IjogbnVsbCwKICAiZmlsbCI6IHRydWUsCiAgImZpbGxDb2xvciI6ICIjZmYwMDAwIiwKICAiZmlsbE9wYWNpdHkiOiAwLjcsCiAgImZpbGxSdWxlIjogImV2ZW5vZGQiLAogICJsaW5lQ2FwIjogInJvdW5kIiwKICAibGluZUpvaW4iOiAicm91bmQiLAogICJvcGFjaXR5IjogMS4wLAogICJyYWRpdXMiOiA1LAogICJzdHJva2UiOiB0cnVlLAogICJ3ZWlnaHQiOiAzCn0KICAgICAgICAgICAgICAgICkuYWRkVG8obWFwXzAwODMxMDY3NjBmNDQxMmRhMTNjOTk5MTcxOGE3NWRkKTsKICAgICAgICAgICAgCiAgICAKICAgICAgICAgICAgdmFyIHBvcHVwX2VjYjMyNGE2NWY0MjQzOGQ4Nzk1Njk4N2UwZjhiODQ1ID0gTC5wb3B1cCh7bWF4V2lkdGg6ICczMDAnfSk7CgogICAgICAgICAgICAKICAgICAgICAgICAgICAgIHZhciBodG1sXzdmZGU4NmUzMTFjMDRhMTNhY2M0ZWE4YmRjYjg2MjRkID0gJCgnPGRpdiBpZD0iaHRtbF83ZmRlODZlMzExYzA0YTEzYWNjNGVhOGJkY2I4NjI0ZCIgc3R5bGU9IndpZHRoOiAxMDAuMCU7IGhlaWdodDogMTAwLjAlOyI+U2lnbGFwIC0gQ2x1c3RlciAwPC9kaXY+JylbMF07CiAgICAgICAgICAgICAgICBwb3B1cF9lY2IzMjRhNjVmNDI0MzhkODc5NTY5ODdlMGY4Yjg0NS5zZXRDb250ZW50KGh0bWxfN2ZkZTg2ZTMxMWMwNGExM2FjYzRlYThiZGNiODYyNGQpOwogICAgICAgICAgICAKCiAgICAgICAgICAgIGNpcmNsZV9tYXJrZXJfNDhmMTc2YWVjZDYyNDQxNGJhYWYxYzFiOThlMTY3NTUuYmluZFBvcHVwKHBvcHVwX2VjYjMyNGE2NWY0MjQzOGQ4Nzk1Njk4N2UwZjhiODQ1KTsKCiAgICAgICAgICAgIAogICAgICAgIAogICAgCiAgICAgICAgICAgIHZhciBjaXJjbGVfbWFya2VyX2JlNWJkYWFlNmMxNDRlZmE4ODczYjRhODA2NDU2MGMwID0gTC5jaXJjbGVNYXJrZXIoCiAgICAgICAgICAgICAgICBbMS4yODQ3OTAwMDAwMDAwNDM2LDEwMy44NDQxOTAwMDAwMDAwOF0sCiAgICAgICAgICAgICAgICB7CiAgImJ1YmJsaW5nTW91c2VFdmVudHMiOiB0cnVlLAogICJjb2xvciI6ICIjZmYwMDAwIiwKICAiZGFzaEFycmF5IjogbnVsbCwKICAiZGFzaE9mZnNldCI6IG51bGwsCiAgImZpbGwiOiB0cnVlLAogICJmaWxsQ29sb3IiOiAiI2ZmMDAwMCIsCiAgImZpbGxPcGFjaXR5IjogMC43LAogICJmaWxsUnVsZSI6ICJldmVub2RkIiwKICAibGluZUNhcCI6ICJyb3VuZCIsCiAgImxpbmVKb2luIjogInJvdW5kIiwKICAib3BhY2l0eSI6IDEuMCwKICAicmFkaXVzIjogNSwKICAic3Ryb2tlIjogdHJ1ZSwKICAid2VpZ2h0IjogMwp9CiAgICAgICAgICAgICAgICApLmFkZFRvKG1hcF8wMDgzMTA2NzYwZjQ0MTJkYTEzYzk5OTE3MThhNzVkZCk7CiAgICAgICAgICAgIAogICAgCiAgICAgICAgICAgIHZhciBwb3B1cF9hZTY1MzE1MmI2MTg0NzgwOWEwYzQ2NWZhOTc2NmFiZiA9IEwucG9wdXAoe21heFdpZHRoOiAnMzAwJ30pOwoKICAgICAgICAgICAgCiAgICAgICAgICAgICAgICB2YXIgaHRtbF9jYjZmZGMwODZlYmE0ZTRlYWRlNWY0Mjk0ZGYzYzg5ZCA9ICQoJzxkaXYgaWQ9Imh0bWxfY2I2ZmRjMDg2ZWJhNGU0ZWFkZTVmNDI5NGRmM2M4OWQiIHN0eWxlPSJ3aWR0aDogMTAwLjAlOyBoZWlnaHQ6IDEwMC4wJTsiPkNoaW5hdG93biAtIENsdXN0ZXIgMDwvZGl2PicpWzBdOwogICAgICAgICAgICAgICAgcG9wdXBfYWU2NTMxNTJiNjE4NDc4MDlhMGM0NjVmYTk3NjZhYmYuc2V0Q29udGVudChodG1sX2NiNmZkYzA4NmViYTRlNGVhZGU1ZjQyOTRkZjNjODlkKTsKICAgICAgICAgICAgCgogICAgICAgICAgICBjaXJjbGVfbWFya2VyX2JlNWJkYWFlNmMxNDRlZmE4ODczYjRhODA2NDU2MGMwLmJpbmRQb3B1cChwb3B1cF9hZTY1MzE1MmI2MTg0NzgwOWEwYzQ2NWZhOTc2NmFiZik7CgogICAgICAgICAgICAKICAgICAgICAKICAgIAogICAgICAgICAgICB2YXIgY2lyY2xlX21hcmtlcl9hMmNiNjMyNjBiODc0NzFkODJhY2EyOWIzN2VjMzlmMCA9IEwuY2lyY2xlTWFya2VyKAogICAgICAgICAgICAgICAgWzEuMjg0MjY3NTE3OTQ0MzkwNSwxMDMuODM1MTkyMDAyODAxOF0sCiAgICAgICAgICAgICAgICB7CiAgImJ1YmJsaW5nTW91c2VFdmVudHMiOiB0cnVlLAogICJjb2xvciI6ICIjZmYwMDAwIiwKICAiZGFzaEFycmF5IjogbnVsbCwKICAiZGFzaE9mZnNldCI6IG51bGwsCiAgImZpbGwiOiB0cnVlLAogICJmaWxsQ29sb3IiOiAiI2ZmMDAwMCIsCiAgImZpbGxPcGFjaXR5IjogMC43LAogICJmaWxsUnVsZSI6ICJldmVub2RkIiwKICAibGluZUNhcCI6ICJyb3VuZCIsCiAgImxpbmVKb2luIjogInJvdW5kIiwKICAib3BhY2l0eSI6IDEuMCwKICAicmFkaXVzIjogNSwKICAic3Ryb2tlIjogdHJ1ZSwKICAid2VpZ2h0IjogMwp9CiAgICAgICAgICAgICAgICApLmFkZFRvKG1hcF8wMDgzMTA2NzYwZjQ0MTJkYTEzYzk5OTE3MThhNzVkZCk7CiAgICAgICAgICAgIAogICAgCiAgICAgICAgICAgIHZhciBwb3B1cF8zMzlhZmJjZTM2YzM0YTRmOGY3YzY0NmVhMjE3MTljNSA9IEwucG9wdXAoe21heFdpZHRoOiAnMzAwJ30pOwoKICAgICAgICAgICAgCiAgICAgICAgICAgICAgICB2YXIgaHRtbF85MTI3MTRmZDQ3OWU0OTdjOWRjMjBhMTA4OGQ5Njk3NyA9ICQoJzxkaXYgaWQ9Imh0bWxfOTEyNzE0ZmQ0NzllNDk3YzlkYzIwYTEwODhkOTY5NzciIHN0eWxlPSJ3aWR0aDogMTAwLjAlOyBoZWlnaHQ6IDEwMC4wJTsiPk91dHJhbSAtIENsdXN0ZXIgMDwvZGl2PicpWzBdOwogICAgICAgICAgICAgICAgcG9wdXBfMzM5YWZiY2UzNmMzNGE0ZjhmN2M2NDZlYTIxNzE5YzUuc2V0Q29udGVudChodG1sXzkxMjcxNGZkNDc5ZTQ5N2M5ZGMyMGExMDg4ZDk2OTc3KTsKICAgICAgICAgICAgCgogICAgICAgICAgICBjaXJjbGVfbWFya2VyX2EyY2I2MzI2MGI4NzQ3MWQ4MmFjYTI5YjM3ZWMzOWYwLmJpbmRQb3B1cChwb3B1cF8zMzlhZmJjZTM2YzM0YTRmOGY3YzY0NmVhMjE3MTljNSk7CgogICAgICAgICAgICAKICAgICAgICAKICAgIAogICAgICAgICAgICB2YXIgY2lyY2xlX21hcmtlcl9iMmRlNWVkMWFhYTA0NTUyODEyMjkyNWU0ZThmOGE4MyA9IEwuY2lyY2xlTWFya2VyKAogICAgICAgICAgICAgICAgWzEuMjc4ODkwMDAwMDAwMDQ2NywxMDMuODQ1MzkwMDAwMDAwMDddLAogICAgICAgICAgICAgICAgewogICJidWJibGluZ01vdXNlRXZlbnRzIjogdHJ1ZSwKICAiY29sb3IiOiAiI2ZmMDAwMCIsCiAgImRhc2hBcnJheSI6IG51bGwsCiAgImRhc2hPZmZzZXQiOiBudWxsLAogICJmaWxsIjogdHJ1ZSwKICAiZmlsbENvbG9yIjogIiNmZjAwMDAiLAogICJmaWxsT3BhY2l0eSI6IDAuNywKICAiZmlsbFJ1bGUiOiAiZXZlbm9kZCIsCiAgImxpbmVDYXAiOiAicm91bmQiLAogICJsaW5lSm9pbiI6ICJyb3VuZCIsCiAgIm9wYWNpdHkiOiAxLjAsCiAgInJhZGl1cyI6IDUsCiAgInN0cm9rZSI6IHRydWUsCiAgIndlaWdodCI6IDMKfQogICAgICAgICAgICAgICAgKS5hZGRUbyhtYXBfMDA4MzEwNjc2MGY0NDEyZGExM2M5OTkxNzE4YTc1ZGQpOwogICAgICAgICAgICAKICAgIAogICAgICAgICAgICB2YXIgcG9wdXBfYzNjMWZkOGFkNWUyNDJiN2ExZDhlZDZkNTIzYWRhZWQgPSBMLnBvcHVwKHttYXhXaWR0aDogJzMwMCd9KTsKCiAgICAgICAgICAgIAogICAgICAgICAgICAgICAgdmFyIGh0bWxfMjZlMGM4NGZlNTQ1NGM4MDkwZmFjYzA2NWE3NzRlYzIgPSAkKCc8ZGl2IGlkPSJodG1sXzI2ZTBjODRmZTU0NTRjODA5MGZhY2MwNjVhNzc0ZWMyIiBzdHlsZT0id2lkdGg6IDEwMC4wJTsgaGVpZ2h0OiAxMDAuMCU7Ij5UYW5qb25nIFBhZ2FyIC0gQ2x1c3RlciAwPC9kaXY+JylbMF07CiAgICAgICAgICAgICAgICBwb3B1cF9jM2MxZmQ4YWQ1ZTI0MmI3YTFkOGVkNmQ1MjNhZGFlZC5zZXRDb250ZW50KGh0bWxfMjZlMGM4NGZlNTQ1NGM4MDkwZmFjYzA2NWE3NzRlYzIpOwogICAgICAgICAgICAKCiAgICAgICAgICAgIGNpcmNsZV9tYXJrZXJfYjJkZTVlZDFhYWEwNDU1MjgxMjI5MjVlNGU4ZjhhODMuYmluZFBvcHVwKHBvcHVwX2MzYzFmZDhhZDVlMjQyYjdhMWQ4ZWQ2ZDUyM2FkYWVkKTsKCiAgICAgICAgICAgIAogICAgICAgIAogICAgCiAgICAgICAgICAgIHZhciBjaXJjbGVfbWFya2VyX2QwZmM1MmM5ZWE5NTRlOTZhMWVhMDJiMDRmZjAyOWU5ID0gTC5jaXJjbGVNYXJrZXIoCiAgICAgICAgICAgICAgICBbMS4zMzQ0ODAwMDAwMDAwNDE5LDEwMy44NTEwODAwMDAwMDAwOF0sCiAgICAgICAgICAgICAgICB7CiAgImJ1YmJsaW5nTW91c2VFdmVudHMiOiB0cnVlLAogICJjb2xvciI6ICIjZmYwMDAwIiwKICAiZGFzaEFycmF5IjogbnVsbCwKICAiZGFzaE9mZnNldCI6IG51bGwsCiAgImZpbGwiOiB0cnVlLAogICJmaWxsQ29sb3IiOiAiI2ZmMDAwMCIsCiAgImZpbGxPcGFjaXR5IjogMC43LAogICJmaWxsUnVsZSI6ICJldmVub2RkIiwKICAibGluZUNhcCI6ICJyb3VuZCIsCiAgImxpbmVKb2luIjogInJvdW5kIiwKICAib3BhY2l0eSI6IDEuMCwKICAicmFkaXVzIjogNSwKICAic3Ryb2tlIjogdHJ1ZSwKICAid2VpZ2h0IjogMwp9CiAgICAgICAgICAgICAgICApLmFkZFRvKG1hcF8wMDgzMTA2NzYwZjQ0MTJkYTEzYzk5OTE3MThhNzVkZCk7CiAgICAgICAgICAgIAogICAgCiAgICAgICAgICAgIHZhciBwb3B1cF8yNzFjYzE3NGVlMTc0ZGFhOGEwNDMyYTkyNWU0ZTdkYSA9IEwucG9wdXAoe21heFdpZHRoOiAnMzAwJ30pOwoKICAgICAgICAgICAgCiAgICAgICAgICAgICAgICB2YXIgaHRtbF8xODYyMTIzMDdkYjM0MWI1YmRjNmMwNjRmNmMwMGE3NCA9ICQoJzxkaXYgaWQ9Imh0bWxfMTg2MjEyMzA3ZGIzNDFiNWJkYzZjMDY0ZjZjMDBhNzQiIHN0eWxlPSJ3aWR0aDogMTAwLjAlOyBoZWlnaHQ6IDEwMC4wJTsiPlRvYSBQYXlvaCAtIENsdXN0ZXIgMDwvZGl2PicpWzBdOwogICAgICAgICAgICAgICAgcG9wdXBfMjcxY2MxNzRlZTE3NGRhYThhMDQzMmE5MjVlNGU3ZGEuc2V0Q29udGVudChodG1sXzE4NjIxMjMwN2RiMzQxYjViZGM2YzA2NGY2YzAwYTc0KTsKICAgICAgICAgICAgCgogICAgICAgICAgICBjaXJjbGVfbWFya2VyX2QwZmM1MmM5ZWE5NTRlOTZhMWVhMDJiMDRmZjAyOWU5LmJpbmRQb3B1cChwb3B1cF8yNzFjYzE3NGVlMTc0ZGFhOGEwNDMyYTkyNWU0ZTdkYSk7CgogICAgICAgICAgICAKICAgICAgICAKICAgIAogICAgICAgICAgICB2YXIgY2lyY2xlX21hcmtlcl8wYjY4ODljOGJlMjg0ZDZiOTNkNTg1YWY1MmMxYTA2YyA9IEwuY2lyY2xlTWFya2VyKAogICAgICAgICAgICAgICAgWzEuMzY4MTkwMDAwMDAwMDI2OSwxMDMuOTI5NDgwMDAwMDAwMDddLAogICAgICAgICAgICAgICAgewogICJidWJibGluZ01vdXNlRXZlbnRzIjogdHJ1ZSwKICAiY29sb3IiOiAiI2ZmMDAwMCIsCiAgImRhc2hBcnJheSI6IG51bGwsCiAgImRhc2hPZmZzZXQiOiBudWxsLAogICJmaWxsIjogdHJ1ZSwKICAiZmlsbENvbG9yIjogIiNmZjAwMDAiLAogICJmaWxsT3BhY2l0eSI6IDAuNywKICAiZmlsbFJ1bGUiOiAiZXZlbm9kZCIsCiAgImxpbmVDYXAiOiAicm91bmQiLAogICJsaW5lSm9pbiI6ICJyb3VuZCIsCiAgIm9wYWNpdHkiOiAxLjAsCiAgInJhZGl1cyI6IDUsCiAgInN0cm9rZSI6IHRydWUsCiAgIndlaWdodCI6IDMKfQogICAgICAgICAgICAgICAgKS5hZGRUbyhtYXBfMDA4MzEwNjc2MGY0NDEyZGExM2M5OTkxNzE4YTc1ZGQpOwogICAgICAgICAgICAKICAgIAogICAgICAgICAgICB2YXIgcG9wdXBfYmViZmJkOWFiYzg2NGUwZGJjZWIzMzEwZGVkMmIxNjIgPSBMLnBvcHVwKHttYXhXaWR0aDogJzMwMCd9KTsKCiAgICAgICAgICAgIAogICAgICAgICAgICAgICAgdmFyIGh0bWxfYmE0NDVmZmY0YjMxNDEyZGIzZjJhZjdhMzFmYTY3ZDcgPSAkKCc8ZGl2IGlkPSJodG1sX2JhNDQ1ZmZmNGIzMTQxMmRiM2YyYWY3YTMxZmE2N2Q3IiBzdHlsZT0id2lkdGg6IDEwMC4wJTsgaGVpZ2h0OiAxMDAuMCU7Ij5UYW1waW5lcyAtIENsdXN0ZXIgMDwvZGl2PicpWzBdOwogICAgICAgICAgICAgICAgcG9wdXBfYmViZmJkOWFiYzg2NGUwZGJjZWIzMzEwZGVkMmIxNjIuc2V0Q29udGVudChodG1sX2JhNDQ1ZmZmNGIzMTQxMmRiM2YyYWY3YTMxZmE2N2Q3KTsKICAgICAgICAgICAgCgogICAgICAgICAgICBjaXJjbGVfbWFya2VyXzBiNjg4OWM4YmUyODRkNmI5M2Q1ODVhZjUyYzFhMDZjLmJpbmRQb3B1cChwb3B1cF9iZWJmYmQ5YWJjODY0ZTBkYmNlYjMzMTBkZWQyYjE2Mik7CgogICAgICAgICAgICAKICAgICAgICAKICAgIAogICAgICAgICAgICB2YXIgY2lyY2xlX21hcmtlcl9lMTcwODYzMTE2MmY0OTY3OWNjN2ZjYWIxZDA1NzI2ZCA9IEwuY2lyY2xlTWFya2VyKAogICAgICAgICAgICAgICAgWzEuMzc4NzcwMDAwMDAwMDMxNCwxMDMuNzY5NzcwMDAwMDAwMDVdLAogICAgICAgICAgICAgICAgewogICJidWJibGluZ01vdXNlRXZlbnRzIjogdHJ1ZSwKICAiY29sb3IiOiAiIzgwMDBmZiIsCiAgImRhc2hBcnJheSI6IG51bGwsCiAgImRhc2hPZmZzZXQiOiBudWxsLAogICJmaWxsIjogdHJ1ZSwKICAiZmlsbENvbG9yIjogIiM4MDAwZmYiLAogICJmaWxsT3BhY2l0eSI6IDAuNywKICAiZmlsbFJ1bGUiOiAiZXZlbm9kZCIsCiAgImxpbmVDYXAiOiAicm91bmQiLAogICJsaW5lSm9pbiI6ICJyb3VuZCIsCiAgIm9wYWNpdHkiOiAxLjAsCiAgInJhZGl1cyI6IDUsCiAgInN0cm9rZSI6IHRydWUsCiAgIndlaWdodCI6IDMKfQogICAgICAgICAgICAgICAgKS5hZGRUbyhtYXBfMDA4MzEwNjc2MGY0NDEyZGExM2M5OTkxNzE4YTc1ZGQpOwogICAgICAgICAgICAKICAgIAogICAgICAgICAgICB2YXIgcG9wdXBfY2VhMDYxMDM5ODVjNDM0NWE5NjU4NDBmY2QyYTAyNWUgPSBMLnBvcHVwKHttYXhXaWR0aDogJzMwMCd9KTsKCiAgICAgICAgICAgIAogICAgICAgICAgICAgICAgdmFyIGh0bWxfMzE0ODE2OWJiNzYyNGQ4ZTllNDc0Mzk3YTMyZTI0ODQgPSAkKCc8ZGl2IGlkPSJodG1sXzMxNDgxNjliYjc2MjRkOGU5ZTQ3NDM5N2EzMmUyNDg0IiBzdHlsZT0id2lkdGg6IDEwMC4wJTsgaGVpZ2h0OiAxMDAuMCU7Ij5CdWtpdCBQYW5qYW5nIC0gQ2x1c3RlciAxPC9kaXY+JylbMF07CiAgICAgICAgICAgICAgICBwb3B1cF9jZWEwNjEwMzk4NWM0MzQ1YTk2NTg0MGZjZDJhMDI1ZS5zZXRDb250ZW50KGh0bWxfMzE0ODE2OWJiNzYyNGQ4ZTllNDc0Mzk3YTMyZTI0ODQpOwogICAgICAgICAgICAKCiAgICAgICAgICAgIGNpcmNsZV9tYXJrZXJfZTE3MDg2MzExNjJmNDk2NzljYzdmY2FiMWQwNTcyNmQuYmluZFBvcHVwKHBvcHVwX2NlYTA2MTAzOTg1YzQzNDVhOTY1ODQwZmNkMmEwMjVlKTsKCiAgICAgICAgICAgIAogICAgICAgIAogICAgCiAgICAgICAgICAgIHZhciBjaXJjbGVfbWFya2VyXzY2ZmZmODU3OGNjMTRmM2I4ODY3NjcxY2U4NDQxMDU4ID0gTC5jaXJjbGVNYXJrZXIoCiAgICAgICAgICAgICAgICBbMS4yODk1MzAwMDAwMDAwNzAyLDEwMy44MzIwODAwMDAwMDAwOF0sCiAgICAgICAgICAgICAgICB7CiAgImJ1YmJsaW5nTW91c2VFdmVudHMiOiB0cnVlLAogICJjb2xvciI6ICIjODAwMGZmIiwKICAiZGFzaEFycmF5IjogbnVsbCwKICAiZGFzaE9mZnNldCI6IG51bGwsCiAgImZpbGwiOiB0cnVlLAogICJmaWxsQ29sb3IiOiAiIzgwMDBmZiIsCiAgImZpbGxPcGFjaXR5IjogMC43LAogICJmaWxsUnVsZSI6ICJldmVub2RkIiwKICAibGluZUNhcCI6ICJyb3VuZCIsCiAgImxpbmVKb2luIjogInJvdW5kIiwKICAib3BhY2l0eSI6IDEuMCwKICAicmFkaXVzIjogNSwKICAic3Ryb2tlIjogdHJ1ZSwKICAid2VpZ2h0IjogMwp9CiAgICAgICAgICAgICAgICApLmFkZFRvKG1hcF8wMDgzMTA2NzYwZjQ0MTJkYTEzYzk5OTE3MThhNzVkZCk7CiAgICAgICAgICAgIAogICAgCiAgICAgICAgICAgIHZhciBwb3B1cF82NWE4N2EyMmFlY2I0NjIyYTAzZWRkYjFhYmFjOWY0MyA9IEwucG9wdXAoe21heFdpZHRoOiAnMzAwJ30pOwoKICAgICAgICAgICAgCiAgICAgICAgICAgICAgICB2YXIgaHRtbF81ODhiY2RkNmIwNTA0NGY2YmY3N2QwNGY2MTZlYTU0ZiA9ICQoJzxkaXYgaWQ9Imh0bWxfNTg4YmNkZDZiMDUwNDRmNmJmNzdkMDRmNjE2ZWE1NGYiIHN0eWxlPSJ3aWR0aDogMTAwLjAlOyBoZWlnaHQ6IDEwMC4wJTsiPlRpb25nIEJhaHJ1IC0gQ2x1c3RlciAxPC9kaXY+JylbMF07CiAgICAgICAgICAgICAgICBwb3B1cF82NWE4N2EyMmFlY2I0NjIyYTAzZWRkYjFhYmFjOWY0My5zZXRDb250ZW50KGh0bWxfNTg4YmNkZDZiMDUwNDRmNmJmNzdkMDRmNjE2ZWE1NGYpOwogICAgICAgICAgICAKCiAgICAgICAgICAgIGNpcmNsZV9tYXJrZXJfNjZmZmY4NTc4Y2MxNGYzYjg4Njc2NzFjZTg0NDEwNTguYmluZFBvcHVwKHBvcHVwXzY1YTg3YTIyYWVjYjQ2MjJhMDNlZGRiMWFiYWM5ZjQzKTsKCiAgICAgICAgICAgIAogICAgICAgIAogICAgCiAgICAgICAgICAgIHZhciBjaXJjbGVfbWFya2VyXzAzMTljMTM0MmViNjRiY2RhODM5YmQ5ZDZjYzA5YjVhID0gTC5jaXJjbGVNYXJrZXIoCiAgICAgICAgICAgICAgICBbMS4zMzQzNzAwMDAwMDAwMzU0LDEwMy43NDM2NzAwMDAwMDAwN10sCiAgICAgICAgICAgICAgICB7CiAgImJ1YmJsaW5nTW91c2VFdmVudHMiOiB0cnVlLAogICJjb2xvciI6ICIjODAwMGZmIiwKICAiZGFzaEFycmF5IjogbnVsbCwKICAiZGFzaE9mZnNldCI6IG51bGwsCiAgImZpbGwiOiB0cnVlLAogICJmaWxsQ29sb3IiOiAiIzgwMDBmZiIsCiAgImZpbGxPcGFjaXR5IjogMC43LAogICJmaWxsUnVsZSI6ICJldmVub2RkIiwKICAibGluZUNhcCI6ICJyb3VuZCIsCiAgImxpbmVKb2luIjogInJvdW5kIiwKICAib3BhY2l0eSI6IDEuMCwKICAicmFkaXVzIjogNSwKICAic3Ryb2tlIjogdHJ1ZSwKICAid2VpZ2h0IjogMwp9CiAgICAgICAgICAgICAgICApLmFkZFRvKG1hcF8wMDgzMTA2NzYwZjQ0MTJkYTEzYzk5OTE3MThhNzVkZCk7CiAgICAgICAgICAgIAogICAgCiAgICAgICAgICAgIHZhciBwb3B1cF9iNDY5YjgyMmU3Yjk0YjcwYjhmMDk3NzkwMTFiMDc5NSA9IEwucG9wdXAoe21heFdpZHRoOiAnMzAwJ30pOwoKICAgICAgICAgICAgCiAgICAgICAgICAgICAgICB2YXIgaHRtbF8yYTZkNmFkMzUwNTk0NTg3OGJlZDFjYzI4MTgyNTdmNiA9ICQoJzxkaXYgaWQ9Imh0bWxfMmE2ZDZhZDM1MDU5NDU4NzhiZWQxY2MyODE4MjU3ZjYiIHN0eWxlPSJ3aWR0aDogMTAwLjAlOyBoZWlnaHQ6IDEwMC4wJTsiPkp1cm9uZyBFYXN0IC0gQ2x1c3RlciAxPC9kaXY+JylbMF07CiAgICAgICAgICAgICAgICBwb3B1cF9iNDY5YjgyMmU3Yjk0YjcwYjhmMDk3NzkwMTFiMDc5NS5zZXRDb250ZW50KGh0bWxfMmE2ZDZhZDM1MDU5NDU4NzhiZWQxY2MyODE4MjU3ZjYpOwogICAgICAgICAgICAKCiAgICAgICAgICAgIGNpcmNsZV9tYXJrZXJfMDMxOWMxMzQyZWI2NGJjZGE4MzliZDlkNmNjMDliNWEuYmluZFBvcHVwKHBvcHVwX2I0NjliODIyZTdiOTRiNzBiOGYwOTc3OTAxMWIwNzk1KTsKCiAgICAgICAgICAgIAogICAgICAgIAogICAgCiAgICAgICAgICAgIHZhciBjaXJjbGVfbWFya2VyXzQwMjk1ZGJjYWNlMjQ3Mjc5ZWM0YjhiN2M0OWE3ZGExID0gTC5jaXJjbGVNYXJrZXIoCiAgICAgICAgICAgICAgICBbMS4zMDQxMzAwMDAwMDAwNDMzLDEwMy44NTAyOTAwMDAwMDAwOV0sCiAgICAgICAgICAgICAgICB7CiAgImJ1YmJsaW5nTW91c2VFdmVudHMiOiB0cnVlLAogICJjb2xvciI6ICIjODAwMGZmIiwKICAiZGFzaEFycmF5IjogbnVsbCwKICAiZGFzaE9mZnNldCI6IG51bGwsCiAgImZpbGwiOiB0cnVlLAogICJmaWxsQ29sb3IiOiAiIzgwMDBmZiIsCiAgImZpbGxPcGFjaXR5IjogMC43LAogICJmaWxsUnVsZSI6ICJldmVub2RkIiwKICAibGluZUNhcCI6ICJyb3VuZCIsCiAgImxpbmVKb2luIjogInJvdW5kIiwKICAib3BhY2l0eSI6IDEuMCwKICAicmFkaXVzIjogNSwKICAic3Ryb2tlIjogdHJ1ZSwKICAid2VpZ2h0IjogMwp9CiAgICAgICAgICAgICAgICApLmFkZFRvKG1hcF8wMDgzMTA2NzYwZjQ0MTJkYTEzYzk5OTE3MThhNzVkZCk7CiAgICAgICAgICAgIAogICAgCiAgICAgICAgICAgIHZhciBwb3B1cF82OWJkODM4Y2FkZDQ0NTE3YTUzMzk3M2FkNjVhYTA5MyA9IEwucG9wdXAoe21heFdpZHRoOiAnMzAwJ30pOwoKICAgICAgICAgICAgCiAgICAgICAgICAgICAgICB2YXIgaHRtbF9jNjkwZTRhNDJkOWY0ODE0OTc0MTFjMWFlNTM0ZGYzZSA9ICQoJzxkaXYgaWQ9Imh0bWxfYzY5MGU0YTQyZDlmNDgxNDk3NDExYzFhZTUzNGRmM2UiIHN0eWxlPSJ3aWR0aDogMTAwLjAlOyBoZWlnaHQ6IDEwMC4wJTsiPlJvY2hvciAtIENsdXN0ZXIgMTwvZGl2PicpWzBdOwogICAgICAgICAgICAgICAgcG9wdXBfNjliZDgzOGNhZGQ0NDUxN2E1MzM5NzNhZDY1YWEwOTMuc2V0Q29udGVudChodG1sX2M2OTBlNGE0MmQ5ZjQ4MTQ5NzQxMWMxYWU1MzRkZjNlKTsKICAgICAgICAgICAgCgogICAgICAgICAgICBjaXJjbGVfbWFya2VyXzQwMjk1ZGJjYWNlMjQ3Mjc5ZWM0YjhiN2M0OWE3ZGExLmJpbmRQb3B1cChwb3B1cF82OWJkODM4Y2FkZDQ0NTE3YTUzMzk3M2FkNjVhYTA5Myk7CgogICAgICAgICAgICAKICAgICAgICAKICAgIAogICAgICAgICAgICB2YXIgY2lyY2xlX21hcmtlcl8xYjQ3OGVjMGM5NTc0OWVhYjUwMzMzMjE2NzRjZTk2ZCA9IEwuY2lyY2xlTWFya2VyKAogICAgICAgICAgICAgICAgWzEuNDAyNDYwMDAwMDAwMDc2LDEwMy45MDY4NjAwMDAwMDAwNV0sCiAgICAgICAgICAgICAgICB7CiAgImJ1YmJsaW5nTW91c2VFdmVudHMiOiB0cnVlLAogICJjb2xvciI6ICIjODAwMGZmIiwKICAiZGFzaEFycmF5IjogbnVsbCwKICAiZGFzaE9mZnNldCI6IG51bGwsCiAgImZpbGwiOiB0cnVlLAogICJmaWxsQ29sb3IiOiAiIzgwMDBmZiIsCiAgImZpbGxPcGFjaXR5IjogMC43LAogICJmaWxsUnVsZSI6ICJldmVub2RkIiwKICAibGluZUNhcCI6ICJyb3VuZCIsCiAgImxpbmVKb2luIjogInJvdW5kIiwKICAib3BhY2l0eSI6IDEuMCwKICAicmFkaXVzIjogNSwKICAic3Ryb2tlIjogdHJ1ZSwKICAid2VpZ2h0IjogMwp9CiAgICAgICAgICAgICAgICApLmFkZFRvKG1hcF8wMDgzMTA2NzYwZjQ0MTJkYTEzYzk5OTE3MThhNzVkZCk7CiAgICAgICAgICAgIAogICAgCiAgICAgICAgICAgIHZhciBwb3B1cF9iMjVmYTRhYTFlZmY0YjI3YWNlZjg5MDkyODY2ZTFhYiA9IEwucG9wdXAoe21heFdpZHRoOiAnMzAwJ30pOwoKICAgICAgICAgICAgCiAgICAgICAgICAgICAgICB2YXIgaHRtbF84YzgwZTdhZGI1OGE0NzdlOTEzNzE0NzE0OGJkZjY0ZCA9ICQoJzxkaXYgaWQ9Imh0bWxfOGM4MGU3YWRiNThhNDc3ZTkxMzcxNDcxNDhiZGY2NGQiIHN0eWxlPSJ3aWR0aDogMTAwLjAlOyBoZWlnaHQ6IDEwMC4wJTsiPlB1bmdnb2wgLSBDbHVzdGVyIDE8L2Rpdj4nKVswXTsKICAgICAgICAgICAgICAgIHBvcHVwX2IyNWZhNGFhMWVmZjRiMjdhY2VmODkwOTI4NjZlMWFiLnNldENvbnRlbnQoaHRtbF84YzgwZTdhZGI1OGE0NzdlOTEzNzE0NzE0OGJkZjY0ZCk7CiAgICAgICAgICAgIAoKICAgICAgICAgICAgY2lyY2xlX21hcmtlcl8xYjQ3OGVjMGM5NTc0OWVhYjUwMzMzMjE2NzRjZTk2ZC5iaW5kUG9wdXAocG9wdXBfYjI1ZmE0YWExZWZmNGIyN2FjZWY4OTA5Mjg2NmUxYWIpOwoKICAgICAgICAgICAgCiAgICAgICAgCiAgICAKICAgICAgICAgICAgdmFyIGNpcmNsZV9tYXJrZXJfYTI5ZTc0OTc3OTVkNDljYTk5ZmJlNWE3ZjRmYmM0MWMgPSBMLmNpcmNsZU1hcmtlcigKICAgICAgICAgICAgICAgIFsxLjQzNTg1MDAwMDAwMDA3MzEsMTAzLjc4Njk4MDAwMDAwMDA5XSwKICAgICAgICAgICAgICAgIHsKICAiYnViYmxpbmdNb3VzZUV2ZW50cyI6IHRydWUsCiAgImNvbG9yIjogIiM4MDAwZmYiLAogICJkYXNoQXJyYXkiOiBudWxsLAogICJkYXNoT2Zmc2V0IjogbnVsbCwKICAiZmlsbCI6IHRydWUsCiAgImZpbGxDb2xvciI6ICIjODAwMGZmIiwKICAiZmlsbE9wYWNpdHkiOiAwLjcsCiAgImZpbGxSdWxlIjogImV2ZW5vZGQiLAogICJsaW5lQ2FwIjogInJvdW5kIiwKICAibGluZUpvaW4iOiAicm91bmQiLAogICJvcGFjaXR5IjogMS4wLAogICJyYWRpdXMiOiA1LAogICJzdHJva2UiOiB0cnVlLAogICJ3ZWlnaHQiOiAzCn0KICAgICAgICAgICAgICAgICkuYWRkVG8obWFwXzAwODMxMDY3NjBmNDQxMmRhMTNjOTk5MTcxOGE3NWRkKTsKICAgICAgICAgICAgCiAgICAKICAgICAgICAgICAgdmFyIHBvcHVwX2UxMTJiMmUyODMxYjQ5YTFiNDQ3NWNkOTIxODk0OTQzID0gTC5wb3B1cCh7bWF4V2lkdGg6ICczMDAnfSk7CgogICAgICAgICAgICAKICAgICAgICAgICAgICAgIHZhciBodG1sX2VhYzEyMmYzNTQ5NjQ0ODdhMDE2NTIzZWNlOWVhMTE2ID0gJCgnPGRpdiBpZD0iaHRtbF9lYWMxMjJmMzU0OTY0NDg3YTAxNjUyM2VjZTllYTExNiIgc3R5bGU9IndpZHRoOiAxMDAuMCU7IGhlaWdodDogMTAwLjAlOyI+V29vZGxhbmRzIC0gQ2x1c3RlciAxPC9kaXY+JylbMF07CiAgICAgICAgICAgICAgICBwb3B1cF9lMTEyYjJlMjgzMWI0OWExYjQ0NzVjZDkyMTg5NDk0My5zZXRDb250ZW50KGh0bWxfZWFjMTIyZjM1NDk2NDQ4N2EwMTY1MjNlY2U5ZWExMTYpOwogICAgICAgICAgICAKCiAgICAgICAgICAgIGNpcmNsZV9tYXJrZXJfYTI5ZTc0OTc3OTVkNDljYTk5ZmJlNWE3ZjRmYmM0MWMuYmluZFBvcHVwKHBvcHVwX2UxMTJiMmUyODMxYjQ5YTFiNDQ3NWNkOTIxODk0OTQzKTsKCiAgICAgICAgICAgIAogICAgICAgIAogICAgCiAgICAgICAgICAgIHZhciBjaXJjbGVfbWFya2VyX2ZiODEzMDBhMjVkZTQyY2U4NTIxYmNhNTJmYjZkMjZmID0gTC5jaXJjbGVNYXJrZXIoCiAgICAgICAgICAgICAgICBbMS4zOTI0NDAwMDAwMDAwMjE5LDEwMy44OTQ3MDAwMDAwMDAwNl0sCiAgICAgICAgICAgICAgICB7CiAgImJ1YmJsaW5nTW91c2VFdmVudHMiOiB0cnVlLAogICJjb2xvciI6ICIjODAwMGZmIiwKICAiZGFzaEFycmF5IjogbnVsbCwKICAiZGFzaE9mZnNldCI6IG51bGwsCiAgImZpbGwiOiB0cnVlLAogICJmaWxsQ29sb3IiOiAiIzgwMDBmZiIsCiAgImZpbGxPcGFjaXR5IjogMC43LAogICJmaWxsUnVsZSI6ICJldmVub2RkIiwKICAibGluZUNhcCI6ICJyb3VuZCIsCiAgImxpbmVKb2luIjogInJvdW5kIiwKICAib3BhY2l0eSI6IDEuMCwKICAicmFkaXVzIjogNSwKICAic3Ryb2tlIjogdHJ1ZSwKICAid2VpZ2h0IjogMwp9CiAgICAgICAgICAgICAgICApLmFkZFRvKG1hcF8wMDgzMTA2NzYwZjQ0MTJkYTEzYzk5OTE3MThhNzVkZCk7CiAgICAgICAgICAgIAogICAgCiAgICAgICAgICAgIHZhciBwb3B1cF9lNzE1OTAxNTcxNjQ0OTkzYWE1NjYzZTNhODYxNzdlZSA9IEwucG9wdXAoe21heFdpZHRoOiAnMzAwJ30pOwoKICAgICAgICAgICAgCiAgICAgICAgICAgICAgICB2YXIgaHRtbF9kY2M2MjhiODAxMTY0Yjk0ODY3YWFkNTdhOTBkMjg0MCA9ICQoJzxkaXYgaWQ9Imh0bWxfZGNjNjI4YjgwMTE2NGI5NDg2N2FhZDU3YTkwZDI4NDAiIHN0eWxlPSJ3aWR0aDogMTAwLjAlOyBoZWlnaHQ6IDEwMC4wJTsiPlNlbmdrYW5nIC0gQ2x1c3RlciAxPC9kaXY+JylbMF07CiAgICAgICAgICAgICAgICBwb3B1cF9lNzE1OTAxNTcxNjQ0OTkzYWE1NjYzZTNhODYxNzdlZS5zZXRDb250ZW50KGh0bWxfZGNjNjI4YjgwMTE2NGI5NDg2N2FhZDU3YTkwZDI4NDApOwogICAgICAgICAgICAKCiAgICAgICAgICAgIGNpcmNsZV9tYXJrZXJfZmI4MTMwMGEyNWRlNDJjZTg1MjFiY2E1MmZiNmQyNmYuYmluZFBvcHVwKHBvcHVwX2U3MTU5MDE1NzE2NDQ5OTNhYTU2NjNlM2E4NjE3N2VlKTsKCiAgICAgICAgICAgIAogICAgICAgIAogICAgCiAgICAgICAgICAgIHZhciBjaXJjbGVfbWFya2VyXzhjN2E5NjRhNTZiMTQ1YzNhNGE0OTVlZjIxMjE0OTU4ID0gTC5jaXJjbGVNYXJrZXIoCiAgICAgICAgICAgICAgICBbMS4zMTY2NzAwMDAwMDAwNDQ2LDEwMy44MTY2NzAwMDAwMDAwNF0sCiAgICAgICAgICAgICAgICB7CiAgImJ1YmJsaW5nTW91c2VFdmVudHMiOiB0cnVlLAogICJjb2xvciI6ICIjODBmZmI0IiwKICAiZGFzaEFycmF5IjogbnVsbCwKICAiZGFzaE9mZnNldCI6IG51bGwsCiAgImZpbGwiOiB0cnVlLAogICJmaWxsQ29sb3IiOiAiIzgwZmZiNCIsCiAgImZpbGxPcGFjaXR5IjogMC43LAogICJmaWxsUnVsZSI6ICJldmVub2RkIiwKICAibGluZUNhcCI6ICJyb3VuZCIsCiAgImxpbmVKb2luIjogInJvdW5kIiwKICAib3BhY2l0eSI6IDEuMCwKICAicmFkaXVzIjogNSwKICAic3Ryb2tlIjogdHJ1ZSwKICAid2VpZ2h0IjogMwp9CiAgICAgICAgICAgICAgICApLmFkZFRvKG1hcF8wMDgzMTA2NzYwZjQ0MTJkYTEzYzk5OTE3MThhNzVkZCk7CiAgICAgICAgICAgIAogICAgCiAgICAgICAgICAgIHZhciBwb3B1cF9lYTY0MGE0ZTcyNzc0Yzk4OWNmMjJlOTU1ODA3YWVjZSA9IEwucG9wdXAoe21heFdpZHRoOiAnMzAwJ30pOwoKICAgICAgICAgICAgCiAgICAgICAgICAgICAgICB2YXIgaHRtbF9iNTkwMDQ0NWU2ZDk0NTYzOGUzNzFlMTZjNGY2NTBkYiA9ICQoJzxkaXYgaWQ9Imh0bWxfYjU5MDA0NDVlNmQ5NDU2MzhlMzcxZTE2YzRmNjUwZGIiIHN0eWxlPSJ3aWR0aDogMTAwLjAlOyBoZWlnaHQ6IDEwMC4wJTsiPlRhbmdsaW4gLSBDbHVzdGVyIDI8L2Rpdj4nKVswXTsKICAgICAgICAgICAgICAgIHBvcHVwX2VhNjQwYTRlNzI3NzRjOTg5Y2YyMmU5NTU4MDdhZWNlLnNldENvbnRlbnQoaHRtbF9iNTkwMDQ0NWU2ZDk0NTYzOGUzNzFlMTZjNGY2NTBkYik7CiAgICAgICAgICAgIAoKICAgICAgICAgICAgY2lyY2xlX21hcmtlcl84YzdhOTY0YTU2YjE0NWMzYTRhNDk1ZWYyMTIxNDk1OC5iaW5kUG9wdXAocG9wdXBfZWE2NDBhNGU3Mjc3NGM5ODljZjIyZTk1NTgwN2FlY2UpOwoKICAgICAgICAgICAgCiAgICAgICAgCiAgICAKICAgICAgICAgICAgdmFyIGNpcmNsZV9tYXJrZXJfYTM3MzExODJhMGU4NGY3MTk4MTRiOTMxZWFhNTg2ZWEgPSBMLmNpcmNsZU1hcmtlcigKICAgICAgICAgICAgICAgIFsxLjM1NTU0MDAwMDAwMDA3NiwxMDMuODc2NjAwMDAwMDAwMDVdLAogICAgICAgICAgICAgICAgewogICJidWJibGluZ01vdXNlRXZlbnRzIjogdHJ1ZSwKICAiY29sb3IiOiAiIzgwZmZiNCIsCiAgImRhc2hBcnJheSI6IG51bGwsCiAgImRhc2hPZmZzZXQiOiBudWxsLAogICJmaWxsIjogdHJ1ZSwKICAiZmlsbENvbG9yIjogIiM4MGZmYjQiLAogICJmaWxsT3BhY2l0eSI6IDAuNywKICAiZmlsbFJ1bGUiOiAiZXZlbm9kZCIsCiAgImxpbmVDYXAiOiAicm91bmQiLAogICJsaW5lSm9pbiI6ICJyb3VuZCIsCiAgIm9wYWNpdHkiOiAxLjAsCiAgInJhZGl1cyI6IDUsCiAgInN0cm9rZSI6IHRydWUsCiAgIndlaWdodCI6IDMKfQogICAgICAgICAgICAgICAgKS5hZGRUbyhtYXBfMDA4MzEwNjc2MGY0NDEyZGExM2M5OTkxNzE4YTc1ZGQpOwogICAgICAgICAgICAKICAgIAogICAgICAgICAgICB2YXIgcG9wdXBfNDM3MjE3ZGExM2ZjNDI3YjkyNjIzZjkwNzU2Y2FhOTQgPSBMLnBvcHVwKHttYXhXaWR0aDogJzMwMCd9KTsKCiAgICAgICAgICAgIAogICAgICAgICAgICAgICAgdmFyIGh0bWxfZmFjYTI5ZTY0ZGIzNDIyNmE3ODQ0NzVmZTllNzk4MGYgPSAkKCc8ZGl2IGlkPSJodG1sX2ZhY2EyOWU2NGRiMzQyMjZhNzg0NDc1ZmU5ZTc5ODBmIiBzdHlsZT0id2lkdGg6IDEwMC4wJTsgaGVpZ2h0OiAxMDAuMCU7Ij5TZXJhbmdvb24gLSBDbHVzdGVyIDI8L2Rpdj4nKVswXTsKICAgICAgICAgICAgICAgIHBvcHVwXzQzNzIxN2RhMTNmYzQyN2I5MjYyM2Y5MDc1NmNhYTk0LnNldENvbnRlbnQoaHRtbF9mYWNhMjllNjRkYjM0MjI2YTc4NDQ3NWZlOWU3OTgwZik7CiAgICAgICAgICAgIAoKICAgICAgICAgICAgY2lyY2xlX21hcmtlcl9hMzczMTE4MmEwZTg0ZjcxOTgxNGI5MzFlYWE1ODZlYS5iaW5kUG9wdXAocG9wdXBfNDM3MjE3ZGExM2ZjNDI3YjkyNjIzZjkwNzU2Y2FhOTQpOwoKICAgICAgICAgICAgCiAgICAgICAgCiAgICAKICAgICAgICAgICAgdmFyIGNpcmNsZV9tYXJrZXJfZjkzNDcyMTk2MzY4NGIxYjg3NDc0MGVjYjhkYTllODkgPSBMLmNpcmNsZU1hcmtlcigKICAgICAgICAgICAgICAgIFsxLjQ0Nzk0MDAwMDAwMDA3MzcsMTAzLjgxODkxMDAwMDAwMDA3XSwKICAgICAgICAgICAgICAgIHsKICAiYnViYmxpbmdNb3VzZUV2ZW50cyI6IHRydWUsCiAgImNvbG9yIjogIiM4MGZmYjQiLAogICJkYXNoQXJyYXkiOiBudWxsLAogICJkYXNoT2Zmc2V0IjogbnVsbCwKICAiZmlsbCI6IHRydWUsCiAgImZpbGxDb2xvciI6ICIjODBmZmI0IiwKICAiZmlsbE9wYWNpdHkiOiAwLjcsCiAgImZpbGxSdWxlIjogImV2ZW5vZGQiLAogICJsaW5lQ2FwIjogInJvdW5kIiwKICAibGluZUpvaW4iOiAicm91bmQiLAogICJvcGFjaXR5IjogMS4wLAogICJyYWRpdXMiOiA1LAogICJzdHJva2UiOiB0cnVlLAogICJ3ZWlnaHQiOiAzCn0KICAgICAgICAgICAgICAgICkuYWRkVG8obWFwXzAwODMxMDY3NjBmNDQxMmRhMTNjOTk5MTcxOGE3NWRkKTsKICAgICAgICAgICAgCiAgICAKICAgICAgICAgICAgdmFyIHBvcHVwXzAxMjEzMGQ2M2E0MDQzMjA5NTk2MmZiYThkOTE3MmZhID0gTC5wb3B1cCh7bWF4V2lkdGg6ICczMDAnfSk7CgogICAgICAgICAgICAKICAgICAgICAgICAgICAgIHZhciBodG1sX2YyY2ViOThjMGRkZDRjNGRiMTE2YTliNTg2Y2UzNGUwID0gJCgnPGRpdiBpZD0iaHRtbF9mMmNlYjk4YzBkZGQ0YzRkYjExNmE5YjU4NmNlMzRlMCIgc3R5bGU9IndpZHRoOiAxMDAuMCU7IGhlaWdodDogMTAwLjAlOyI+U2VtYmF3YW5nIC0gQ2x1c3RlciAyPC9kaXY+JylbMF07CiAgICAgICAgICAgICAgICBwb3B1cF8wMTIxMzBkNjNhNDA0MzIwOTU5NjJmYmE4ZDkxNzJmYS5zZXRDb250ZW50KGh0bWxfZjJjZWI5OGMwZGRkNGM0ZGIxMTZhOWI1ODZjZTM0ZTApOwogICAgICAgICAgICAKCiAgICAgICAgICAgIGNpcmNsZV9tYXJrZXJfZjkzNDcyMTk2MzY4NGIxYjg3NDc0MGVjYjhkYTllODkuYmluZFBvcHVwKHBvcHVwXzAxMjEzMGQ2M2E0MDQzMjA5NTk2MmZiYThkOTE3MmZhKTsKCiAgICAgICAgICAgIAogICAgICAgIAogICAgCiAgICAgICAgICAgIHZhciBjaXJjbGVfbWFya2VyXzRiZGU5MjZjOTQ3NTQ4Y2E4MDE5ZTUyZDNhYTllNDQyID0gTC5jaXJjbGVNYXJrZXIoCiAgICAgICAgICAgICAgICBbMS4zMDMwNjAwMDAwMDAwNzMyLDEwMy45MDc3ODAwMDAwMDAwNl0sCiAgICAgICAgICAgICAgICB7CiAgImJ1YmJsaW5nTW91c2VFdmVudHMiOiB0cnVlLAogICJjb2xvciI6ICIjODBmZmI0IiwKICAiZGFzaEFycmF5IjogbnVsbCwKICAiZGFzaE9mZnNldCI6IG51bGwsCiAgImZpbGwiOiB0cnVlLAogICJmaWxsQ29sb3IiOiAiIzgwZmZiNCIsCiAgImZpbGxPcGFjaXR5IjogMC43LAogICJmaWxsUnVsZSI6ICJldmVub2RkIiwKICAibGluZUNhcCI6ICJyb3VuZCIsCiAgImxpbmVKb2luIjogInJvdW5kIiwKICAib3BhY2l0eSI6IDEuMCwKICAicmFkaXVzIjogNSwKICAic3Ryb2tlIjogdHJ1ZSwKICAid2VpZ2h0IjogMwp9CiAgICAgICAgICAgICAgICApLmFkZFRvKG1hcF8wMDgzMTA2NzYwZjQ0MTJkYTEzYzk5OTE3MThhNzVkZCk7CiAgICAgICAgICAgIAogICAgCiAgICAgICAgICAgIHZhciBwb3B1cF9hMjhhM2NlODlkN2I0ODQ5OGY4ZTUxYjE0YmM2M2U3MSA9IEwucG9wdXAoe21heFdpZHRoOiAnMzAwJ30pOwoKICAgICAgICAgICAgCiAgICAgICAgICAgICAgICB2YXIgaHRtbF9hYmVhMzZiYzkwNmM0MzRkOGRhM2YwYTQxMmIzZGRlOSA9ICQoJzxkaXYgaWQ9Imh0bWxfYWJlYTM2YmM5MDZjNDM0ZDhkYTNmMGE0MTJiM2RkZTkiIHN0eWxlPSJ3aWR0aDogMTAwLjAlOyBoZWlnaHQ6IDEwMC4wJTsiPk1hcmluZSBQYXJhZGUgLSBDbHVzdGVyIDI8L2Rpdj4nKVswXTsKICAgICAgICAgICAgICAgIHBvcHVwX2EyOGEzY2U4OWQ3YjQ4NDk4ZjhlNTFiMTRiYzYzZTcxLnNldENvbnRlbnQoaHRtbF9hYmVhMzZiYzkwNmM0MzRkOGRhM2YwYTQxMmIzZGRlOSk7CiAgICAgICAgICAgIAoKICAgICAgICAgICAgY2lyY2xlX21hcmtlcl80YmRlOTI2Yzk0NzU0OGNhODAxOWU1MmQzYWE5ZTQ0Mi5iaW5kUG9wdXAocG9wdXBfYTI4YTNjZTg5ZDdiNDg0OThmOGU1MWIxNGJjNjNlNzEpOwoKICAgICAgICAgICAgCiAgICAgICAgCiAgICAKICAgICAgICAgICAgdmFyIGNpcmNsZV9tYXJrZXJfZjYxZDU5ZjkxMzUwNDVkMWI3YzRkYTNmNmI5YjliOGMgPSBMLmNpcmNsZU1hcmtlcigKICAgICAgICAgICAgICAgIFsxLjMxOTEwMDAwMDAwMDA0ODYsMTAzLjg0MzcyMDAwMDAwMDA4XSwKICAgICAgICAgICAgICAgIHsKICAiYnViYmxpbmdNb3VzZUV2ZW50cyI6IHRydWUsCiAgImNvbG9yIjogIiM4MGZmYjQiLAogICJkYXNoQXJyYXkiOiBudWxsLAogICJkYXNoT2Zmc2V0IjogbnVsbCwKICAiZmlsbCI6IHRydWUsCiAgImZpbGxDb2xvciI6ICIjODBmZmI0IiwKICAiZmlsbE9wYWNpdHkiOiAwLjcsCiAgImZpbGxSdWxlIjogImV2ZW5vZGQiLAogICJsaW5lQ2FwIjogInJvdW5kIiwKICAibGluZUpvaW4iOiAicm91bmQiLAogICJvcGFjaXR5IjogMS4wLAogICJyYWRpdXMiOiA1LAogICJzdHJva2UiOiB0cnVlLAogICJ3ZWlnaHQiOiAzCn0KICAgICAgICAgICAgICAgICkuYWRkVG8obWFwXzAwODMxMDY3NjBmNDQxMmRhMTNjOTk5MTcxOGE3NWRkKTsKICAgICAgICAgICAgCiAgICAKICAgICAgICAgICAgdmFyIHBvcHVwX2NjNDhmNGUzMjhmNjQ5MTQ5YmVlMzczM2U2ZTI0NzMzID0gTC5wb3B1cCh7bWF4V2lkdGg6ICczMDAnfSk7CgogICAgICAgICAgICAKICAgICAgICAgICAgICAgIHZhciBodG1sX2M2M2Q5Y2UxODVhZDQxMDg5ODkzNjhjNDIyMGEwN2ZhID0gJCgnPGRpdiBpZD0iaHRtbF9jNjNkOWNlMTg1YWQ0MTA4OTg5MzY4YzQyMjBhMDdmYSIgc3R5bGU9IndpZHRoOiAxMDAuMCU7IGhlaWdodDogMTAwLjAlOyI+Tm92ZW5hIC0gQ2x1c3RlciAyPC9kaXY+JylbMF07CiAgICAgICAgICAgICAgICBwb3B1cF9jYzQ4ZjRlMzI4ZjY0OTE0OWJlZTM3MzNlNmUyNDczMy5zZXRDb250ZW50KGh0bWxfYzYzZDljZTE4NWFkNDEwODk4OTM2OGM0MjIwYTA3ZmEpOwogICAgICAgICAgICAKCiAgICAgICAgICAgIGNpcmNsZV9tYXJrZXJfZjYxZDU5ZjkxMzUwNDVkMWI3YzRkYTNmNmI5YjliOGMuYmluZFBvcHVwKHBvcHVwX2NjNDhmNGUzMjhmNjQ5MTQ5YmVlMzczM2U2ZTI0NzMzKTsKCiAgICAgICAgICAgIAogICAgICAgIAogICAgCiAgICAgICAgICAgIHZhciBjaXJjbGVfbWFya2VyX2M4MzY4NjgxMTc4ODQ5OWViNmI3MDhkMmFiMWU0MjZkID0gTC5jaXJjbGVNYXJrZXIoCiAgICAgICAgICAgICAgICBbMS4zMDQ1NzAwMDAwMDAwNjkzLDEwMy45MDI4ODAwMDAwMDAwNF0sCiAgICAgICAgICAgICAgICB7CiAgImJ1YmJsaW5nTW91c2VFdmVudHMiOiB0cnVlLAogICJjb2xvciI6ICIjODBmZmI0IiwKICAiZGFzaEFycmF5IjogbnVsbCwKICAiZGFzaE9mZnNldCI6IG51bGwsCiAgImZpbGwiOiB0cnVlLAogICJmaWxsQ29sb3IiOiAiIzgwZmZiNCIsCiAgImZpbGxPcGFjaXR5IjogMC43LAogICJmaWxsUnVsZSI6ICJldmVub2RkIiwKICAibGluZUNhcCI6ICJyb3VuZCIsCiAgImxpbmVKb2luIjogInJvdW5kIiwKICAib3BhY2l0eSI6IDEuMCwKICAicmFkaXVzIjogNSwKICAic3Ryb2tlIjogdHJ1ZSwKICAid2VpZ2h0IjogMwp9CiAgICAgICAgICAgICAgICApLmFkZFRvKG1hcF8wMDgzMTA2NzYwZjQ0MTJkYTEzYzk5OTE3MThhNzVkZCk7CiAgICAgICAgICAgIAogICAgCiAgICAgICAgICAgIHZhciBwb3B1cF9lZDc2MmMxNDdiNTQ0MDZjYjM4N2Y4NTA4NWE4ODg4ZCA9IEwucG9wdXAoe21heFdpZHRoOiAnMzAwJ30pOwoKICAgICAgICAgICAgCiAgICAgICAgICAgICAgICB2YXIgaHRtbF8xZWJhODM3OTRmNTM0ZDFhOTAzYzI0Njg1ZDZmNTBiZCA9ICQoJzxkaXYgaWQ9Imh0bWxfMWViYTgzNzk0ZjUzNGQxYTkwM2MyNDY4NWQ2ZjUwYmQiIHN0eWxlPSJ3aWR0aDogMTAwLjAlOyBoZWlnaHQ6IDEwMC4wJTsiPkthdG9uZyAtIENsdXN0ZXIgMjwvZGl2PicpWzBdOwogICAgICAgICAgICAgICAgcG9wdXBfZWQ3NjJjMTQ3YjU0NDA2Y2IzODdmODUwODVhODg4OGQuc2V0Q29udGVudChodG1sXzFlYmE4Mzc5NGY1MzRkMWE5MDNjMjQ2ODVkNmY1MGJkKTsKICAgICAgICAgICAgCgogICAgICAgICAgICBjaXJjbGVfbWFya2VyX2M4MzY4NjgxMTc4ODQ5OWViNmI3MDhkMmFiMWU0MjZkLmJpbmRQb3B1cChwb3B1cF9lZDc2MmMxNDdiNTQ0MDZjYjM4N2Y4NTA4NWE4ODg4ZCk7CgogICAgICAgICAgICAKICAgICAgICAKICAgIAogICAgICAgICAgICB2YXIgY2lyY2xlX21hcmtlcl9jYjY3YWUyMGQwYjg0NWQ0YTY2MzJmMGY1MWUxZjAyMSA9IEwuY2lyY2xlTWFya2VyKAogICAgICAgICAgICAgICAgWzEuMzA0MTMwMDAwMDAwMDQzMywxMDMuODYzNDcwMDAwMDAwMDZdLAogICAgICAgICAgICAgICAgewogICJidWJibGluZ01vdXNlRXZlbnRzIjogdHJ1ZSwKICAiY29sb3IiOiAiIzgwZmZiNCIsCiAgImRhc2hBcnJheSI6IG51bGwsCiAgImRhc2hPZmZzZXQiOiBudWxsLAogICJmaWxsIjogdHJ1ZSwKICAiZmlsbENvbG9yIjogIiM4MGZmYjQiLAogICJmaWxsT3BhY2l0eSI6IDAuNywKICAiZmlsbFJ1bGUiOiAiZXZlbm9kZCIsCiAgImxpbmVDYXAiOiAicm91bmQiLAogICJsaW5lSm9pbiI6ICJyb3VuZCIsCiAgIm9wYWNpdHkiOiAxLjAsCiAgInJhZGl1cyI6IDUsCiAgInN0cm9rZSI6IHRydWUsCiAgIndlaWdodCI6IDMKfQogICAgICAgICAgICAgICAgKS5hZGRUbyhtYXBfMDA4MzEwNjc2MGY0NDEyZGExM2M5OTkxNzE4YTc1ZGQpOwogICAgICAgICAgICAKICAgIAogICAgICAgICAgICB2YXIgcG9wdXBfNzYxYmY0YzFlNDE3NGE3ODllZmRjNjMxZmExY2Q0OTEgPSBMLnBvcHVwKHttYXhXaWR0aDogJzMwMCd9KTsKCiAgICAgICAgICAgIAogICAgICAgICAgICAgICAgdmFyIGh0bWxfZTFiMmQ2YTBjZjNmNGZjOWJmZWZlNWZhMGY0M2FkNDMgPSAkKCc8ZGl2IGlkPSJodG1sX2UxYjJkNmEwY2YzZjRmYzliZmVmZTVmYTBmNDNhZDQzIiBzdHlsZT0id2lkdGg6IDEwMC4wJTsgaGVpZ2h0OiAxMDAuMCU7Ij5LYW1wb25nIEdsYW0gLSBDbHVzdGVyIDI8L2Rpdj4nKVswXTsKICAgICAgICAgICAgICAgIHBvcHVwXzc2MWJmNGMxZTQxNzRhNzg5ZWZkYzYzMWZhMWNkNDkxLnNldENvbnRlbnQoaHRtbF9lMWIyZDZhMGNmM2Y0ZmM5YmZlZmU1ZmEwZjQzYWQ0Myk7CiAgICAgICAgICAgIAoKICAgICAgICAgICAgY2lyY2xlX21hcmtlcl9jYjY3YWUyMGQwYjg0NWQ0YTY2MzJmMGY1MWUxZjAyMS5iaW5kUG9wdXAocG9wdXBfNzYxYmY0YzFlNDE3NGE3ODllZmRjNjMxZmExY2Q0OTEpOwoKICAgICAgICAgICAgCiAgICAgICAgCiAgICAKICAgICAgICAgICAgdmFyIGNpcmNsZV9tYXJrZXJfMGU5Y2ZmMzk5MDYwNDJmZjgzZjA3YzNlZDc3ZWJlYjkgPSBMLmNpcmNsZU1hcmtlcigKICAgICAgICAgICAgICAgIFsxLjMzMzMzMDAwMDAwMDA0NjMsMTAzLjg2NjY3MDAwMDAwMDA2XSwKICAgICAgICAgICAgICAgIHsKICAiYnViYmxpbmdNb3VzZUV2ZW50cyI6IHRydWUsCiAgImNvbG9yIjogIiM4MGZmYjQiLAogICJkYXNoQXJyYXkiOiBudWxsLAogICJkYXNoT2Zmc2V0IjogbnVsbCwKICAiZmlsbCI6IHRydWUsCiAgImZpbGxDb2xvciI6ICIjODBmZmI0IiwKICAiZmlsbE9wYWNpdHkiOiAwLjcsCiAgImZpbGxSdWxlIjogImV2ZW5vZGQiLAogICJsaW5lQ2FwIjogInJvdW5kIiwKICAibGluZUpvaW4iOiAicm91bmQiLAogICJvcGFjaXR5IjogMS4wLAogICJyYWRpdXMiOiA1LAogICJzdHJva2UiOiB0cnVlLAogICJ3ZWlnaHQiOiAzCn0KICAgICAgICAgICAgICAgICkuYWRkVG8obWFwXzAwODMxMDY3NjBmNDQxMmRhMTNjOTk5MTcxOGE3NWRkKTsKICAgICAgICAgICAgCiAgICAKICAgICAgICAgICAgdmFyIHBvcHVwXzc2ODhiZDI3ZWVhYjQ3MjU4ODVkNDg3YTUxNmYwZDA3ID0gTC5wb3B1cCh7bWF4V2lkdGg6ICczMDAnfSk7CgogICAgICAgICAgICAKICAgICAgICAgICAgICAgIHZhciBodG1sXzgwMWNiNjc1OTRjYTQ4YzRiZDE5OTkwMDc0OTUyOGE5ID0gJCgnPGRpdiBpZD0iaHRtbF84MDFjYjY3NTk0Y2E0OGM0YmQxOTk5MDA3NDk1MjhhOSIgc3R5bGU9IndpZHRoOiAxMDAuMCU7IGhlaWdodDogMTAwLjAlOyI+S2FsbGFuZyAtIENsdXN0ZXIgMjwvZGl2PicpWzBdOwogICAgICAgICAgICAgICAgcG9wdXBfNzY4OGJkMjdlZWFiNDcyNTg4NWQ0ODdhNTE2ZjBkMDcuc2V0Q29udGVudChodG1sXzgwMWNiNjc1OTRjYTQ4YzRiZDE5OTkwMDc0OTUyOGE5KTsKICAgICAgICAgICAgCgogICAgICAgICAgICBjaXJjbGVfbWFya2VyXzBlOWNmZjM5OTA2MDQyZmY4M2YwN2MzZWQ3N2ViZWI5LmJpbmRQb3B1cChwb3B1cF83Njg4YmQyN2VlYWI0NzI1ODg1ZDQ4N2E1MTZmMGQwNyk7CgogICAgICAgICAgICAKICAgICAgICAKICAgIAogICAgICAgICAgICB2YXIgY2lyY2xlX21hcmtlcl9mOWM3OGQ0ZDZhMDQ0YjIyOWYwMjUxYzE1ZGQzNmNjZSA9IEwuY2lyY2xlTWFya2VyKAogICAgICAgICAgICAgICAgWzEuMzExOTQwMDAwMDAwMDQ5NiwxMDMuNzkzMzMwMDAwMDAwMDhdLAogICAgICAgICAgICAgICAgewogICJidWJibGluZ01vdXNlRXZlbnRzIjogdHJ1ZSwKICAiY29sb3IiOiAiIzgwZmZiNCIsCiAgImRhc2hBcnJheSI6IG51bGwsCiAgImRhc2hPZmZzZXQiOiBudWxsLAogICJmaWxsIjogdHJ1ZSwKICAiZmlsbENvbG9yIjogIiM4MGZmYjQiLAogICJmaWxsT3BhY2l0eSI6IDAuNywKICAiZmlsbFJ1bGUiOiAiZXZlbm9kZCIsCiAgImxpbmVDYXAiOiAicm91bmQiLAogICJsaW5lSm9pbiI6ICJyb3VuZCIsCiAgIm9wYWNpdHkiOiAxLjAsCiAgInJhZGl1cyI6IDUsCiAgInN0cm9rZSI6IHRydWUsCiAgIndlaWdodCI6IDMKfQogICAgICAgICAgICAgICAgKS5hZGRUbyhtYXBfMDA4MzEwNjc2MGY0NDEyZGExM2M5OTkxNzE4YTc1ZGQpOwogICAgICAgICAgICAKICAgIAogICAgICAgICAgICB2YXIgcG9wdXBfMzIxM2UwYzlhYzAzNDZlZWEwMGI0ZTBmOGFkOTFjMWUgPSBMLnBvcHVwKHttYXhXaWR0aDogJzMwMCd9KTsKCiAgICAgICAgICAgIAogICAgICAgICAgICAgICAgdmFyIGh0bWxfZTRjNDViMWQ5YzczNGM3N2I0ZWU2NGQ1MzY3MThmZWYgPSAkKCc8ZGl2IGlkPSJodG1sX2U0YzQ1YjFkOWM3MzRjNzdiNGVlNjRkNTM2NzE4ZmVmIiBzdHlsZT0id2lkdGg6IDEwMC4wJTsgaGVpZ2h0OiAxMDAuMCU7Ij5Ib2xsYW5kIFZpbGxhZ2UgLSBDbHVzdGVyIDI8L2Rpdj4nKVswXTsKICAgICAgICAgICAgICAgIHBvcHVwXzMyMTNlMGM5YWMwMzQ2ZWVhMDBiNGUwZjhhZDkxYzFlLnNldENvbnRlbnQoaHRtbF9lNGM0NWIxZDljNzM0Yzc3YjRlZTY0ZDUzNjcxOGZlZik7CiAgICAgICAgICAgIAoKICAgICAgICAgICAgY2lyY2xlX21hcmtlcl9mOWM3OGQ0ZDZhMDQ0YjIyOWYwMjUxYzE1ZGQzNmNjZS5iaW5kUG9wdXAocG9wdXBfMzIxM2UwYzlhYzAzNDZlZWEwMGI0ZTBmOGFkOTFjMWUpOwoKICAgICAgICAgICAgCiAgICAgICAgCiAgICAKICAgICAgICAgICAgdmFyIGNpcmNsZV9tYXJrZXJfY2IwOTQ5N2ExYjM2NGVkMWE5MmFkZTgwMTBlZmY3YTUgPSBMLmNpcmNsZU1hcmtlcigKICAgICAgICAgICAgICAgIFsxLjI2NTIwMDAwMDAwMDA0OTgsMTAzLjgyMDEwMDAwMDAwMDA4XSwKICAgICAgICAgICAgICAgIHsKICAiYnViYmxpbmdNb3VzZUV2ZW50cyI6IHRydWUsCiAgImNvbG9yIjogIiM4MGZmYjQiLAogICJkYXNoQXJyYXkiOiBudWxsLAogICJkYXNoT2Zmc2V0IjogbnVsbCwKICAiZmlsbCI6IHRydWUsCiAgImZpbGxDb2xvciI6ICIjODBmZmI0IiwKICAiZmlsbE9wYWNpdHkiOiAwLjcsCiAgImZpbGxSdWxlIjogImV2ZW5vZGQiLAogICJsaW5lQ2FwIjogInJvdW5kIiwKICAibGluZUpvaW4iOiAicm91bmQiLAogICJvcGFjaXR5IjogMS4wLAogICJyYWRpdXMiOiA1LAogICJzdHJva2UiOiB0cnVlLAogICJ3ZWlnaHQiOiAzCn0KICAgICAgICAgICAgICAgICkuYWRkVG8obWFwXzAwODMxMDY3NjBmNDQxMmRhMTNjOTk5MTcxOGE3NWRkKTsKICAgICAgICAgICAgCiAgICAKICAgICAgICAgICAgdmFyIHBvcHVwXzVkZWNjYTgwMjA0ODRmMjliMmE2MzY2NzVkYWQwNTBiID0gTC5wb3B1cCh7bWF4V2lkdGg6ICczMDAnfSk7CgogICAgICAgICAgICAKICAgICAgICAgICAgICAgIHZhciBodG1sX2FhYzQ4NTJmMGNlNTRlNjY4MDVmYzc1NDFlMDhmYzkxID0gJCgnPGRpdiBpZD0iaHRtbF9hYWM0ODUyZjBjZTU0ZTY2ODA1ZmM3NTQxZTA4ZmM5MSIgc3R5bGU9IndpZHRoOiAxMDAuMCU7IGhlaWdodDogMTAwLjAlOyI+SGFyYm91cmZyb250IC0gQ2x1c3RlciAyPC9kaXY+JylbMF07CiAgICAgICAgICAgICAgICBwb3B1cF81ZGVjY2E4MDIwNDg0ZjI5YjJhNjM2Njc1ZGFkMDUwYi5zZXRDb250ZW50KGh0bWxfYWFjNDg1MmYwY2U1NGU2NjgwNWZjNzU0MWUwOGZjOTEpOwogICAgICAgICAgICAKCiAgICAgICAgICAgIGNpcmNsZV9tYXJrZXJfY2IwOTQ5N2ExYjM2NGVkMWE5MmFkZTgwMTBlZmY3YTUuYmluZFBvcHVwKHBvcHVwXzVkZWNjYTgwMjA0ODRmMjliMmE2MzY2NzVkYWQwNTBiKTsKCiAgICAgICAgICAgIAogICAgICAgIAogICAgCiAgICAgICAgICAgIHZhciBjaXJjbGVfbWFya2VyXzM5OGM4MGM2NzA4NTRlNjI4ZGFmMzM1MzM3ODNlOTRkID0gTC5jaXJjbGVNYXJrZXIoCiAgICAgICAgICAgICAgICBbMS4zMTE0NzAwMDAwMDAwNDI1LDEwMy44ODIxODAwMDAwMDAwNl0sCiAgICAgICAgICAgICAgICB7CiAgImJ1YmJsaW5nTW91c2VFdmVudHMiOiB0cnVlLAogICJjb2xvciI6ICIjODBmZmI0IiwKICAiZGFzaEFycmF5IjogbnVsbCwKICAiZGFzaE9mZnNldCI6IG51bGwsCiAgImZpbGwiOiB0cnVlLAogICJmaWxsQ29sb3IiOiAiIzgwZmZiNCIsCiAgImZpbGxPcGFjaXR5IjogMC43LAogICJmaWxsUnVsZSI6ICJldmVub2RkIiwKICAibGluZUNhcCI6ICJyb3VuZCIsCiAgImxpbmVKb2luIjogInJvdW5kIiwKICAib3BhY2l0eSI6IDEuMCwKICAicmFkaXVzIjogNSwKICAic3Ryb2tlIjogdHJ1ZSwKICAid2VpZ2h0IjogMwp9CiAgICAgICAgICAgICAgICApLmFkZFRvKG1hcF8wMDgzMTA2NzYwZjQ0MTJkYTEzYzk5OTE3MThhNzVkZCk7CiAgICAgICAgICAgIAogICAgCiAgICAgICAgICAgIHZhciBwb3B1cF85YjZiMDMzYTQ5NzA0YWI2YWE3MTEwYjgwYzJiMGY1MiA9IEwucG9wdXAoe21heFdpZHRoOiAnMzAwJ30pOwoKICAgICAgICAgICAgCiAgICAgICAgICAgICAgICB2YXIgaHRtbF9iNzQ3NDNlZDc1YzE0MWEyYjBiZTEzY2M2MDUwNWI2NyA9ICQoJzxkaXYgaWQ9Imh0bWxfYjc0NzQzZWQ3NWMxNDFhMmIwYmUxM2NjNjA1MDViNjciIHN0eWxlPSJ3aWR0aDogMTAwLjAlOyBoZWlnaHQ6IDEwMC4wJTsiPkdleWxhbmcgLSBDbHVzdGVyIDI8L2Rpdj4nKVswXTsKICAgICAgICAgICAgICAgIHBvcHVwXzliNmIwMzNhNDk3MDRhYjZhYTcxMTBiODBjMmIwZjUyLnNldENvbnRlbnQoaHRtbF9iNzQ3NDNlZDc1YzE0MWEyYjBiZTEzY2M2MDUwNWI2Nyk7CiAgICAgICAgICAgIAoKICAgICAgICAgICAgY2lyY2xlX21hcmtlcl8zOThjODBjNjcwODU0ZTYyOGRhZjMzNTMzNzgzZTk0ZC5iaW5kUG9wdXAocG9wdXBfOWI2YjAzM2E0OTcwNGFiNmFhNzExMGI4MGMyYjBmNTIpOwoKICAgICAgICAgICAgCiAgICAgICAgCiAgICAKICAgICAgICAgICAgdmFyIGNpcmNsZV9tYXJrZXJfYzFmM2I3NTQwMzZiNDZlZWIxYjBkYmJkOGE4NGM3MmUgPSBMLmNpcmNsZU1hcmtlcigKICAgICAgICAgICAgICAgIFsxLjMxNDM4MDAwMDAwMDAyODMsMTAzLjc2NTM3MDAwMDAwMDA4XSwKICAgICAgICAgICAgICAgIHsKICAiYnViYmxpbmdNb3VzZUV2ZW50cyI6IHRydWUsCiAgImNvbG9yIjogIiM4MGZmYjQiLAogICJkYXNoQXJyYXkiOiBudWxsLAogICJkYXNoT2Zmc2V0IjogbnVsbCwKICAiZmlsbCI6IHRydWUsCiAgImZpbGxDb2xvciI6ICIjODBmZmI0IiwKICAiZmlsbE9wYWNpdHkiOiAwLjcsCiAgImZpbGxSdWxlIjogImV2ZW5vZGQiLAogICJsaW5lQ2FwIjogInJvdW5kIiwKICAibGluZUpvaW4iOiAicm91bmQiLAogICJvcGFjaXR5IjogMS4wLAogICJyYWRpdXMiOiA1LAogICJzdHJva2UiOiB0cnVlLAogICJ3ZWlnaHQiOiAzCn0KICAgICAgICAgICAgICAgICkuYWRkVG8obWFwXzAwODMxMDY3NjBmNDQxMmRhMTNjOTk5MTcxOGE3NWRkKTsKICAgICAgICAgICAgCiAgICAKICAgICAgICAgICAgdmFyIHBvcHVwX2QzNGNiYjQwNjVlMDRhOGFhMTczMTA3MTBkN2ZhNDBlID0gTC5wb3B1cCh7bWF4V2lkdGg6ICczMDAnfSk7CgogICAgICAgICAgICAKICAgICAgICAgICAgICAgIHZhciBodG1sXzk3ZmY3NzAyMzUyYTQ4MDBiMDM3ZGYxZjM0OTIwNDFmID0gJCgnPGRpdiBpZD0iaHRtbF85N2ZmNzcwMjM1MmE0ODAwYjAzN2RmMWYzNDkyMDQxZiIgc3R5bGU9IndpZHRoOiAxMDAuMCU7IGhlaWdodDogMTAwLjAlOyI+Q2xlbWVudGkgLSBDbHVzdGVyIDI8L2Rpdj4nKVswXTsKICAgICAgICAgICAgICAgIHBvcHVwX2QzNGNiYjQwNjVlMDRhOGFhMTczMTA3MTBkN2ZhNDBlLnNldENvbnRlbnQoaHRtbF85N2ZmNzcwMjM1MmE0ODAwYjAzN2RmMWYzNDkyMDQxZik7CiAgICAgICAgICAgIAoKICAgICAgICAgICAgY2lyY2xlX21hcmtlcl9jMWYzYjc1NDAzNmI0NmVlYjFiMGRiYmQ4YTg0YzcyZS5iaW5kUG9wdXAocG9wdXBfZDM0Y2JiNDA2NWUwNGE4YWExNzMxMDcxMGQ3ZmE0MGUpOwoKICAgICAgICAgICAgCiAgICAgICAgCiAgICAKICAgICAgICAgICAgdmFyIGNpcmNsZV9tYXJrZXJfMGY0MzU5ZTNmM2I2NDllNTk5MThjYmVlOTgyNjUyMDIgPSBMLmNpcmNsZU1hcmtlcigKICAgICAgICAgICAgICAgIFsxLjM4NjE2MDAwMDAwMDA3NDksMTAzLjc0NjE4MDAwMDAwMDA0XSwKICAgICAgICAgICAgICAgIHsKICAiYnViYmxpbmdNb3VzZUV2ZW50cyI6IHRydWUsCiAgImNvbG9yIjogIiM4MGZmYjQiLAogICJkYXNoQXJyYXkiOiBudWxsLAogICJkYXNoT2Zmc2V0IjogbnVsbCwKICAiZmlsbCI6IHRydWUsCiAgImZpbGxDb2xvciI6ICIjODBmZmI0IiwKICAiZmlsbE9wYWNpdHkiOiAwLjcsCiAgImZpbGxSdWxlIjogImV2ZW5vZGQiLAogICJsaW5lQ2FwIjogInJvdW5kIiwKICAibGluZUpvaW4iOiAicm91bmQiLAogICJvcGFjaXR5IjogMS4wLAogICJyYWRpdXMiOiA1LAogICJzdHJva2UiOiB0cnVlLAogICJ3ZWlnaHQiOiAzCn0KICAgICAgICAgICAgICAgICkuYWRkVG8obWFwXzAwODMxMDY3NjBmNDQxMmRhMTNjOTk5MTcxOGE3NWRkKTsKICAgICAgICAgICAgCiAgICAKICAgICAgICAgICAgdmFyIHBvcHVwXzBkMTE4YjU0ZWQwMzQ5YTc4ZmZlODlkYWU1ZDIxNDJlID0gTC5wb3B1cCh7bWF4V2lkdGg6ICczMDAnfSk7CgogICAgICAgICAgICAKICAgICAgICAgICAgICAgIHZhciBodG1sXzc2ODYwMjBhNmRhZTQzYTBhNjJjZjQ1NzU0ZWRjMDVmID0gJCgnPGRpdiBpZD0iaHRtbF83Njg2MDIwYTZkYWU0M2EwYTYyY2Y0NTc1NGVkYzA1ZiIgc3R5bGU9IndpZHRoOiAxMDAuMCU7IGhlaWdodDogMTAwLjAlOyI+Q2hvYSBDaHUgS2FuZyAtIENsdXN0ZXIgMjwvZGl2PicpWzBdOwogICAgICAgICAgICAgICAgcG9wdXBfMGQxMThiNTRlZDAzNDlhNzhmZmU4OWRhZTVkMjE0MmUuc2V0Q29udGVudChodG1sXzc2ODYwMjBhNmRhZTQzYTBhNjJjZjQ1NzU0ZWRjMDVmKTsKICAgICAgICAgICAgCgogICAgICAgICAgICBjaXJjbGVfbWFya2VyXzBmNDM1OWUzZjNiNjQ5ZTU5OTE4Y2JlZTk4MjY1MjAyLmJpbmRQb3B1cChwb3B1cF8wZDExOGI1NGVkMDM0OWE3OGZmZTg5ZGFlNWQyMTQyZSk7CgogICAgICAgICAgICAKICAgICAgICAKICAgIAogICAgICAgICAgICB2YXIgY2lyY2xlX21hcmtlcl9lMjE0NjdmMDQ5ZTM0Y2M0ODg5YmM2N2JhNDUxODNjNSA9IEwuY2lyY2xlTWFya2VyKAogICAgICAgICAgICAgICAgWzEuMzU1MTQwMDAwMDAwMDYyNiwxMDMuOTkwMDYwMDAwMDAwMDhdLAogICAgICAgICAgICAgICAgewogICJidWJibGluZ01vdXNlRXZlbnRzIjogdHJ1ZSwKICAiY29sb3IiOiAiIzgwZmZiNCIsCiAgImRhc2hBcnJheSI6IG51bGwsCiAgImRhc2hPZmZzZXQiOiBudWxsLAogICJmaWxsIjogdHJ1ZSwKICAiZmlsbENvbG9yIjogIiM4MGZmYjQiLAogICJmaWxsT3BhY2l0eSI6IDAuNywKICAiZmlsbFJ1bGUiOiAiZXZlbm9kZCIsCiAgImxpbmVDYXAiOiAicm91bmQiLAogICJsaW5lSm9pbiI6ICJyb3VuZCIsCiAgIm9wYWNpdHkiOiAxLjAsCiAgInJhZGl1cyI6IDUsCiAgInN0cm9rZSI6IHRydWUsCiAgIndlaWdodCI6IDMKfQogICAgICAgICAgICAgICAgKS5hZGRUbyhtYXBfMDA4MzEwNjc2MGY0NDEyZGExM2M5OTkxNzE4YTc1ZGQpOwogICAgICAgICAgICAKICAgIAogICAgICAgICAgICB2YXIgcG9wdXBfNWE2OWNkOGE3MWU0NDAzM2ExZmI2ZGQ5MjBjNzVkMDcgPSBMLnBvcHVwKHttYXhXaWR0aDogJzMwMCd9KTsKCiAgICAgICAgICAgIAogICAgICAgICAgICAgICAgdmFyIGh0bWxfNGM1ZDlkNjJlMWFmNDI2OTg5YTBlNjUxN2YxYjkwZmMgPSAkKCc8ZGl2IGlkPSJodG1sXzRjNWQ5ZDYyZTFhZjQyNjk4OWEwZTY1MTdmMWI5MGZjIiBzdHlsZT0id2lkdGg6IDEwMC4wJTsgaGVpZ2h0OiAxMDAuMCU7Ij5DaGFuZ2kgLSBDbHVzdGVyIDI8L2Rpdj4nKVswXTsKICAgICAgICAgICAgICAgIHBvcHVwXzVhNjljZDhhNzFlNDQwMzNhMWZiNmRkOTIwYzc1ZDA3LnNldENvbnRlbnQoaHRtbF80YzVkOWQ2MmUxYWY0MjY5ODlhMGU2NTE3ZjFiOTBmYyk7CiAgICAgICAgICAgIAoKICAgICAgICAgICAgY2lyY2xlX21hcmtlcl9lMjE0NjdmMDQ5ZTM0Y2M0ODg5YmM2N2JhNDUxODNjNS5iaW5kUG9wdXAocG9wdXBfNWE2OWNkOGE3MWU0NDAzM2ExZmI2ZGQ5MjBjNzVkMDcpOwoKICAgICAgICAgICAgCiAgICAgICAgCiAgICAKICAgICAgICAgICAgdmFyIGNpcmNsZV9tYXJrZXJfNTEzZTVlMGY1YWYzNDNlYTg5NmU0OTQ2YzQ3MTlmNTYgPSBMLmNpcmNsZU1hcmtlcigKICAgICAgICAgICAgICAgIFsxLjM0MDQxMDAwMDAwMDAxOTksMTAzLjc3MjIxMDAwMDAwMDA5XSwKICAgICAgICAgICAgICAgIHsKICAiYnViYmxpbmdNb3VzZUV2ZW50cyI6IHRydWUsCiAgImNvbG9yIjogIiM4MGZmYjQiLAogICJkYXNoQXJyYXkiOiBudWxsLAogICJkYXNoT2Zmc2V0IjogbnVsbCwKICAiZmlsbCI6IHRydWUsCiAgImZpbGxDb2xvciI6ICIjODBmZmI0IiwKICAiZmlsbE9wYWNpdHkiOiAwLjcsCiAgImZpbGxSdWxlIjogImV2ZW5vZGQiLAogICJsaW5lQ2FwIjogInJvdW5kIiwKICAibGluZUpvaW4iOiAicm91bmQiLAogICJvcGFjaXR5IjogMS4wLAogICJyYWRpdXMiOiA1LAogICJzdHJva2UiOiB0cnVlLAogICJ3ZWlnaHQiOiAzCn0KICAgICAgICAgICAgICAgICkuYWRkVG8obWFwXzAwODMxMDY3NjBmNDQxMmRhMTNjOTk5MTcxOGE3NWRkKTsKICAgICAgICAgICAgCiAgICAKICAgICAgICAgICAgdmFyIHBvcHVwXzA5ODAxMTAzNmViMDRiMjZiOGEyNzczZDY5MGI0YTZhID0gTC5wb3B1cCh7bWF4V2lkdGg6ICczMDAnfSk7CgogICAgICAgICAgICAKICAgICAgICAgICAgICAgIHZhciBodG1sXzhiNDJmZjM2ZWZmNDQ3NjQ5MDA1MDliMGQxYjIzOTBjID0gJCgnPGRpdiBpZD0iaHRtbF84YjQyZmYzNmVmZjQ0NzY0OTAwNTA5YjBkMWIyMzkwYyIgc3R5bGU9IndpZHRoOiAxMDAuMCU7IGhlaWdodDogMTAwLjAlOyI+QnVraXQgVGltYWggLSBDbHVzdGVyIDI8L2Rpdj4nKVswXTsKICAgICAgICAgICAgICAgIHBvcHVwXzA5ODAxMTAzNmViMDRiMjZiOGEyNzczZDY5MGI0YTZhLnNldENvbnRlbnQoaHRtbF84YjQyZmYzNmVmZjQ0NzY0OTAwNTA5YjBkMWIyMzkwYyk7CiAgICAgICAgICAgIAoKICAgICAgICAgICAgY2lyY2xlX21hcmtlcl81MTNlNWUwZjVhZjM0M2VhODk2ZTQ5NDZjNDcxOWY1Ni5iaW5kUG9wdXAocG9wdXBfMDk4MDExMDM2ZWIwNGIyNmI4YTI3NzNkNjkwYjRhNmEpOwoKICAgICAgICAgICAgCiAgICAgICAgCiAgICAKICAgICAgICAgICAgdmFyIGNpcmNsZV9tYXJrZXJfODZiNDlmNTU5M2NiNDNjNTlkNzQyYTRlNzY2ZDBlYTUgPSBMLmNpcmNsZU1hcmtlcigKICAgICAgICAgICAgICAgIFsxLjMzMzMzMDAwMDAwMDA0NjMsMTAzLjcwMDAwMDAwMDAwMDA1XSwKICAgICAgICAgICAgICAgIHsKICAiYnViYmxpbmdNb3VzZUV2ZW50cyI6IHRydWUsCiAgImNvbG9yIjogIiM4MGZmYjQiLAogICJkYXNoQXJyYXkiOiBudWxsLAogICJkYXNoT2Zmc2V0IjogbnVsbCwKICAiZmlsbCI6IHRydWUsCiAgImZpbGxDb2xvciI6ICIjODBmZmI0IiwKICAiZmlsbE9wYWNpdHkiOiAwLjcsCiAgImZpbGxSdWxlIjogImV2ZW5vZGQiLAogICJsaW5lQ2FwIjogInJvdW5kIiwKICAibGluZUpvaW4iOiAicm91bmQiLAogICJvcGFjaXR5IjogMS4wLAogICJyYWRpdXMiOiA1LAogICJzdHJva2UiOiB0cnVlLAogICJ3ZWlnaHQiOiAzCn0KICAgICAgICAgICAgICAgICkuYWRkVG8obWFwXzAwODMxMDY3NjBmNDQxMmRhMTNjOTk5MTcxOGE3NWRkKTsKICAgICAgICAgICAgCiAgICAKICAgICAgICAgICAgdmFyIHBvcHVwXzJjMDliOTNiZTljMjQxYTFiZTg3N2JhMTRjNTdlYjdhID0gTC5wb3B1cCh7bWF4V2lkdGg6ICczMDAnfSk7CgogICAgICAgICAgICAKICAgICAgICAgICAgICAgIHZhciBodG1sXzg1YWQ0NzQwYWM0OTRlZTI5YTcxYjM4YWYyODU3ZDA1ID0gJCgnPGRpdiBpZD0iaHRtbF84NWFkNDc0MGFjNDk0ZWUyOWE3MWIzOGFmMjg1N2QwNSIgc3R5bGU9IndpZHRoOiAxMDAuMCU7IGhlaWdodDogMTAwLjAlOyI+Qm9vbmxheSAtIENsdXN0ZXIgMjwvZGl2PicpWzBdOwogICAgICAgICAgICAgICAgcG9wdXBfMmMwOWI5M2JlOWMyNDFhMWJlODc3YmExNGM1N2ViN2Euc2V0Q29udGVudChodG1sXzg1YWQ0NzQwYWM0OTRlZTI5YTcxYjM4YWYyODU3ZDA1KTsKICAgICAgICAgICAgCgogICAgICAgICAgICBjaXJjbGVfbWFya2VyXzg2YjQ5ZjU1OTNjYjQzYzU5ZDc0MmE0ZTc2NmQwZWE1LmJpbmRQb3B1cChwb3B1cF8yYzA5YjkzYmU5YzI0MWExYmU4NzdiYTE0YzU3ZWI3YSk7CgogICAgICAgICAgICAKICAgICAgICAKICAgIAogICAgICAgICAgICB2YXIgY2lyY2xlX21hcmtlcl9hOTU5OWM0YTM2MGM0ZjhlYTVhNDJjZGQyYzcyMzc5MyA9IEwuY2lyY2xlTWFya2VyKAogICAgICAgICAgICAgICAgWzEuMzUwNzkwMDAwMDAwMDc0NSwxMDMuODUxMTAwMDAwMDAwMDldLAogICAgICAgICAgICAgICAgewogICJidWJibGluZ01vdXNlRXZlbnRzIjogdHJ1ZSwKICAiY29sb3IiOiAiIzgwZmZiNCIsCiAgImRhc2hBcnJheSI6IG51bGwsCiAgImRhc2hPZmZzZXQiOiBudWxsLAogICJmaWxsIjogdHJ1ZSwKICAiZmlsbENvbG9yIjogIiM4MGZmYjQiLAogICJmaWxsT3BhY2l0eSI6IDAuNywKICAiZmlsbFJ1bGUiOiAiZXZlbm9kZCIsCiAgImxpbmVDYXAiOiAicm91bmQiLAogICJsaW5lSm9pbiI6ICJyb3VuZCIsCiAgIm9wYWNpdHkiOiAxLjAsCiAgInJhZGl1cyI6IDUsCiAgInN0cm9rZSI6IHRydWUsCiAgIndlaWdodCI6IDMKfQogICAgICAgICAgICAgICAgKS5hZGRUbyhtYXBfMDA4MzEwNjc2MGY0NDEyZGExM2M5OTkxNzE4YTc1ZGQpOwogICAgICAgICAgICAKICAgIAogICAgICAgICAgICB2YXIgcG9wdXBfZTZjOGYyMjAzMzg2NGJjZDk2MjdkNGE0OThhZGQyY2MgPSBMLnBvcHVwKHttYXhXaWR0aDogJzMwMCd9KTsKCiAgICAgICAgICAgIAogICAgICAgICAgICAgICAgdmFyIGh0bWxfMjNjMDY2M2NmMDI0NDgwOGE0NDA0YjAwNzI0N2Q0YzUgPSAkKCc8ZGl2IGlkPSJodG1sXzIzYzA2NjNjZjAyNDQ4MDhhNDQwNGIwMDcyNDdkNGM1IiBzdHlsZT0id2lkdGg6IDEwMC4wJTsgaGVpZ2h0OiAxMDAuMCU7Ij5CaXNoYW0gLSBDbHVzdGVyIDI8L2Rpdj4nKVswXTsKICAgICAgICAgICAgICAgIHBvcHVwX2U2YzhmMjIwMzM4NjRiY2Q5NjI3ZDRhNDk4YWRkMmNjLnNldENvbnRlbnQoaHRtbF8yM2MwNjYzY2YwMjQ0ODA4YTQ0MDRiMDA3MjQ3ZDRjNSk7CiAgICAgICAgICAgIAoKICAgICAgICAgICAgY2lyY2xlX21hcmtlcl9hOTU5OWM0YTM2MGM0ZjhlYTVhNDJjZGQyYzcyMzc5My5iaW5kUG9wdXAocG9wdXBfZTZjOGYyMjAzMzg2NGJjZDk2MjdkNGE0OThhZGQyY2MpOwoKICAgICAgICAgICAgCiAgICAgICAgCiAgICAKICAgICAgICAgICAgdmFyIGNpcmNsZV9tYXJrZXJfYjNjNDUxNzAxOTYyNDQyZWI0YzQ4NTdjODRmNTExMmEgPSBMLmNpcmNsZU1hcmtlcigKICAgICAgICAgICAgICAgIFsxLjMyNDI1MDAwMDAwMDA2MzIsMTAzLjk1Mjk3MDAwMDAwMDA1XSwKICAgICAgICAgICAgICAgIHsKICAiYnViYmxpbmdNb3VzZUV2ZW50cyI6IHRydWUsCiAgImNvbG9yIjogIiM4MGZmYjQiLAogICJkYXNoQXJyYXkiOiBudWxsLAogICJkYXNoT2Zmc2V0IjogbnVsbCwKICAiZmlsbCI6IHRydWUsCiAgImZpbGxDb2xvciI6ICIjODBmZmI0IiwKICAiZmlsbE9wYWNpdHkiOiAwLjcsCiAgImZpbGxSdWxlIjogImV2ZW5vZGQiLAogICJsaW5lQ2FwIjogInJvdW5kIiwKICAibGluZUpvaW4iOiAicm91bmQiLAogICJvcGFjaXR5IjogMS4wLAogICJyYWRpdXMiOiA1LAogICJzdHJva2UiOiB0cnVlLAogICJ3ZWlnaHQiOiAzCn0KICAgICAgICAgICAgICAgICkuYWRkVG8obWFwXzAwODMxMDY3NjBmNDQxMmRhMTNjOTk5MTcxOGE3NWRkKTsKICAgICAgICAgICAgCiAgICAKICAgICAgICAgICAgdmFyIHBvcHVwXzY1MjI4ZTZhMDM3YjRhNmQ5N2U0ZTQ4MWM4MzIyMGZhID0gTC5wb3B1cCh7bWF4V2lkdGg6ICczMDAnfSk7CgogICAgICAgICAgICAKICAgICAgICAgICAgICAgIHZhciBodG1sXzhiMWRlY2FhZDJmMjRkMjg5YmI1OTZhZjNhZDI3ZWFmID0gJCgnPGRpdiBpZD0iaHRtbF84YjFkZWNhYWQyZjI0ZDI4OWJiNTk2YWYzYWQyN2VhZiIgc3R5bGU9IndpZHRoOiAxMDAuMCU7IGhlaWdodDogMTAwLjAlOyI+QmVkb2sgLSBDbHVzdGVyIDI8L2Rpdj4nKVswXTsKICAgICAgICAgICAgICAgIHBvcHVwXzY1MjI4ZTZhMDM3YjRhNmQ5N2U0ZTQ4MWM4MzIyMGZhLnNldENvbnRlbnQoaHRtbF84YjFkZWNhYWQyZjI0ZDI4OWJiNTk2YWYzYWQyN2VhZik7CiAgICAgICAgICAgIAoKICAgICAgICAgICAgY2lyY2xlX21hcmtlcl9iM2M0NTE3MDE5NjI0NDJlYjRjNDg1N2M4NGY1MTEyYS5iaW5kUG9wdXAocG9wdXBfNjUyMjhlNmEwMzdiNGE2ZDk3ZTRlNDgxYzgzMjIwZmEpOwoKICAgICAgICAgICAgCiAgICAgICAgCiAgICAKICAgICAgICAgICAgdmFyIGNpcmNsZV9tYXJrZXJfNjBiNmM1M2Q4OGI4NDQ5ZmJiZjhkOTVhY2Y5NTg5NjQgPSBMLmNpcmNsZU1hcmtlcigKICAgICAgICAgICAgICAgIFsxLjM3MTk0MDAwMDAwMDA1MiwxMDMuOTQ5OTQwMDAwMDAwMDhdLAogICAgICAgICAgICAgICAgewogICJidWJibGluZ01vdXNlRXZlbnRzIjogdHJ1ZSwKICAiY29sb3IiOiAiIzgwZmZiNCIsCiAgImRhc2hBcnJheSI6IG51bGwsCiAgImRhc2hPZmZzZXQiOiBudWxsLAogICJmaWxsIjogdHJ1ZSwKICAiZmlsbENvbG9yIjogIiM4MGZmYjQiLAogICJmaWxsT3BhY2l0eSI6IDAuNywKICAiZmlsbFJ1bGUiOiAiZXZlbm9kZCIsCiAgImxpbmVDYXAiOiAicm91bmQiLAogICJsaW5lSm9pbiI6ICJyb3VuZCIsCiAgIm9wYWNpdHkiOiAxLjAsCiAgInJhZGl1cyI6IDUsCiAgInN0cm9rZSI6IHRydWUsCiAgIndlaWdodCI6IDMKfQogICAgICAgICAgICAgICAgKS5hZGRUbyhtYXBfMDA4MzEwNjc2MGY0NDEyZGExM2M5OTkxNzE4YTc1ZGQpOwogICAgICAgICAgICAKICAgIAogICAgICAgICAgICB2YXIgcG9wdXBfZWE1NmNiZjJhNDJhNDEzYmE4YWE2MDRhNDIxZmE3OWQgPSBMLnBvcHVwKHttYXhXaWR0aDogJzMwMCd9KTsKCiAgICAgICAgICAgIAogICAgICAgICAgICAgICAgdmFyIGh0bWxfZjNhYjNhMjk5NTFhNGU4MWEzNTUwYjI1YTA0NGNkNTcgPSAkKCc8ZGl2IGlkPSJodG1sX2YzYWIzYTI5OTUxYTRlODFhMzU1MGIyNWEwNDRjZDU3IiBzdHlsZT0id2lkdGg6IDEwMC4wJTsgaGVpZ2h0OiAxMDAuMCU7Ij5QYXNpciBSaXMgLSBDbHVzdGVyIDI8L2Rpdj4nKVswXTsKICAgICAgICAgICAgICAgIHBvcHVwX2VhNTZjYmYyYTQyYTQxM2JhOGFhNjA0YTQyMWZhNzlkLnNldENvbnRlbnQoaHRtbF9mM2FiM2EyOTk1MWE0ZTgxYTM1NTBiMjVhMDQ0Y2Q1Nyk7CiAgICAgICAgICAgIAoKICAgICAgICAgICAgY2lyY2xlX21hcmtlcl82MGI2YzUzZDg4Yjg0NDlmYmJmOGQ5NWFjZjk1ODk2NC5iaW5kUG9wdXAocG9wdXBfZWE1NmNiZjJhNDJhNDEzYmE4YWE2MDRhNDIxZmE3OWQpOwoKICAgICAgICAgICAgCiAgICAgICAgCiAgICAKICAgICAgICAgICAgdmFyIGNpcmNsZV9tYXJrZXJfOWNkYjE1M2IxYmRhNDg3N2FjZTYzYWFiZmMzNzJjNDIgPSBMLmNpcmNsZU1hcmtlcigKICAgICAgICAgICAgICAgIFsxLjQzNjIxMDAwMDAwMDA3MzcsMTAzLjgzNTgyMDAwMDAwMDA3XSwKICAgICAgICAgICAgICAgIHsKICAiYnViYmxpbmdNb3VzZUV2ZW50cyI6IHRydWUsCiAgImNvbG9yIjogIiM4MGZmYjQiLAogICJkYXNoQXJyYXkiOiBudWxsLAogICJkYXNoT2Zmc2V0IjogbnVsbCwKICAiZmlsbCI6IHRydWUsCiAgImZpbGxDb2xvciI6ICIjODBmZmI0IiwKICAiZmlsbE9wYWNpdHkiOiAwLjcsCiAgImZpbGxSdWxlIjogImV2ZW5vZGQiLAogICJsaW5lQ2FwIjogInJvdW5kIiwKICAibGluZUpvaW4iOiAicm91bmQiLAogICJvcGFjaXR5IjogMS4wLAogICJyYWRpdXMiOiA1LAogICJzdHJva2UiOiB0cnVlLAogICJ3ZWlnaHQiOiAzCn0KICAgICAgICAgICAgICAgICkuYWRkVG8obWFwXzAwODMxMDY3NjBmNDQxMmRhMTNjOTk5MTcxOGE3NWRkKTsKICAgICAgICAgICAgCiAgICAKICAgICAgICAgICAgdmFyIHBvcHVwXzAwZjVjMDBjY2RhZDQxODliYzkxNzRkMmQ4ZDcwOWQ4ID0gTC5wb3B1cCh7bWF4V2lkdGg6ICczMDAnfSk7CgogICAgICAgICAgICAKICAgICAgICAgICAgICAgIHZhciBodG1sXzQ0ZGRlZjI1MTVkYjRhNWU4ZTVhNWVmNWRmZThjNmM2ID0gJCgnPGRpdiBpZD0iaHRtbF80NGRkZWYyNTE1ZGI0YTVlOGU1YTVlZjVkZmU4YzZjNiIgc3R5bGU9IndpZHRoOiAxMDAuMCU7IGhlaWdodDogMTAwLjAlOyI+WWlzaHVuIC0gQ2x1c3RlciAyPC9kaXY+JylbMF07CiAgICAgICAgICAgICAgICBwb3B1cF8wMGY1YzAwY2NkYWQ0MTg5YmM5MTc0ZDJkOGQ3MDlkOC5zZXRDb250ZW50KGh0bWxfNDRkZGVmMjUxNWRiNGE1ZThlNWE1ZWY1ZGZlOGM2YzYpOwogICAgICAgICAgICAKCiAgICAgICAgICAgIGNpcmNsZV9tYXJrZXJfOWNkYjE1M2IxYmRhNDg3N2FjZTYzYWFiZmMzNzJjNDIuYmluZFBvcHVwKHBvcHVwXzAwZjVjMDBjY2RhZDQxODliYzkxNzRkMmQ4ZDcwOWQ4KTsKCiAgICAgICAgICAgIAogICAgICAgIAo8L3NjcmlwdD4= onload=\"this.contentDocument.open();this.contentDocument.write(atob(this.getAttribute('data-html')));this.contentDocument.close();\" allowfullscreen webkitallowfullscreen mozallowfullscreen></iframe></div></div>"
     },
     "metadata": {},
     "execution_count": 110
    }
   ],
   "source": [
    "# create map\n",
    "map_clusters = folium.Map(location=[latitude_sg, longitude_sg], zoom_start=12)\n",
    "\n",
    "# set color scheme for the clusters\n",
    "x = np.arange(kclusters)\n",
    "ys = [i+x+(i*x)**2 for i in range(kclusters)]\n",
    "colors_array = cm.rainbow(np.linspace(0, 1, len(ys)))\n",
    "rainbow = [colors.rgb2hex(i) for i in colors_array]\n",
    "\n",
    "# add markers to the map\n",
    "markers_colors = []\n",
    "for lat, lon, poi, cluster in zip(sg_merged['latitude'], sg_merged['longtitude'], sg_merged['Neighborhood'], sg_merged['Cluster Labels']):\n",
    "    label = folium.Popup(str(poi) + ' - Cluster ' + str(cluster), parse_html=True)\n",
    "    folium.CircleMarker(\n",
    "        [lat, lon],\n",
    "        radius=5,\n",
    "        popup=label,\n",
    "        color=rainbow[cluster-1],\n",
    "        fill=True,\n",
    "        fill_color=rainbow[cluster-1],\n",
    "        fill_opacity=0.7).add_to(map_clusters)\n",
    "       \n",
    "map_clusters"
   ]
  },
  {
   "source": [
    "## Examine the clusters"
   ],
   "cell_type": "markdown",
   "metadata": {}
  },
  {
   "cell_type": "code",
   "execution_count": 111,
   "metadata": {},
   "outputs": [
    {
     "output_type": "execute_result",
     "data": {
      "text/plain": [
       "     Neighborhood  Shopping Mall  Cluster Labels  latitude  longtitude\n",
       "0      Ang Mo Kio            0.0               0  1.371610  103.845460\n",
       "24     Queenstown            0.0               0  1.299660  103.801720\n",
       "13        Hougang            0.0               0  1.371240  103.891620\n",
       "26        Seletar            0.0               0  1.410000  103.874170\n",
       "22     Paya Lebar            0.0               0  1.325030  103.890490\n",
       "30         Siglap            0.0               0  1.310590  103.925400\n",
       "7       Chinatown            0.0               0  1.284790  103.844190\n",
       "20         Outram            0.0               0  1.284268  103.835192\n",
       "33  Tanjong Pagar            0.0               0  1.278890  103.845390\n",
       "35      Toa Payoh            0.0               0  1.334480  103.851080\n",
       "31       Tampines            0.0               0  1.368190  103.929480"
      ],
      "text/html": "<div>\n<style scoped>\n    .dataframe tbody tr th:only-of-type {\n        vertical-align: middle;\n    }\n\n    .dataframe tbody tr th {\n        vertical-align: top;\n    }\n\n    .dataframe thead th {\n        text-align: right;\n    }\n</style>\n<table border=\"1\" class=\"dataframe\">\n  <thead>\n    <tr style=\"text-align: right;\">\n      <th></th>\n      <th>Neighborhood</th>\n      <th>Shopping Mall</th>\n      <th>Cluster Labels</th>\n      <th>latitude</th>\n      <th>longtitude</th>\n    </tr>\n  </thead>\n  <tbody>\n    <tr>\n      <th>0</th>\n      <td>Ang Mo Kio</td>\n      <td>0.0</td>\n      <td>0</td>\n      <td>1.371610</td>\n      <td>103.845460</td>\n    </tr>\n    <tr>\n      <th>24</th>\n      <td>Queenstown</td>\n      <td>0.0</td>\n      <td>0</td>\n      <td>1.299660</td>\n      <td>103.801720</td>\n    </tr>\n    <tr>\n      <th>13</th>\n      <td>Hougang</td>\n      <td>0.0</td>\n      <td>0</td>\n      <td>1.371240</td>\n      <td>103.891620</td>\n    </tr>\n    <tr>\n      <th>26</th>\n      <td>Seletar</td>\n      <td>0.0</td>\n      <td>0</td>\n      <td>1.410000</td>\n      <td>103.874170</td>\n    </tr>\n    <tr>\n      <th>22</th>\n      <td>Paya Lebar</td>\n      <td>0.0</td>\n      <td>0</td>\n      <td>1.325030</td>\n      <td>103.890490</td>\n    </tr>\n    <tr>\n      <th>30</th>\n      <td>Siglap</td>\n      <td>0.0</td>\n      <td>0</td>\n      <td>1.310590</td>\n      <td>103.925400</td>\n    </tr>\n    <tr>\n      <th>7</th>\n      <td>Chinatown</td>\n      <td>0.0</td>\n      <td>0</td>\n      <td>1.284790</td>\n      <td>103.844190</td>\n    </tr>\n    <tr>\n      <th>20</th>\n      <td>Outram</td>\n      <td>0.0</td>\n      <td>0</td>\n      <td>1.284268</td>\n      <td>103.835192</td>\n    </tr>\n    <tr>\n      <th>33</th>\n      <td>Tanjong Pagar</td>\n      <td>0.0</td>\n      <td>0</td>\n      <td>1.278890</td>\n      <td>103.845390</td>\n    </tr>\n    <tr>\n      <th>35</th>\n      <td>Toa Payoh</td>\n      <td>0.0</td>\n      <td>0</td>\n      <td>1.334480</td>\n      <td>103.851080</td>\n    </tr>\n    <tr>\n      <th>31</th>\n      <td>Tampines</td>\n      <td>0.0</td>\n      <td>0</td>\n      <td>1.368190</td>\n      <td>103.929480</td>\n    </tr>\n  </tbody>\n</table>\n</div>"
     },
     "metadata": {},
     "execution_count": 111
    }
   ],
   "source": [
    "sg_merged.loc[sg_merged['Cluster Labels'] == 0]"
   ]
  },
  {
   "cell_type": "code",
   "execution_count": 112,
   "metadata": {},
   "outputs": [
    {
     "output_type": "execute_result",
     "data": {
      "text/plain": [
       "     Neighborhood  Shopping Mall  Cluster Labels  latitude  longtitude\n",
       "4   Bukit Panjang       0.042254               1   1.37877   103.76977\n",
       "34    Tiong Bahru       0.040000               1   1.28953   103.83208\n",
       "14    Jurong East       0.030000               1   1.33437   103.74367\n",
       "25         Rochor       0.030000               1   1.30413   103.85029\n",
       "23        Punggol       0.030000               1   1.40246   103.90686\n",
       "36      Woodlands       0.034483               1   1.43585   103.78698\n",
       "28       Sengkang       0.030000               1   1.39244   103.89470"
      ],
      "text/html": "<div>\n<style scoped>\n    .dataframe tbody tr th:only-of-type {\n        vertical-align: middle;\n    }\n\n    .dataframe tbody tr th {\n        vertical-align: top;\n    }\n\n    .dataframe thead th {\n        text-align: right;\n    }\n</style>\n<table border=\"1\" class=\"dataframe\">\n  <thead>\n    <tr style=\"text-align: right;\">\n      <th></th>\n      <th>Neighborhood</th>\n      <th>Shopping Mall</th>\n      <th>Cluster Labels</th>\n      <th>latitude</th>\n      <th>longtitude</th>\n    </tr>\n  </thead>\n  <tbody>\n    <tr>\n      <th>4</th>\n      <td>Bukit Panjang</td>\n      <td>0.042254</td>\n      <td>1</td>\n      <td>1.37877</td>\n      <td>103.76977</td>\n    </tr>\n    <tr>\n      <th>34</th>\n      <td>Tiong Bahru</td>\n      <td>0.040000</td>\n      <td>1</td>\n      <td>1.28953</td>\n      <td>103.83208</td>\n    </tr>\n    <tr>\n      <th>14</th>\n      <td>Jurong East</td>\n      <td>0.030000</td>\n      <td>1</td>\n      <td>1.33437</td>\n      <td>103.74367</td>\n    </tr>\n    <tr>\n      <th>25</th>\n      <td>Rochor</td>\n      <td>0.030000</td>\n      <td>1</td>\n      <td>1.30413</td>\n      <td>103.85029</td>\n    </tr>\n    <tr>\n      <th>23</th>\n      <td>Punggol</td>\n      <td>0.030000</td>\n      <td>1</td>\n      <td>1.40246</td>\n      <td>103.90686</td>\n    </tr>\n    <tr>\n      <th>36</th>\n      <td>Woodlands</td>\n      <td>0.034483</td>\n      <td>1</td>\n      <td>1.43585</td>\n      <td>103.78698</td>\n    </tr>\n    <tr>\n      <th>28</th>\n      <td>Sengkang</td>\n      <td>0.030000</td>\n      <td>1</td>\n      <td>1.39244</td>\n      <td>103.89470</td>\n    </tr>\n  </tbody>\n</table>\n</div>"
     },
     "metadata": {},
     "execution_count": 112
    }
   ],
   "source": [
    "sg_merged.loc[sg_merged['Cluster Labels'] == 1]"
   ]
  },
  {
   "cell_type": "code",
   "execution_count": 113,
   "metadata": {},
   "outputs": [
    {
     "output_type": "execute_result",
     "data": {
      "text/plain": [
       "       Neighborhood  Shopping Mall  Cluster Labels  latitude  longtitude\n",
       "32          Tanglin       0.010000               2   1.31667   103.81667\n",
       "29        Serangoon       0.010000               2   1.35554   103.87660\n",
       "27        Sembawang       0.017857               2   1.44794   103.81891\n",
       "18    Marine Parade       0.010000               2   1.30306   103.90778\n",
       "19           Novena       0.010000               2   1.31910   103.84372\n",
       "17           Katong       0.010000               2   1.30457   103.90288\n",
       "16     Kampong Glam       0.020000               2   1.30413   103.86347\n",
       "15          Kallang       0.010000               2   1.33333   103.86667\n",
       "12  Holland Village       0.010000               2   1.31194   103.79333\n",
       "11     Harbourfront       0.020000               2   1.26520   103.82010\n",
       "10          Geylang       0.010000               2   1.31147   103.88218\n",
       "9          Clementi       0.010000               2   1.31438   103.76537\n",
       "8     Choa Chu Kang       0.012346               2   1.38616   103.74618\n",
       "6            Changi       0.013333               2   1.35514   103.99006\n",
       "5       Bukit Timah       0.010309               2   1.34041   103.77221\n",
       "3           Boonlay       0.020000               2   1.33333   103.70000\n",
       "2            Bisham       0.010000               2   1.35079   103.85110\n",
       "1             Bedok       0.020000               2   1.32425   103.95297\n",
       "21        Pasir Ris       0.010101               2   1.37194   103.94994\n",
       "37           Yishun       0.010870               2   1.43621   103.83582"
      ],
      "text/html": "<div>\n<style scoped>\n    .dataframe tbody tr th:only-of-type {\n        vertical-align: middle;\n    }\n\n    .dataframe tbody tr th {\n        vertical-align: top;\n    }\n\n    .dataframe thead th {\n        text-align: right;\n    }\n</style>\n<table border=\"1\" class=\"dataframe\">\n  <thead>\n    <tr style=\"text-align: right;\">\n      <th></th>\n      <th>Neighborhood</th>\n      <th>Shopping Mall</th>\n      <th>Cluster Labels</th>\n      <th>latitude</th>\n      <th>longtitude</th>\n    </tr>\n  </thead>\n  <tbody>\n    <tr>\n      <th>32</th>\n      <td>Tanglin</td>\n      <td>0.010000</td>\n      <td>2</td>\n      <td>1.31667</td>\n      <td>103.81667</td>\n    </tr>\n    <tr>\n      <th>29</th>\n      <td>Serangoon</td>\n      <td>0.010000</td>\n      <td>2</td>\n      <td>1.35554</td>\n      <td>103.87660</td>\n    </tr>\n    <tr>\n      <th>27</th>\n      <td>Sembawang</td>\n      <td>0.017857</td>\n      <td>2</td>\n      <td>1.44794</td>\n      <td>103.81891</td>\n    </tr>\n    <tr>\n      <th>18</th>\n      <td>Marine Parade</td>\n      <td>0.010000</td>\n      <td>2</td>\n      <td>1.30306</td>\n      <td>103.90778</td>\n    </tr>\n    <tr>\n      <th>19</th>\n      <td>Novena</td>\n      <td>0.010000</td>\n      <td>2</td>\n      <td>1.31910</td>\n      <td>103.84372</td>\n    </tr>\n    <tr>\n      <th>17</th>\n      <td>Katong</td>\n      <td>0.010000</td>\n      <td>2</td>\n      <td>1.30457</td>\n      <td>103.90288</td>\n    </tr>\n    <tr>\n      <th>16</th>\n      <td>Kampong Glam</td>\n      <td>0.020000</td>\n      <td>2</td>\n      <td>1.30413</td>\n      <td>103.86347</td>\n    </tr>\n    <tr>\n      <th>15</th>\n      <td>Kallang</td>\n      <td>0.010000</td>\n      <td>2</td>\n      <td>1.33333</td>\n      <td>103.86667</td>\n    </tr>\n    <tr>\n      <th>12</th>\n      <td>Holland Village</td>\n      <td>0.010000</td>\n      <td>2</td>\n      <td>1.31194</td>\n      <td>103.79333</td>\n    </tr>\n    <tr>\n      <th>11</th>\n      <td>Harbourfront</td>\n      <td>0.020000</td>\n      <td>2</td>\n      <td>1.26520</td>\n      <td>103.82010</td>\n    </tr>\n    <tr>\n      <th>10</th>\n      <td>Geylang</td>\n      <td>0.010000</td>\n      <td>2</td>\n      <td>1.31147</td>\n      <td>103.88218</td>\n    </tr>\n    <tr>\n      <th>9</th>\n      <td>Clementi</td>\n      <td>0.010000</td>\n      <td>2</td>\n      <td>1.31438</td>\n      <td>103.76537</td>\n    </tr>\n    <tr>\n      <th>8</th>\n      <td>Choa Chu Kang</td>\n      <td>0.012346</td>\n      <td>2</td>\n      <td>1.38616</td>\n      <td>103.74618</td>\n    </tr>\n    <tr>\n      <th>6</th>\n      <td>Changi</td>\n      <td>0.013333</td>\n      <td>2</td>\n      <td>1.35514</td>\n      <td>103.99006</td>\n    </tr>\n    <tr>\n      <th>5</th>\n      <td>Bukit Timah</td>\n      <td>0.010309</td>\n      <td>2</td>\n      <td>1.34041</td>\n      <td>103.77221</td>\n    </tr>\n    <tr>\n      <th>3</th>\n      <td>Boonlay</td>\n      <td>0.020000</td>\n      <td>2</td>\n      <td>1.33333</td>\n      <td>103.70000</td>\n    </tr>\n    <tr>\n      <th>2</th>\n      <td>Bisham</td>\n      <td>0.010000</td>\n      <td>2</td>\n      <td>1.35079</td>\n      <td>103.85110</td>\n    </tr>\n    <tr>\n      <th>1</th>\n      <td>Bedok</td>\n      <td>0.020000</td>\n      <td>2</td>\n      <td>1.32425</td>\n      <td>103.95297</td>\n    </tr>\n    <tr>\n      <th>21</th>\n      <td>Pasir Ris</td>\n      <td>0.010101</td>\n      <td>2</td>\n      <td>1.37194</td>\n      <td>103.94994</td>\n    </tr>\n    <tr>\n      <th>37</th>\n      <td>Yishun</td>\n      <td>0.010870</td>\n      <td>2</td>\n      <td>1.43621</td>\n      <td>103.83582</td>\n    </tr>\n  </tbody>\n</table>\n</div>"
     },
     "metadata": {},
     "execution_count": 113
    }
   ],
   "source": [
    "sg_merged.loc[sg_merged['Cluster Labels'] == 2]"
   ]
  },
  {
   "source": [
    "*Observation*\n",
    "\n",
    "Most shopping malls are concentrated in the central area of Singapore with the highest number in cluster 2 and lowest in cluster 1. This project recommends property developers and government to capitalize on these findings to open new shopping malls in neighborhoods in cluster 1 as there is a lack of such malls. Lastly, the government is advised to avoid neighborhoods in cluster 2 which already have high concentration of shopping malls and suffering from intense competition."
   ],
   "cell_type": "markdown",
   "metadata": {}
  }
 ]
}